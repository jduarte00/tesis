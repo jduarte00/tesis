{
 "cells": [
  {
   "cell_type": "markdown",
   "id": "d58373ea-59a9-404d-ab23-1ed6daea6d8e",
   "metadata": {},
   "source": [
    "# Calculo VaR\n",
    "\n",
    "\n",
    "\n",
    "## Introduction to Risk Parity and Budgeting - Example 6 Pág 75"
   ]
  },
  {
   "cell_type": "code",
   "execution_count": 40,
   "id": "ffdb727a-ccf3-4aca-b9f6-786c254d689d",
   "metadata": {},
   "outputs": [],
   "source": [
    "import numpy as np\n",
    "from scipy.stats import norm"
   ]
  },
  {
   "cell_type": "code",
   "execution_count": 27,
   "id": "b2bacf54-3156-4d5f-b404-e97ed8302ab3",
   "metadata": {},
   "outputs": [],
   "source": [
    "prices = np.array([244, 135, 315])\n",
    "quantities = np.array([2, 1, 1])\n",
    "returns = np.array([.005, .003, .002])\n",
    "volatilities = (np.array([.02, .03, .01]))\n",
    "corr_mat = np.matrix([[1.00, 0.5, 0.25],[0.5, 1.0, 0.6],[0.25, 0.6, 1.0]])"
   ]
  },
  {
   "cell_type": "markdown",
   "id": "92c48ef5-d045-4798-b2de-6daa7fefcb6b",
   "metadata": {},
   "source": [
    "Calculando el valor total de portafolio"
   ]
  },
  {
   "cell_type": "code",
   "execution_count": 13,
   "id": "bb0ca402-e32c-475e-9dfb-5bda91fefe12",
   "metadata": {},
   "outputs": [
    {
     "data": {
      "text/plain": [
       "938"
      ]
     },
     "execution_count": 13,
     "metadata": {},
     "output_type": "execute_result"
    }
   ],
   "source": [
    "np.dot(prices, quantities)"
   ]
  },
  {
   "cell_type": "markdown",
   "id": "fdbba158-4a2c-4724-9d3a-de3c13396593",
   "metadata": {},
   "source": [
    "Obteniendo los pesos del portafolio a partir de las cantidades dadasa"
   ]
  },
  {
   "cell_type": "code",
   "execution_count": 14,
   "id": "2aab3021-8d72-4307-bae4-c2bfdcb867ca",
   "metadata": {},
   "outputs": [
    {
     "data": {
      "text/plain": [
       "array([0.52025586, 0.14392324, 0.3358209 ])"
      ]
     },
     "execution_count": 14,
     "metadata": {},
     "output_type": "execute_result"
    }
   ],
   "source": [
    "weigths = prices*quantities/np.dot(prices, quantities)\n",
    "weigths"
   ]
  },
  {
   "cell_type": "markdown",
   "id": "47ef634f-39a9-4b1f-b83f-936eb23b2dd9",
   "metadata": {},
   "source": [
    "Obteniendo el rendimiento esperado del portafolio"
   ]
  },
  {
   "cell_type": "code",
   "execution_count": 6,
   "id": "c0acba0d-21f5-411d-b5b0-837177f24933",
   "metadata": {},
   "outputs": [
    {
     "data": {
      "text/plain": [
       "0.0037046908315565034"
      ]
     },
     "execution_count": 6,
     "metadata": {},
     "output_type": "execute_result"
    }
   ],
   "source": [
    "expected_mean = np.dot(weigths, returns)\n",
    "expected_mean"
   ]
  },
  {
   "cell_type": "markdown",
   "id": "ac0b7029-d790-4d8c-9e2e-8d9d58895dbf",
   "metadata": {},
   "source": [
    "Obteniendo la matriz de varianza covarianza a partir de la matriz de correlación"
   ]
  },
  {
   "cell_type": "code",
   "execution_count": 36,
   "id": "58b07f90-cb9b-4478-84e0-123ddf30e5a2",
   "metadata": {},
   "outputs": [
    {
     "data": {
      "text/plain": [
       "matrix([[4.0e-04, 3.0e-04, 5.0e-05],\n",
       "        [3.0e-04, 9.0e-04, 1.8e-04],\n",
       "        [5.0e-05, 1.8e-04, 1.0e-04]])"
      ]
     },
     "execution_count": 36,
     "metadata": {},
     "output_type": "execute_result"
    }
   ],
   "source": [
    "cov_mat = np.diag(volatilities) @ corr_mat @ np.diag(volatilities)\n",
    "cov_mat"
   ]
  },
  {
   "cell_type": "markdown",
   "id": "22126eb7-9671-4e61-a59a-4c75ad5552d1",
   "metadata": {},
   "source": [
    "Calculando la desviación estándar del portafolio (i.e. $\\sigma(x)$) a partir de $\\sigma(x) = \\sqrt{x^t \\Sigma x}$"
   ]
  },
  {
   "cell_type": "code",
   "execution_count": 48,
   "id": "8259205d-96e8-40d5-911a-d7037e1c65aa",
   "metadata": {},
   "outputs": [
    {
     "data": {
      "text/plain": [
       "0.014764269116851553"
      ]
     },
     "execution_count": 48,
     "metadata": {},
     "output_type": "execute_result"
    }
   ],
   "source": [
    "sd_portfolio = float(np.sqrt(weigths.T @ cov_mat @ weigths))\n",
    "sd_portfolio"
   ]
  },
  {
   "cell_type": "markdown",
   "id": "742bb869-1681-4ca2-ac4b-bf610415131a",
   "metadata": {},
   "source": [
    "Verificando que en el libro $\\Phi(x)^{-1}$ se refiere a la función que calcula el valor en el cúal la función de probabilidad acumulada de la distribución estándar es 99%"
   ]
  },
  {
   "cell_type": "code",
   "execution_count": 45,
   "id": "f6d45678-3f7e-46cc-a543-8dec752660d5",
   "metadata": {},
   "outputs": [
    {
     "data": {
      "text/plain": [
       "2.3263478740408408"
      ]
     },
     "execution_count": 45,
     "metadata": {},
     "output_type": "execute_result"
    }
   ],
   "source": [
    "norm.ppf(.99)"
   ]
  },
  {
   "cell_type": "code",
   "execution_count": 58,
   "id": "bcd3229f-8231-4e53-bbc7-f2bb6eeff405",
   "metadata": {},
   "outputs": [
    {
     "data": {
      "text/plain": [
       "0.99"
      ]
     },
     "execution_count": 58,
     "metadata": {},
     "output_type": "execute_result"
    }
   ],
   "source": [
    "norm.cdf(norm.ppf(.99))"
   ]
  },
  {
   "cell_type": "markdown",
   "id": "58f1af64-3316-42d8-8c49-841311aef231",
   "metadata": {},
   "source": [
    "Verificando que $\\phi(x)$ es la función de densidad de probabilidad normal *estándar*"
   ]
  },
  {
   "cell_type": "code",
   "execution_count": 59,
   "id": "e2617c01-2b48-4bba-97e4-05feeab33258",
   "metadata": {},
   "outputs": [
    {
     "data": {
      "text/plain": [
       "0.026673718259423804"
      ]
     },
     "execution_count": 59,
     "metadata": {},
     "output_type": "execute_result"
    }
   ],
   "source": [
    "norm.pdf(2.326)"
   ]
  },
  {
   "cell_type": "markdown",
   "id": "f477f9ba-fb6e-41ff-afe5-a560b77bd21b",
   "metadata": {},
   "source": [
    "VaR porcentual al 99%"
   ]
  },
  {
   "cell_type": "code",
   "execution_count": 52,
   "id": "8e844936-fd02-4eae-9644-4349fc6c873f",
   "metadata": {},
   "outputs": [
    {
     "data": {
      "text/plain": [
       "0.03064213524019795"
      ]
     },
     "execution_count": 52,
     "metadata": {},
     "output_type": "execute_result"
    }
   ],
   "source": [
    "var_at_99 = - (weigths.T @ returns) + norm.ppf(.99)*sd_portfolio\n",
    "var_at_99"
   ]
  },
  {
   "cell_type": "markdown",
   "id": "aab47463-d548-4a18-b6f8-81a898f1120c",
   "metadata": {},
   "source": [
    "Expected Shortfall porcentual al 99% "
   ]
  },
  {
   "cell_type": "code",
   "execution_count": 55,
   "id": "cfd0a286-6597-4724-ac58-a6d23d05bd12",
   "metadata": {},
   "outputs": [
    {
     "data": {
      "text/plain": [
       "0.03564524917168867"
      ]
     },
     "execution_count": 55,
     "metadata": {},
     "output_type": "execute_result"
    }
   ],
   "source": [
    "es_at_99 = - (weigths.T @ returns)  + ((sd_portfolio)/(1-.99))*norm.pdf(norm.ppf(.99))\n",
    "es_at_99"
   ]
  },
  {
   "cell_type": "markdown",
   "id": "4e4790a9-c8a7-4467-a6b8-a616c86fa4d7",
   "metadata": {},
   "source": [
    "Riesgo porcentual según el VaR al 90%"
   ]
  },
  {
   "cell_type": "code",
   "execution_count": 56,
   "id": "8949fc29-4d5a-464f-b951-f2fb82ddd611",
   "metadata": {},
   "outputs": [
    {
     "data": {
      "text/plain": [
       "0.015216481369266396"
      ]
     },
     "execution_count": 56,
     "metadata": {},
     "output_type": "execute_result"
    }
   ],
   "source": [
    "var_at_90 = - (weigths.T @ returns) + norm.ppf(.9)*sd_portfolio\n",
    "var_at_90"
   ]
  },
  {
   "cell_type": "markdown",
   "id": "ea63d525-5b99-476f-b151-ce11d0542079",
   "metadata": {},
   "source": [
    "Riesgo en dólares según el VaR al 90%"
   ]
  },
  {
   "cell_type": "code",
   "execution_count": 57,
   "id": "7099d8bb-19f3-40e5-a2f8-e12d4277c6d4",
   "metadata": {},
   "outputs": [
    {
     "data": {
      "text/plain": [
       "14.27305952437188"
      ]
     },
     "execution_count": 57,
     "metadata": {},
     "output_type": "execute_result"
    }
   ],
   "source": [
    "var_at_90 * np.dot(prices, quantities)"
   ]
  }
 ],
 "metadata": {
  "kernelspec": {
   "display_name": "Python 3 (ipykernel)",
   "language": "python",
   "name": "python3"
  },
  "language_info": {
   "codemirror_mode": {
    "name": "ipython",
    "version": 3
   },
   "file_extension": ".py",
   "mimetype": "text/x-python",
   "name": "python",
   "nbconvert_exporter": "python",
   "pygments_lexer": "ipython3",
   "version": "3.8.12"
  }
 },
 "nbformat": 4,
 "nbformat_minor": 5
}
