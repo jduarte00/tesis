{
 "cells": [
  {
   "cell_type": "code",
   "execution_count": 1,
   "metadata": {
    "colab": {
     "base_uri": "https://localhost:8080/"
    },
    "id": "C1lBXLsCqrpU",
    "outputId": "83787807-4bd5-4af8-86ee-1ce35753725e"
   },
   "outputs": [
    {
     "name": "stdout",
     "output_type": "stream",
     "text": [
      "Collecting yfinance\n",
      "  Downloading yfinance-0.1.67-py2.py3-none-any.whl (25 kB)\n",
      "Requirement already satisfied: pandas>=0.24 in /usr/local/lib/python3.7/dist-packages (from yfinance) (1.1.5)\n",
      "Collecting lxml>=4.5.1\n",
      "  Downloading lxml-4.6.4-cp37-cp37m-manylinux_2_17_x86_64.manylinux2014_x86_64.manylinux_2_24_x86_64.whl (6.3 MB)\n",
      "\u001b[K     |████████████████████████████████| 6.3 MB 7.5 MB/s \n",
      "\u001b[?25hRequirement already satisfied: requests>=2.20 in /usr/local/lib/python3.7/dist-packages (from yfinance) (2.23.0)\n",
      "Requirement already satisfied: numpy>=1.15 in /usr/local/lib/python3.7/dist-packages (from yfinance) (1.19.5)\n",
      "Requirement already satisfied: multitasking>=0.0.7 in /usr/local/lib/python3.7/dist-packages (from yfinance) (0.0.10)\n",
      "Requirement already satisfied: python-dateutil>=2.7.3 in /usr/local/lib/python3.7/dist-packages (from pandas>=0.24->yfinance) (2.8.2)\n",
      "Requirement already satisfied: pytz>=2017.2 in /usr/local/lib/python3.7/dist-packages (from pandas>=0.24->yfinance) (2018.9)\n",
      "Requirement already satisfied: six>=1.5 in /usr/local/lib/python3.7/dist-packages (from python-dateutil>=2.7.3->pandas>=0.24->yfinance) (1.15.0)\n",
      "Requirement already satisfied: chardet<4,>=3.0.2 in /usr/local/lib/python3.7/dist-packages (from requests>=2.20->yfinance) (3.0.4)\n",
      "Requirement already satisfied: urllib3!=1.25.0,!=1.25.1,<1.26,>=1.21.1 in /usr/local/lib/python3.7/dist-packages (from requests>=2.20->yfinance) (1.24.3)\n",
      "Requirement already satisfied: idna<3,>=2.5 in /usr/local/lib/python3.7/dist-packages (from requests>=2.20->yfinance) (2.10)\n",
      "Requirement already satisfied: certifi>=2017.4.17 in /usr/local/lib/python3.7/dist-packages (from requests>=2.20->yfinance) (2021.10.8)\n",
      "Installing collected packages: lxml, yfinance\n",
      "  Attempting uninstall: lxml\n",
      "    Found existing installation: lxml 4.2.6\n",
      "    Uninstalling lxml-4.2.6:\n",
      "      Successfully uninstalled lxml-4.2.6\n",
      "Successfully installed lxml-4.6.4 yfinance-0.1.67\n"
     ]
    }
   ],
   "source": [
    "!pip install yfinance"
   ]
  },
  {
   "cell_type": "code",
   "execution_count": 2,
   "metadata": {
    "id": "ajI0ErgoqhuY"
   },
   "outputs": [],
   "source": [
    "from math import sqrt\n",
    "from cvxopt import matrix\n",
    "from cvxopt import solvers\n",
    "from cvxopt.blas import dot\n",
    "from cvxopt.solvers import qp\n",
    "import pylab\n",
    "import yfinance as yf\n",
    "import numpy as np\n",
    "import matplotlib.pyplot as plt\n",
    "from matplotlib.pyplot import figure\n",
    "import pandas as pd\n",
    "import scipy.stats as sp \n",
    "import seaborn as sns\n",
    "import itertools\n",
    "import seaborn as sns\n",
    "solvers.options['show_progress'] = False"
   ]
  },
  {
   "cell_type": "code",
   "execution_count": 3,
   "metadata": {
    "colab": {
     "base_uri": "https://localhost:8080/"
    },
    "id": "Q5JVvxW9rpz8",
    "outputId": "cc4f6989-6c87-4bfa-9ffc-67165fc7bb06"
   },
   "outputs": [
    {
     "name": "stdout",
     "output_type": "stream",
     "text": [
      "[*********************100%***********************]  4 of 4 completed\n"
     ]
    }
   ],
   "source": [
    "selected_stocks = ['BTC-USD','GC=F', 'MXN=X','^MXX']\n",
    "raw = yf.download(selected_stocks,\"2021-01-01\",\"2021-11-30\") \n",
    "precios_cierre = pd.DataFrame(raw.Close).dropna().iloc[:201,:]\n",
    "retpor = np.diff(precios_cierre, axis = 0)/precios_cierre.iloc[:-1,:]"
   ]
  },
  {
   "cell_type": "code",
   "execution_count": 4,
   "metadata": {
    "colab": {
     "base_uri": "https://localhost:8080/",
     "height": 432
    },
    "id": "_Ni20rOzoNQj",
    "outputId": "d9f494b6-3adb-4020-e39f-2da6e019c906"
   },
   "outputs": [
    {
     "data": {
      "image/png": "[encoded data removed]",
      "text/plain": [
       "<Figure size 504x504 with 2 Axes>"
      ]
     },
     "metadata": {
      "needs_background": "light"
     },
     "output_type": "display_data"
    }
   ],
   "source": [
    "cov_m = np.corrcoef(retpor.T)\n",
    "fig = plt.figure(figsize = (7, 7))\n",
    "ax = sns.heatmap(cov_m, vmin=-1, vmax=1)"
   ]
  },
  {
   "cell_type": "markdown",
   "metadata": {
    "id": "DbeuF6qm7uK4"
   },
   "source": [
    "# Restricción de Ganancia Mínima (solución analítica)\n",
    "\n",
    "El método visto en clase tiene un constraint en cuanto a la ganancia:\n",
    "\n",
    "\n",
    "$$ \\underset{w \\in \\mathbb{R}^p}{\\text{min}} \\frac{1}{2}  w^t \\Sigma w$$\n",
    "\n",
    " con la restricción:\n",
    "\n",
    " $$ w^t g \\geq G$$"
   ]
  },
  {
   "cell_type": "code",
   "execution_count": 5,
   "metadata": {
    "id": "4-Fz33WG7tmC"
   },
   "outputs": [],
   "source": [
    "valsG = np.linspace(0,0.5,100)\n",
    "E_in = retpor.cov()\n",
    "g = retpor.mean()"
   ]
  },
  {
   "cell_type": "code",
   "execution_count": 6,
   "metadata": {
    "id": "_4oi5WpActIs"
   },
   "outputs": [],
   "source": [
    "def pesos_ganancia_minima(ganancia):\n",
    "  return ganancia * ((np.linalg.inv(E_in)@g)/(g.T @ np.linalg.inv(E_in)@g))"
   ]
  },
  {
   "cell_type": "code",
   "execution_count": 7,
   "metadata": {
    "colab": {
     "base_uri": "https://localhost:8080/"
    },
    "id": "PJ0diUV9ao41",
    "outputId": "6e8147f2-76c9-4714-b94b-dc409d9558f4"
   },
   "outputs": [
    {
     "data": {
      "text/plain": [
       "array([ 0.47266004, -0.93453704,  0.68232461,  2.73055503])"
      ]
     },
     "execution_count": 7,
     "metadata": {},
     "output_type": "execute_result"
    }
   ],
   "source": [
    "pesos_ganancia_minima(.004749)"
   ]
  },
  {
   "cell_type": "code",
   "execution_count": 8,
   "metadata": {
    "colab": {
     "base_uri": "https://localhost:8080/"
    },
    "id": "nptFuz7tat1Q",
    "outputId": "75c6b44a-d773-43fc-dbe2-3a39c52a2248"
   },
   "outputs": [
    {
     "data": {
      "text/plain": [
       "array([ 0.01871133, -0.03699578,  0.02701138,  0.10809525])"
      ]
     },
     "execution_count": 8,
     "metadata": {},
     "output_type": "execute_result"
    }
   ],
   "source": [
    "pesos_ganancia_minima(.000188)"
   ]
  },
  {
   "cell_type": "markdown",
   "metadata": {
    "id": "99dpGkFp-jdj"
   },
   "source": [
    "# Restricción de alocación de todo el capital\n",
    "\n",
    "> Indented block\n",
    "\n",
    "\n",
    "\n",
    "En este método no se especifica un nivel mínimo de ganancia $G$. En este caso, se introduce un parámetro $\\phi$ que representa la aversión al riesgo (mientras más grande más averso al riesgo). También se introduce un nuevo constraint que no se encontraba presente antes y que especifica que todo el capital debe ser invertido. \n",
    "\n",
    "\n",
    "El planteamiento es:\n",
    "\n",
    "$$ \\underset{w \\in \\mathbb{R}^p}{\\text{min}} \\frac{1}{2}  w^t \\Sigma w - \\frac{1}{\\phi} w^t g$$\n",
    "\n",
    "sujeto a:\n",
    "\n",
    "$$ \\boldsymbol{1^t} w = 1$$\n",
    "\n",
    "Notar que $\\phi$ es un parámetro, y que la adicion del término $\\frac{1}{\\phi} w^t g$ en este planteamiento hace que en este caso se busque obtener el portafolio (i.e. los pesos) que minimizan el riesgo y maximizan la ganancia, sin imponer una restriccioń explícita en un nivel mínimo de ganancia o nivel máximo de riesgo, sino controlando todo a través de $\\phi$."
   ]
  },
  {
   "cell_type": "code",
   "execution_count": 9,
   "metadata": {
    "id": "okR4cUJR0rRq"
   },
   "outputs": [],
   "source": [
    "S = matrix(\n",
    "    [[ 0.002706, -0.000033, -1.916605e-05\t,6.999402e-05],\n",
    "    [ -0.000033\t, 0.000091, -1.038888e-05\t,2.299984e-06],\n",
    "    [-0.000019\t, -0.000010\t, 4.653256e-05\t,5.655895e-07],\n",
    "    [ 0.000070,0.000002\t,5.655895e-07\t,7.788368e-05]])\n",
    "\n",
    "S2 = matrix(\n",
    "    [[ 4e-2, 6e-3, -4e-3,0.0],\n",
    "    [ 6e-3, 1e-2, 0.0,0.0],\n",
    "    [-4e-3, 0.0, 2.5e-3,0.0],\n",
    "    [ 0.0,0.0,0.0,0.0 ]])\n",
    "\n",
    "pbar = matrix([0.004749, -0.000324, 0.000108, 0.000779])\n",
    "\n",
    "pbar2 = matrix([1.0, 1.0, 1.0, 1.0])"
   ]
  },
  {
   "cell_type": "code",
   "execution_count": 10,
   "metadata": {
    "id": "2CKYDjOltFF_"
   },
   "outputs": [],
   "source": [
    "\n",
    "# Problem data.\n",
    "n = len(g)\n",
    "\n",
    "\n",
    "\n",
    "\n",
    "## Restriccioń de alocacioń de todo el capital\n",
    "# Esta matriz tiene que ver con la rstricción 1T x = 1 y \n",
    "#es una matriz (o mas bien vector) de 1 (parte izq)\n",
    "A = matrix(1.0, (1,n))\n",
    "# es escalar 1 que es la parte derecha de 1T x = 1\n",
    "b = matrix(1.0)\n",
    "\n",
    "\n",
    "\n",
    "\n",
    "# Definición de número de valores de phi que se van a calcular.\n",
    "N = 100\n",
    "# mu es el riesgo que se está dispuesto a tomar (mientras más bajo sea, más riesgo se está dispuesto a tomar)\n",
    "# un valor de este mu de 0 indica que no importa el riesgo, solo se busca el mayor valor esperado\n",
    "# un valor de mu que sea muy grande indica que no se quiere tomar riesgo. \n",
    "phis = [ 10**(5.0*t/N-1.0) for t in range(N) ]\n",
    "portfolios = [ qp(P = phi*S, q = -pbar,A= A, b =b)['x'] for phi in phis ]\n",
    "returns = [ dot(pbar,x) for x in portfolios ]\n",
    "risks = [ sqrt(dot(x, S*x)) for x in portfolios ]\n"
   ]
  },
  {
   "cell_type": "code",
   "execution_count": 11,
   "metadata": {
    "id": "V4GQx-9OiOU3"
   },
   "outputs": [],
   "source": [
    "risks_df = np.array(risks)\n",
    "returns_df = np.array(returns)\n",
    "rest_todo_capital = pd.DataFrame(data = {\"riesgo\":risks_df,\"retorno\": returns_df, \"phi\": phis})"
   ]
  },
  {
   "cell_type": "code",
   "execution_count": 12,
   "metadata": {
    "colab": {
     "base_uri": "https://localhost:8080/",
     "height": 206
    },
    "id": "ONgefYmc4o2x",
    "outputId": "299b7eee-334e-4276-af09-edefbcd95102"
   },
   "outputs": [
    {
     "data": {
      "text/html": [
       "<div>\n",
       "<style scoped>\n",
       "    .dataframe tbody tr th:only-of-type {\n",
       "        vertical-align: middle;\n",
       "    }\n",
       "\n",
       "    .dataframe tbody tr th {\n",
       "        vertical-align: top;\n",
       "    }\n",
       "\n",
       "    .dataframe thead th {\n",
       "        text-align: right;\n",
       "    }\n",
       "</style>\n",
       "<table border=\"1\" class=\"dataframe\">\n",
       "  <thead>\n",
       "    <tr style=\"text-align: right;\">\n",
       "      <th></th>\n",
       "      <th>riesgo</th>\n",
       "      <th>retorno</th>\n",
       "      <th>phi</th>\n",
       "    </tr>\n",
       "  </thead>\n",
       "  <tbody>\n",
       "    <tr>\n",
       "      <th>0</th>\n",
       "      <td>1.158397</td>\n",
       "      <td>0.134220</td>\n",
       "      <td>0.100000</td>\n",
       "    </tr>\n",
       "    <tr>\n",
       "      <th>1</th>\n",
       "      <td>1.032424</td>\n",
       "      <td>0.119644</td>\n",
       "      <td>0.112202</td>\n",
       "    </tr>\n",
       "    <tr>\n",
       "      <th>2</th>\n",
       "      <td>0.920150</td>\n",
       "      <td>0.106653</td>\n",
       "      <td>0.125893</td>\n",
       "    </tr>\n",
       "    <tr>\n",
       "      <th>3</th>\n",
       "      <td>0.820087</td>\n",
       "      <td>0.095075</td>\n",
       "      <td>0.141254</td>\n",
       "    </tr>\n",
       "    <tr>\n",
       "      <th>4</th>\n",
       "      <td>0.730905</td>\n",
       "      <td>0.084756</td>\n",
       "      <td>0.158489</td>\n",
       "    </tr>\n",
       "  </tbody>\n",
       "</table>\n",
       "</div>"
      ],
      "text/plain": [
       "     riesgo   retorno       phi\n",
       "0  1.158397  0.134220  0.100000\n",
       "1  1.032424  0.119644  0.112202\n",
       "2  0.920150  0.106653  0.125893\n",
       "3  0.820087  0.095075  0.141254\n",
       "4  0.730905  0.084756  0.158489"
      ]
     },
     "execution_count": 12,
     "metadata": {},
     "output_type": "execute_result"
    }
   ],
   "source": [
    "rest_todo_capital.head()"
   ]
  },
  {
   "cell_type": "code",
   "execution_count": 13,
   "metadata": {
    "colab": {
     "base_uri": "https://localhost:8080/",
     "height": 206
    },
    "id": "aTiY6tIr4qRE",
    "outputId": "f0237a03-4d4e-4728-f18a-d7336eea1a35"
   },
   "outputs": [
    {
     "data": {
      "text/html": [
       "<div>\n",
       "<style scoped>\n",
       "    .dataframe tbody tr th:only-of-type {\n",
       "        vertical-align: middle;\n",
       "    }\n",
       "\n",
       "    .dataframe tbody tr th {\n",
       "        vertical-align: top;\n",
       "    }\n",
       "\n",
       "    .dataframe thead th {\n",
       "        text-align: right;\n",
       "    }\n",
       "</style>\n",
       "<table border=\"1\" class=\"dataframe\">\n",
       "  <thead>\n",
       "    <tr style=\"text-align: right;\">\n",
       "      <th></th>\n",
       "      <th>riesgo</th>\n",
       "      <th>retorno</th>\n",
       "      <th>phi</th>\n",
       "    </tr>\n",
       "  </thead>\n",
       "  <tbody>\n",
       "    <tr>\n",
       "      <th>95</th>\n",
       "      <td>0.004454</td>\n",
       "      <td>0.000189</td>\n",
       "      <td>5623.413252</td>\n",
       "    </tr>\n",
       "    <tr>\n",
       "      <th>96</th>\n",
       "      <td>0.004454</td>\n",
       "      <td>0.000189</td>\n",
       "      <td>6309.573445</td>\n",
       "    </tr>\n",
       "    <tr>\n",
       "      <th>97</th>\n",
       "      <td>0.004454</td>\n",
       "      <td>0.000188</td>\n",
       "      <td>7079.457844</td>\n",
       "    </tr>\n",
       "    <tr>\n",
       "      <th>98</th>\n",
       "      <td>0.004454</td>\n",
       "      <td>0.000188</td>\n",
       "      <td>7943.282347</td>\n",
       "    </tr>\n",
       "    <tr>\n",
       "      <th>99</th>\n",
       "      <td>0.004454</td>\n",
       "      <td>0.000188</td>\n",
       "      <td>8912.509381</td>\n",
       "    </tr>\n",
       "  </tbody>\n",
       "</table>\n",
       "</div>"
      ],
      "text/plain": [
       "      riesgo   retorno          phi\n",
       "95  0.004454  0.000189  5623.413252\n",
       "96  0.004454  0.000189  6309.573445\n",
       "97  0.004454  0.000188  7079.457844\n",
       "98  0.004454  0.000188  7943.282347\n",
       "99  0.004454  0.000188  8912.509381"
      ]
     },
     "execution_count": 13,
     "metadata": {},
     "output_type": "execute_result"
    }
   ],
   "source": [
    "rest_todo_capital.tail()"
   ]
  },
  {
   "cell_type": "code",
   "execution_count": 14,
   "metadata": {
    "colab": {
     "base_uri": "https://localhost:8080/",
     "height": 477
    },
    "id": "4ojQX7FNjbuA",
    "outputId": "ef574327-cda3-4991-8db6-1a9e46152077"
   },
   "outputs": [
    {
     "data": {
      "text/plain": [
       "Text(0, 0.5, 'Retorno %')"
      ]
     },
     "execution_count": 14,
     "metadata": {},
     "output_type": "execute_result"
    },
    {
     "data": {
      "image/png": "[encoded data removed]",
      "text/plain": [
       "<Figure size 720x504 with 1 Axes>"
      ]
     },
     "metadata": {
      "needs_background": "light"
     },
     "output_type": "display_data"
    }
   ],
   "source": [
    "ax = rest_todo_capital.plot.line(x=\"riesgo\", y=\"retorno\", title = \"Frontera Óptima Restricción de Alocación de todo el capital\", legend=False, figsize=(10,7))\n",
    "ax.set_xlabel(\"Riesgo %\")\n",
    "ax.set_ylabel(\"Retorno %\")"
   ]
  },
  {
   "cell_type": "markdown",
   "metadata": {
    "id": "t6Xm2aQ55AzZ"
   },
   "source": [
    "## Portafolio con Mayor Riesgo y Mayor Rendimiento"
   ]
  },
  {
   "cell_type": "code",
   "execution_count": 15,
   "metadata": {
    "colab": {
     "base_uri": "https://localhost:8080/"
    },
    "id": "dXOpxTXQkttF",
    "outputId": "ffe5c9b2-b9a5-4c1c-93d3-eb50b3bc4043"
   },
   "outputs": [
    {
     "data": {
      "text/plain": [
       "array([[ 14.343],\n",
       "       [-55.008],\n",
       "       [-23.585],\n",
       "       [ 65.251]])"
      ]
     },
     "execution_count": 15,
     "metadata": {},
     "output_type": "execute_result"
    }
   ],
   "source": [
    "(np.round(portfolios[0], decimals = 3))"
   ]
  },
  {
   "cell_type": "markdown",
   "metadata": {
    "id": "3aY2ynkXrppq"
   },
   "source": [
    "Notar que un riesgo de 1.15, es equivalente a decir que a una desviación estándar, el retorno esperado límite inferior es 0.13 -1.15 , lo cuál da como resultado -1.02. Recordando que este es un retorno esperado sobre el capital (en este caso una pérdida esperada, por el signo), el hecho de que sea mayor a 1 significa que puedes perder todo tu capital (A UNA DESVIACIÓN ESTÁNDAR)."
   ]
  },
  {
   "cell_type": "code",
   "execution_count": 16,
   "metadata": {
    "colab": {
     "base_uri": "https://localhost:8080/"
    },
    "id": "6mCvV6cRk4GN",
    "outputId": "e7b17b38-3910-491d-cc61-8d706c362ab3"
   },
   "outputs": [
    {
     "data": {
      "text/plain": [
       "riesgo     1.158397\n",
       "retorno    0.134220\n",
       "phi        0.100000\n",
       "Name: 0, dtype: float64"
      ]
     },
     "execution_count": 16,
     "metadata": {},
     "output_type": "execute_result"
    }
   ],
   "source": [
    "rest_todo_capital.iloc[0]"
   ]
  },
  {
   "cell_type": "code",
   "execution_count": 17,
   "metadata": {
    "colab": {
     "base_uri": "https://localhost:8080/"
    },
    "id": "PiZ_ih6O5jg8",
    "outputId": "4671740d-2a4c-463c-c6dd-6783da87b475"
   },
   "outputs": [
    {
     "data": {
      "text/plain": [
       "array([0.13422758])"
      ]
     },
     "execution_count": 17,
     "metadata": {},
     "output_type": "execute_result"
    }
   ],
   "source": [
    "g@ np.array(portfolios[0]) "
   ]
  },
  {
   "cell_type": "code",
   "execution_count": 18,
   "metadata": {
    "colab": {
     "base_uri": "https://localhost:8080/"
    },
    "id": "QPiENBbltn7D",
    "outputId": "d5d3ed20-bd95-42ff-c0bf-673a93f6f9e1"
   },
   "outputs": [
    {
     "data": {
      "text/plain": [
       "riesgo        0.004454\n",
       "retorno       0.000188\n",
       "phi        8912.509381\n",
       "Name: 99, dtype: float64"
      ]
     },
     "execution_count": 18,
     "metadata": {},
     "output_type": "execute_result"
    }
   ],
   "source": [
    "rest_todo_capital.iloc[-1]"
   ]
  },
  {
   "cell_type": "code",
   "execution_count": 19,
   "metadata": {
    "colab": {
     "base_uri": "https://localhost:8080/"
    },
    "id": "azE1RC57tpI7",
    "outputId": "05fec5db-e303-4992-f5c2-0b330ea664ae"
   },
   "outputs": [
    {
     "data": {
      "text/plain": [
       "array([[0.008],\n",
       "       [0.269],\n",
       "       [0.486],\n",
       "       [0.236]])"
      ]
     },
     "execution_count": 19,
     "metadata": {},
     "output_type": "execute_result"
    }
   ],
   "source": [
    "np.round(portfolios[-1], decimals = 3)"
   ]
  },
  {
   "cell_type": "code",
   "execution_count": 20,
   "metadata": {
    "colab": {
     "base_uri": "https://localhost:8080/"
    },
    "id": "-9DhveDE5iot",
    "outputId": "e1171981-7ecd-42af-f2a5-5193850d580c"
   },
   "outputs": [
    {
     "data": {
      "text/plain": [
       "array([0.00018806])"
      ]
     },
     "execution_count": 20,
     "metadata": {},
     "output_type": "execute_result"
    }
   ],
   "source": [
    "g@ np.array(portfolios[-1]) "
   ]
  },
  {
   "cell_type": "markdown",
   "metadata": {
    "id": "ow_lWKO954_1"
   },
   "source": [
    "# Restricción de No Ventas en Corto\n"
   ]
  },
  {
   "cell_type": "code",
   "execution_count": 21,
   "metadata": {
    "id": "IEYoQL0A6Ac5"
   },
   "outputs": [],
   "source": [
    "# Problem data.\n",
    "n = len(g)\n",
    "\n",
    "# Restriccioń de no ventas en corto\n",
    "# G es la matriz identidad y tiene que ver con la restricción x >= 0 (parte derecha G x)\n",
    "G = matrix(0.0, (n,n))\n",
    "G[::n+1] = -1.0\n",
    "# h es un vector de ceros y es el lado derecho de la restriccioń x >= 0\n",
    "h = matrix(0.0, (n,1))\n",
    "\n",
    "# Definición de número de valores de phi que se van a calcular.\n",
    "N = 100\n",
    "# mu es el riesgo que se está dispuesto a tomar (mientras más bajo sea, más riesgo se está dispuesto a tomar)\n",
    "# un valor de este mu de 0 indica que no importa el riesgo, solo se busca el mayor valor esperado\n",
    "# un valor de mu que sea muy grande indica que no se quiere tomar riesgo. \n",
    "phis = [ 10**(5.0*t/N-1.0) for t in range(N) ]\n",
    "portfolios = [ qp(phi*S, -pbar, G = G, h = h)['x'] for phi in phis ]\n",
    "\n",
    "returns = [ dot(pbar,x) for x in portfolios ]\n",
    "risks = [ sqrt(dot(x, S*x)) for x in portfolios ]\n"
   ]
  },
  {
   "cell_type": "code",
   "execution_count": 22,
   "metadata": {
    "id": "UXer9o-z6sBJ"
   },
   "outputs": [],
   "source": [
    "risks_df = np.array(risks)\n",
    "returns_df = np.array(returns)\n",
    "rest_ventas_corto = pd.DataFrame(data = {\"riesgo\":risks_df,\"retorno\": returns_df, \"phi\": phis})"
   ]
  },
  {
   "cell_type": "code",
   "execution_count": 23,
   "metadata": {
    "colab": {
     "base_uri": "https://localhost:8080/",
     "height": 206
    },
    "id": "x4hV0c6V6sBJ",
    "outputId": "9e0e4975-e067-404b-8eee-b5a2eec06092"
   },
   "outputs": [
    {
     "data": {
      "text/html": [
       "<div>\n",
       "<style scoped>\n",
       "    .dataframe tbody tr th:only-of-type {\n",
       "        vertical-align: middle;\n",
       "    }\n",
       "\n",
       "    .dataframe tbody tr th {\n",
       "        vertical-align: top;\n",
       "    }\n",
       "\n",
       "    .dataframe thead th {\n",
       "        text-align: right;\n",
       "    }\n",
       "</style>\n",
       "<table border=\"1\" class=\"dataframe\">\n",
       "  <thead>\n",
       "    <tr style=\"text-align: right;\">\n",
       "      <th></th>\n",
       "      <th>riesgo</th>\n",
       "      <th>retorno</th>\n",
       "      <th>phi</th>\n",
       "    </tr>\n",
       "  </thead>\n",
       "  <tbody>\n",
       "    <tr>\n",
       "      <th>0</th>\n",
       "      <td>1.198888</td>\n",
       "      <td>0.143725</td>\n",
       "      <td>0.100000</td>\n",
       "    </tr>\n",
       "    <tr>\n",
       "      <th>1</th>\n",
       "      <td>1.068510</td>\n",
       "      <td>0.128095</td>\n",
       "      <td>0.112202</td>\n",
       "    </tr>\n",
       "    <tr>\n",
       "      <th>2</th>\n",
       "      <td>0.952310</td>\n",
       "      <td>0.114165</td>\n",
       "      <td>0.125893</td>\n",
       "    </tr>\n",
       "    <tr>\n",
       "      <th>3</th>\n",
       "      <td>0.848748</td>\n",
       "      <td>0.101750</td>\n",
       "      <td>0.141254</td>\n",
       "    </tr>\n",
       "    <tr>\n",
       "      <th>4</th>\n",
       "      <td>0.756447</td>\n",
       "      <td>0.090684</td>\n",
       "      <td>0.158489</td>\n",
       "    </tr>\n",
       "  </tbody>\n",
       "</table>\n",
       "</div>"
      ],
      "text/plain": [
       "     riesgo   retorno       phi\n",
       "0  1.198888  0.143725  0.100000\n",
       "1  1.068510  0.128095  0.112202\n",
       "2  0.952310  0.114165  0.125893\n",
       "3  0.848748  0.101750  0.141254\n",
       "4  0.756447  0.090684  0.158489"
      ]
     },
     "execution_count": 23,
     "metadata": {},
     "output_type": "execute_result"
    }
   ],
   "source": [
    "rest_ventas_corto.head()"
   ]
  },
  {
   "cell_type": "code",
   "execution_count": 24,
   "metadata": {
    "colab": {
     "base_uri": "https://localhost:8080/",
     "height": 206
    },
    "id": "XrR-6i1P6sBK",
    "outputId": "b62a026a-bac2-4857-d7a1-265eade96bb0"
   },
   "outputs": [
    {
     "data": {
      "text/html": [
       "<div>\n",
       "<style scoped>\n",
       "    .dataframe tbody tr th:only-of-type {\n",
       "        vertical-align: middle;\n",
       "    }\n",
       "\n",
       "    .dataframe tbody tr th {\n",
       "        vertical-align: top;\n",
       "    }\n",
       "\n",
       "    .dataframe thead th {\n",
       "        text-align: right;\n",
       "    }\n",
       "</style>\n",
       "<table border=\"1\" class=\"dataframe\">\n",
       "  <thead>\n",
       "    <tr style=\"text-align: right;\">\n",
       "      <th></th>\n",
       "      <th>riesgo</th>\n",
       "      <th>retorno</th>\n",
       "      <th>phi</th>\n",
       "    </tr>\n",
       "  </thead>\n",
       "  <tbody>\n",
       "    <tr>\n",
       "      <th>95</th>\n",
       "      <td>0.000021</td>\n",
       "      <td>0.000003</td>\n",
       "      <td>5623.413252</td>\n",
       "    </tr>\n",
       "    <tr>\n",
       "      <th>96</th>\n",
       "      <td>0.000019</td>\n",
       "      <td>0.000002</td>\n",
       "      <td>6309.573445</td>\n",
       "    </tr>\n",
       "    <tr>\n",
       "      <th>97</th>\n",
       "      <td>0.000017</td>\n",
       "      <td>0.000002</td>\n",
       "      <td>7079.457844</td>\n",
       "    </tr>\n",
       "    <tr>\n",
       "      <th>98</th>\n",
       "      <td>0.000015</td>\n",
       "      <td>0.000002</td>\n",
       "      <td>7943.282347</td>\n",
       "    </tr>\n",
       "    <tr>\n",
       "      <th>99</th>\n",
       "      <td>0.000014</td>\n",
       "      <td>0.000002</td>\n",
       "      <td>8912.509381</td>\n",
       "    </tr>\n",
       "  </tbody>\n",
       "</table>\n",
       "</div>"
      ],
      "text/plain": [
       "      riesgo   retorno          phi\n",
       "95  0.000021  0.000003  5623.413252\n",
       "96  0.000019  0.000002  6309.573445\n",
       "97  0.000017  0.000002  7079.457844\n",
       "98  0.000015  0.000002  7943.282347\n",
       "99  0.000014  0.000002  8912.509381"
      ]
     },
     "execution_count": 24,
     "metadata": {},
     "output_type": "execute_result"
    }
   ],
   "source": [
    "rest_ventas_corto.tail()"
   ]
  },
  {
   "cell_type": "code",
   "execution_count": 25,
   "metadata": {
    "colab": {
     "base_uri": "https://localhost:8080/",
     "height": 477
    },
    "id": "wMrdg6co6sBL",
    "outputId": "bf5ec39b-8e21-4597-a71d-cc2cab287f4e"
   },
   "outputs": [
    {
     "data": {
      "text/plain": [
       "Text(0, 0.5, 'Retorno %')"
      ]
     },
     "execution_count": 25,
     "metadata": {},
     "output_type": "execute_result"
    },
    {
     "data": {
      "image/png": "[encoded data removed]",
      "text/plain": [
       "<Figure size 720x504 with 1 Axes>"
      ]
     },
     "metadata": {
      "needs_background": "light"
     },
     "output_type": "display_data"
    }
   ],
   "source": [
    "ax = rest_todo_capital.plot.line(x=\"riesgo\", y=\"retorno\", title = \"Frontera Óptima Restricción No Ventas en Corto\", legend=False, figsize=(10,7))\n",
    "ax.set_xlabel(\"Riesgo %\")\n",
    "ax.set_ylabel(\"Retorno %\")"
   ]
  },
  {
   "cell_type": "code",
   "execution_count": 26,
   "metadata": {
    "colab": {
     "base_uri": "https://localhost:8080/"
    },
    "id": "78wSAu3L6sBL",
    "outputId": "22e97db5-2d38-4ce0-e486-d6d4ff509e07"
   },
   "outputs": [
    {
     "data": {
      "text/plain": [
       "array([[15.531],\n",
       "       [ 0.   ],\n",
       "       [28.563],\n",
       "       [85.855]])"
      ]
     },
     "execution_count": 26,
     "metadata": {},
     "output_type": "execute_result"
    }
   ],
   "source": [
    "np.round(portfolios[0], decimals = 3)"
   ]
  },
  {
   "cell_type": "code",
   "execution_count": 27,
   "metadata": {
    "colab": {
     "base_uri": "https://localhost:8080/"
    },
    "id": "lNf-mH3g6sBM",
    "outputId": "ecc180d3-d304-4471-c798-9c73e2d930f4"
   },
   "outputs": [
    {
     "data": {
      "text/plain": [
       "riesgo     1.198888\n",
       "retorno    0.143725\n",
       "phi        0.100000\n",
       "Name: 0, dtype: float64"
      ]
     },
     "execution_count": 27,
     "metadata": {},
     "output_type": "execute_result"
    }
   ],
   "source": [
    "rest_ventas_corto.iloc[0]"
   ]
  },
  {
   "cell_type": "code",
   "execution_count": 28,
   "metadata": {
    "colab": {
     "base_uri": "https://localhost:8080/"
    },
    "id": "eUNA6QxB6sBM",
    "outputId": "41ffc3dd-6cbc-4191-c426-7c2fe676619c"
   },
   "outputs": [
    {
     "data": {
      "text/plain": [
       "array([0.14374782])"
      ]
     },
     "execution_count": 28,
     "metadata": {},
     "output_type": "execute_result"
    }
   ],
   "source": [
    "g@ np.array(portfolios[0]) "
   ]
  },
  {
   "cell_type": "code",
   "execution_count": 29,
   "metadata": {
    "colab": {
     "base_uri": "https://localhost:8080/"
    },
    "id": "lr8rN_Pm6sBN",
    "outputId": "ec70bbd0-9502-49b4-8a86-b63aa214b3ad"
   },
   "outputs": [
    {
     "data": {
      "text/plain": [
       "riesgo        0.000014\n",
       "retorno       0.000002\n",
       "phi        8912.509381\n",
       "Name: 99, dtype: float64"
      ]
     },
     "execution_count": 29,
     "metadata": {},
     "output_type": "execute_result"
    }
   ],
   "source": [
    "rest_ventas_corto.iloc[-1]"
   ]
  },
  {
   "cell_type": "markdown",
   "metadata": {
    "id": "sut2Frxh7IZP"
   },
   "source": [
    "Notar que el retorno es mucho más bajo debido a que se quitó la restriccioń de tener que utilizar todo el capital"
   ]
  },
  {
   "cell_type": "code",
   "execution_count": 30,
   "metadata": {
    "colab": {
     "base_uri": "https://localhost:8080/"
    },
    "id": "zq3WG2fz6sBN",
    "outputId": "50b54543-3768-4307-b803-fafe97325264"
   },
   "outputs": [
    {
     "data": {
      "text/plain": [
       "array([[0.   ],\n",
       "       [0.   ],\n",
       "       [0.   ],\n",
       "       [0.001]])"
      ]
     },
     "execution_count": 30,
     "metadata": {},
     "output_type": "execute_result"
    }
   ],
   "source": [
    "np.round(portfolios[-1], decimals = 3)"
   ]
  },
  {
   "cell_type": "code",
   "execution_count": 31,
   "metadata": {
    "colab": {
     "base_uri": "https://localhost:8080/"
    },
    "id": "jDffiFgZ6sBO",
    "outputId": "99cfaad3-f5f2-4cff-b471-62eaa1494f4b"
   },
   "outputs": [
    {
     "data": {
      "text/plain": [
       "array([1.61653566e-06])"
      ]
     },
     "execution_count": 31,
     "metadata": {},
     "output_type": "execute_result"
    }
   ],
   "source": [
    "g@ np.array(portfolios[-1]) "
   ]
  },
  {
   "cell_type": "markdown",
   "metadata": {
    "id": "jQcX6VhI7UbC"
   },
   "source": [
    "# Restricción de No Apalancamiento\n",
    "\n",
    "Esta restricción se implementa de forma indirecta, pues implementar la restricción de alocación de todo el capital más la restricción de no ventas en corto equivale a implementar la restricción de no apalancamiento"
   ]
  },
  {
   "cell_type": "code",
   "execution_count": 32,
   "metadata": {
    "id": "2cmqlTeh7UbD"
   },
   "outputs": [],
   "source": [
    "# Problem data.\n",
    "n = len(g)\n",
    "# Restriccioń de no ventas en corto\n",
    "# G es la matriz identidad y tiene que ver con la restricción x >= 0 (parte derecha G x)\n",
    "G = matrix(0.0, (n,n))\n",
    "G[::n+1] = -1.0\n",
    "# h es un vector de ceros y es el lado derecho de la restriccioń x >= 0\n",
    "h = matrix(0.0, (n,1))\n",
    "\n",
    "## Restriccioń de alocacioń de todo el capital\n",
    "# Esta matriz tiene que ver con la rstricción 1T x = 1 y es una matriz (o mas bien vector) de 1 (parte izq)\n",
    "A = matrix(1.0, (1,n))\n",
    "# es escalar 1 que es la parte derecha de 1T x = 1\n",
    "b = matrix(1.0)\n",
    "\n",
    "# Definición de número de valores de phi que se van a calcular.\n",
    "N = 100\n",
    "phis = [ 10**(5.0*t/N-1.0) for t in range(N) ]\n",
    "portfolios = [ qp(phi*S, -pbar, G, h, A, b)['x'] for phi in phis ]\n",
    "\n",
    "\n",
    "returns = [ dot(pbar,x) for x in portfolios ]\n",
    "risks = [ sqrt(dot(x, S*x)) for x in portfolios ]"
   ]
  },
  {
   "cell_type": "code",
   "execution_count": 33,
   "metadata": {
    "id": "jG-z3jLg7UbE"
   },
   "outputs": [],
   "source": [
    "risks_df = np.array(risks)\n",
    "returns_df = np.array(returns)\n",
    "rest_apalancamiento = pd.DataFrame(data = {\"riesgo\":risks_df,\"retorno\": returns_df, \"phi\": phis})"
   ]
  },
  {
   "cell_type": "code",
   "execution_count": 34,
   "metadata": {
    "colab": {
     "base_uri": "https://localhost:8080/",
     "height": 206
    },
    "id": "GuqjyXDt7UbE",
    "outputId": "38e090b1-1c03-4841-8d41-8020fe230ff9"
   },
   "outputs": [
    {
     "data": {
      "text/html": [
       "<div>\n",
       "<style scoped>\n",
       "    .dataframe tbody tr th:only-of-type {\n",
       "        vertical-align: middle;\n",
       "    }\n",
       "\n",
       "    .dataframe tbody tr th {\n",
       "        vertical-align: top;\n",
       "    }\n",
       "\n",
       "    .dataframe thead th {\n",
       "        text-align: right;\n",
       "    }\n",
       "</style>\n",
       "<table border=\"1\" class=\"dataframe\">\n",
       "  <thead>\n",
       "    <tr style=\"text-align: right;\">\n",
       "      <th></th>\n",
       "      <th>riesgo</th>\n",
       "      <th>retorno</th>\n",
       "      <th>phi</th>\n",
       "    </tr>\n",
       "  </thead>\n",
       "  <tbody>\n",
       "    <tr>\n",
       "      <th>0</th>\n",
       "      <td>0.052019</td>\n",
       "      <td>0.004749</td>\n",
       "      <td>0.100000</td>\n",
       "    </tr>\n",
       "    <tr>\n",
       "      <th>1</th>\n",
       "      <td>0.052019</td>\n",
       "      <td>0.004749</td>\n",
       "      <td>0.112202</td>\n",
       "    </tr>\n",
       "    <tr>\n",
       "      <th>2</th>\n",
       "      <td>0.052019</td>\n",
       "      <td>0.004749</td>\n",
       "      <td>0.125893</td>\n",
       "    </tr>\n",
       "    <tr>\n",
       "      <th>3</th>\n",
       "      <td>0.052019</td>\n",
       "      <td>0.004749</td>\n",
       "      <td>0.141254</td>\n",
       "    </tr>\n",
       "    <tr>\n",
       "      <th>4</th>\n",
       "      <td>0.052019</td>\n",
       "      <td>0.004749</td>\n",
       "      <td>0.158489</td>\n",
       "    </tr>\n",
       "  </tbody>\n",
       "</table>\n",
       "</div>"
      ],
      "text/plain": [
       "     riesgo   retorno       phi\n",
       "0  0.052019  0.004749  0.100000\n",
       "1  0.052019  0.004749  0.112202\n",
       "2  0.052019  0.004749  0.125893\n",
       "3  0.052019  0.004749  0.141254\n",
       "4  0.052019  0.004749  0.158489"
      ]
     },
     "execution_count": 34,
     "metadata": {},
     "output_type": "execute_result"
    }
   ],
   "source": [
    "rest_apalancamiento.head()"
   ]
  },
  {
   "cell_type": "code",
   "execution_count": 35,
   "metadata": {
    "colab": {
     "base_uri": "https://localhost:8080/",
     "height": 206
    },
    "id": "R-78Wwmn7UbF",
    "outputId": "621ada7d-5a41-4464-b7e6-52084638c3b9"
   },
   "outputs": [
    {
     "data": {
      "text/html": [
       "<div>\n",
       "<style scoped>\n",
       "    .dataframe tbody tr th:only-of-type {\n",
       "        vertical-align: middle;\n",
       "    }\n",
       "\n",
       "    .dataframe tbody tr th {\n",
       "        vertical-align: top;\n",
       "    }\n",
       "\n",
       "    .dataframe thead th {\n",
       "        text-align: right;\n",
       "    }\n",
       "</style>\n",
       "<table border=\"1\" class=\"dataframe\">\n",
       "  <thead>\n",
       "    <tr style=\"text-align: right;\">\n",
       "      <th></th>\n",
       "      <th>riesgo</th>\n",
       "      <th>retorno</th>\n",
       "      <th>phi</th>\n",
       "    </tr>\n",
       "  </thead>\n",
       "  <tbody>\n",
       "    <tr>\n",
       "      <th>95</th>\n",
       "      <td>0.004454</td>\n",
       "      <td>0.000189</td>\n",
       "      <td>5623.413252</td>\n",
       "    </tr>\n",
       "    <tr>\n",
       "      <th>96</th>\n",
       "      <td>0.004454</td>\n",
       "      <td>0.000189</td>\n",
       "      <td>6309.573445</td>\n",
       "    </tr>\n",
       "    <tr>\n",
       "      <th>97</th>\n",
       "      <td>0.004454</td>\n",
       "      <td>0.000188</td>\n",
       "      <td>7079.457844</td>\n",
       "    </tr>\n",
       "    <tr>\n",
       "      <th>98</th>\n",
       "      <td>0.004454</td>\n",
       "      <td>0.000188</td>\n",
       "      <td>7943.282347</td>\n",
       "    </tr>\n",
       "    <tr>\n",
       "      <th>99</th>\n",
       "      <td>0.004454</td>\n",
       "      <td>0.000188</td>\n",
       "      <td>8912.509381</td>\n",
       "    </tr>\n",
       "  </tbody>\n",
       "</table>\n",
       "</div>"
      ],
      "text/plain": [
       "      riesgo   retorno          phi\n",
       "95  0.004454  0.000189  5623.413252\n",
       "96  0.004454  0.000189  6309.573445\n",
       "97  0.004454  0.000188  7079.457844\n",
       "98  0.004454  0.000188  7943.282347\n",
       "99  0.004454  0.000188  8912.509381"
      ]
     },
     "execution_count": 35,
     "metadata": {},
     "output_type": "execute_result"
    }
   ],
   "source": [
    "rest_apalancamiento.tail()"
   ]
  },
  {
   "cell_type": "code",
   "execution_count": 36,
   "metadata": {
    "colab": {
     "base_uri": "https://localhost:8080/",
     "height": 477
    },
    "id": "4bdgfupK7UbF",
    "outputId": "1c0c2e9f-ad5f-4d4c-b463-6d53793513b5"
   },
   "outputs": [
    {
     "data": {
      "text/plain": [
       "Text(0, 0.5, 'Retorno %')"
      ]
     },
     "execution_count": 36,
     "metadata": {},
     "output_type": "execute_result"
    },
    {
     "data": {
      "image/png": "[encoded data removed]",
      "text/plain": [
       "<Figure size 720x504 with 1 Axes>"
      ]
     },
     "metadata": {
      "needs_background": "light"
     },
     "output_type": "display_data"
    }
   ],
   "source": [
    "ax = rest_apalancamiento.plot.line(x=\"riesgo\", y=\"retorno\", title = \"Frontera Óptima Restricción No Apalancamiento\", legend=False, figsize=(10,7))\n",
    "ax.set_xlabel(\"Riesgo %\")\n",
    "ax.set_ylabel(\"Retorno %\")"
   ]
  },
  {
   "cell_type": "code",
   "execution_count": 37,
   "metadata": {
    "colab": {
     "base_uri": "https://localhost:8080/"
    },
    "id": "fDXwbeIL7UbG",
    "outputId": "4f07a0a1-53bf-422d-9a41-034198bd2295"
   },
   "outputs": [
    {
     "data": {
      "text/plain": [
       "array([[1.],\n",
       "       [0.],\n",
       "       [0.],\n",
       "       [0.]])"
      ]
     },
     "execution_count": 37,
     "metadata": {},
     "output_type": "execute_result"
    }
   ],
   "source": [
    "np.round(portfolios[0], decimals = 3)"
   ]
  },
  {
   "cell_type": "code",
   "execution_count": 38,
   "metadata": {
    "colab": {
     "base_uri": "https://localhost:8080/"
    },
    "id": "obMsFvG_7UbG",
    "outputId": "3c241dc3-5cb8-4723-e482-268310e5fc6b"
   },
   "outputs": [
    {
     "data": {
      "text/plain": [
       "riesgo     0.052019\n",
       "retorno    0.004749\n",
       "phi        0.100000\n",
       "Name: 0, dtype: float64"
      ]
     },
     "execution_count": 38,
     "metadata": {},
     "output_type": "execute_result"
    }
   ],
   "source": [
    "rest_apalancamiento.iloc[0]"
   ]
  },
  {
   "cell_type": "code",
   "execution_count": 39,
   "metadata": {
    "colab": {
     "base_uri": "https://localhost:8080/"
    },
    "id": "sWOtDp1N7UbH",
    "outputId": "638e82cb-6af6-4f82-93a2-83684bf9cea7"
   },
   "outputs": [
    {
     "data": {
      "text/plain": [
       "array([0.00474932])"
      ]
     },
     "execution_count": 39,
     "metadata": {},
     "output_type": "execute_result"
    }
   ],
   "source": [
    "g@ np.array(portfolios[0]) "
   ]
  },
  {
   "cell_type": "code",
   "execution_count": 40,
   "metadata": {
    "colab": {
     "base_uri": "https://localhost:8080/"
    },
    "id": "NgfNT0pu7UbH",
    "outputId": "b421ce5e-e73b-465a-85a4-648d5ee59bf1"
   },
   "outputs": [
    {
     "data": {
      "text/plain": [
       "riesgo        0.004454\n",
       "retorno       0.000188\n",
       "phi        8912.509381\n",
       "Name: 99, dtype: float64"
      ]
     },
     "execution_count": 40,
     "metadata": {},
     "output_type": "execute_result"
    }
   ],
   "source": [
    "rest_apalancamiento.iloc[-1]"
   ]
  },
  {
   "cell_type": "code",
   "execution_count": 41,
   "metadata": {
    "colab": {
     "base_uri": "https://localhost:8080/"
    },
    "id": "tmOAcITt7UbI",
    "outputId": "88899165-2c84-48a2-8bb6-e42b4a29b7fc"
   },
   "outputs": [
    {
     "data": {
      "text/plain": [
       "array([[0.008],\n",
       "       [0.269],\n",
       "       [0.486],\n",
       "       [0.236]])"
      ]
     },
     "execution_count": 41,
     "metadata": {},
     "output_type": "execute_result"
    }
   ],
   "source": [
    "np.round(portfolios[-1], decimals = 3)"
   ]
  },
  {
   "cell_type": "code",
   "execution_count": 42,
   "metadata": {
    "colab": {
     "base_uri": "https://localhost:8080/"
    },
    "id": "1uew_Cu07UbI",
    "outputId": "4ee9e981-ed45-4818-8928-ce4e66ed0dd0"
   },
   "outputs": [
    {
     "data": {
      "text/plain": [
       "array([0.00018806])"
      ]
     },
     "execution_count": 42,
     "metadata": {},
     "output_type": "execute_result"
    }
   ],
   "source": [
    "g@ np.array(portfolios[-1]) "
   ]
  },
  {
   "cell_type": "markdown",
   "metadata": {
    "id": "IR_fTVBv_7GI"
   },
   "source": [
    "# Restricción de activo libre de riesgo\n",
    "\n",
    "Notar que para poder aplicar la solución analítica, se está estableciendo de forma implicita la restricción de alocación de todo el capital.  "
   ]
  },
  {
   "cell_type": "code",
   "execution_count": 43,
   "metadata": {
    "id": "nOthpqCv_6XZ"
   },
   "outputs": [],
   "source": [
    "\n",
    "S_con_riesgo = matrix(\n",
    "    [[ 0.002706, -0.000033, -1.916605e-05\t,6.999402e-05, 0],\n",
    "    [ -0.000033\t, 0.000091, -1.038888e-05\t,2.299984e-06, 0],\n",
    "    [-0.000019\t, -0.000010\t, 4.653256e-05\t,5.655895e-07, 0],\n",
    "    [ 0.000070,0.000002\t,5.655895e-07\t,7.788368e-05, 0],\n",
    "     [ 0,0,0\t,0, 0]])\n",
    "\n",
    "\n",
    "# rendimiento del activo libre de riesgo\n",
    "# se asume que la varianza del activo libre de riesgo es 0 y su covarianza con los\n",
    "# otros activos también es 0\n",
    "r = 0.00001"
   ]
  },
  {
   "cell_type": "code",
   "execution_count": 44,
   "metadata": {
    "id": "z1YQLYthDA_H"
   },
   "outputs": [],
   "source": [
    "def pesos_activos_riesgo(phi):\n",
    "  pesos_riesgo = ((1/phi) * np.linalg.inv(S) @ \n",
    "                  (pbar.T - (r *np.repeat(1,4))).T )\n",
    "  peso_act_libre =1 - pesos_riesgo.sum()\n",
    "  return np.append(pesos_riesgo,peso_act_libre)\n"
   ]
  },
  {
   "cell_type": "code",
   "execution_count": 45,
   "metadata": {
    "id": "KYvQ6IuwDooM"
   },
   "outputs": [],
   "source": [
    "pesos_riesgo = [ pesos_activos_riesgo(phi) for phi in phis ]"
   ]
  },
  {
   "cell_type": "code",
   "execution_count": 46,
   "metadata": {
    "colab": {
     "base_uri": "https://localhost:8080/"
    },
    "id": "g7ToMXg1D7DF",
    "outputId": "4511ef72-6241-473f-8b11-5db698944d23"
   },
   "outputs": [
    {
     "data": {
      "text/plain": [
       "1.0"
      ]
     },
     "execution_count": 46,
     "metadata": {},
     "output_type": "execute_result"
    }
   ],
   "source": [
    "# verificando que la suma de los pesos es uno\n",
    "pesos_riesgo[0].sum()"
   ]
  },
  {
   "cell_type": "code",
   "execution_count": 47,
   "metadata": {
    "id": "vJ1FVh5eECwy"
   },
   "outputs": [],
   "source": [
    "rest_libre_riesgo = np.zeros((100,3))\n",
    "rest_libre_riesgo[:,2] = phis\n",
    "for i in range(100):\n",
    "  rend = pesos_riesgo[i] @ np.append(pbar, r)\n",
    "  risk = float(np.array(pesos_riesgo[i]).reshape(5,1).T @ S_con_riesgo @ np.array(pesos_riesgo[i]).reshape(5,1)) \n",
    "  rest_libre_riesgo[i,0] = rend\n",
    "  rest_libre_riesgo[i,1] = risk\n",
    "rest_libre_riesgo = pd.DataFrame(data = {\"riesgo\":rest_libre_riesgo[:,1],\"retorno\": rest_libre_riesgo[:,0], \"phi\": rest_libre_riesgo[:,2]})"
   ]
  },
  {
   "cell_type": "code",
   "execution_count": 48,
   "metadata": {
    "colab": {
     "base_uri": "https://localhost:8080/",
     "height": 206
    },
    "id": "cckh6-YOI0rn",
    "outputId": "2127d35a-d690-480e-c325-d4d03fe221ba"
   },
   "outputs": [
    {
     "data": {
      "text/html": [
       "<div>\n",
       "<style scoped>\n",
       "    .dataframe tbody tr th:only-of-type {\n",
       "        vertical-align: middle;\n",
       "    }\n",
       "\n",
       "    .dataframe tbody tr th {\n",
       "        vertical-align: top;\n",
       "    }\n",
       "\n",
       "    .dataframe thead th {\n",
       "        text-align: right;\n",
       "    }\n",
       "</style>\n",
       "<table border=\"1\" class=\"dataframe\">\n",
       "  <thead>\n",
       "    <tr style=\"text-align: right;\">\n",
       "      <th></th>\n",
       "      <th>riesgo</th>\n",
       "      <th>retorno</th>\n",
       "      <th>phi</th>\n",
       "    </tr>\n",
       "  </thead>\n",
       "  <tbody>\n",
       "    <tr>\n",
       "      <th>0</th>\n",
       "      <td>1.496787</td>\n",
       "      <td>0.149689</td>\n",
       "      <td>0.100000</td>\n",
       "    </tr>\n",
       "    <tr>\n",
       "      <th>1</th>\n",
       "      <td>1.188940</td>\n",
       "      <td>0.133411</td>\n",
       "      <td>0.112202</td>\n",
       "    </tr>\n",
       "    <tr>\n",
       "      <th>2</th>\n",
       "      <td>0.944409</td>\n",
       "      <td>0.118904</td>\n",
       "      <td>0.125893</td>\n",
       "    </tr>\n",
       "    <tr>\n",
       "      <th>3</th>\n",
       "      <td>0.750170</td>\n",
       "      <td>0.105974</td>\n",
       "      <td>0.141254</td>\n",
       "    </tr>\n",
       "    <tr>\n",
       "      <th>4</th>\n",
       "      <td>0.595882</td>\n",
       "      <td>0.094451</td>\n",
       "      <td>0.158489</td>\n",
       "    </tr>\n",
       "  </tbody>\n",
       "</table>\n",
       "</div>"
      ],
      "text/plain": [
       "     riesgo   retorno       phi\n",
       "0  1.496787  0.149689  0.100000\n",
       "1  1.188940  0.133411  0.112202\n",
       "2  0.944409  0.118904  0.125893\n",
       "3  0.750170  0.105974  0.141254\n",
       "4  0.595882  0.094451  0.158489"
      ]
     },
     "execution_count": 48,
     "metadata": {},
     "output_type": "execute_result"
    }
   ],
   "source": [
    "rest_libre_riesgo.head()"
   ]
  },
  {
   "cell_type": "code",
   "execution_count": 49,
   "metadata": {
    "colab": {
     "base_uri": "https://localhost:8080/",
     "height": 206
    },
    "id": "muqL-YIDNxfa",
    "outputId": "7572582d-5476-4b69-92da-f62afd69baf9"
   },
   "outputs": [
    {
     "data": {
      "text/html": [
       "<div>\n",
       "<style scoped>\n",
       "    .dataframe tbody tr th:only-of-type {\n",
       "        vertical-align: middle;\n",
       "    }\n",
       "\n",
       "    .dataframe tbody tr th {\n",
       "        vertical-align: top;\n",
       "    }\n",
       "\n",
       "    .dataframe thead th {\n",
       "        text-align: right;\n",
       "    }\n",
       "</style>\n",
       "<table border=\"1\" class=\"dataframe\">\n",
       "  <thead>\n",
       "    <tr style=\"text-align: right;\">\n",
       "      <th></th>\n",
       "      <th>riesgo</th>\n",
       "      <th>retorno</th>\n",
       "      <th>phi</th>\n",
       "    </tr>\n",
       "  </thead>\n",
       "  <tbody>\n",
       "    <tr>\n",
       "      <th>95</th>\n",
       "      <td>4.733256e-10</td>\n",
       "      <td>0.000013</td>\n",
       "      <td>5623.413252</td>\n",
       "    </tr>\n",
       "    <tr>\n",
       "      <th>96</th>\n",
       "      <td>3.759759e-10</td>\n",
       "      <td>0.000012</td>\n",
       "      <td>6309.573445</td>\n",
       "    </tr>\n",
       "    <tr>\n",
       "      <th>97</th>\n",
       "      <td>2.986482e-10</td>\n",
       "      <td>0.000012</td>\n",
       "      <td>7079.457844</td>\n",
       "    </tr>\n",
       "    <tr>\n",
       "      <th>98</th>\n",
       "      <td>2.372247e-10</td>\n",
       "      <td>0.000012</td>\n",
       "      <td>7943.282347</td>\n",
       "    </tr>\n",
       "    <tr>\n",
       "      <th>99</th>\n",
       "      <td>1.884343e-10</td>\n",
       "      <td>0.000012</td>\n",
       "      <td>8912.509381</td>\n",
       "    </tr>\n",
       "  </tbody>\n",
       "</table>\n",
       "</div>"
      ],
      "text/plain": [
       "          riesgo   retorno          phi\n",
       "95  4.733256e-10  0.000013  5623.413252\n",
       "96  3.759759e-10  0.000012  6309.573445\n",
       "97  2.986482e-10  0.000012  7079.457844\n",
       "98  2.372247e-10  0.000012  7943.282347\n",
       "99  1.884343e-10  0.000012  8912.509381"
      ]
     },
     "execution_count": 49,
     "metadata": {},
     "output_type": "execute_result"
    }
   ],
   "source": [
    "rest_libre_riesgo.tail()"
   ]
  },
  {
   "cell_type": "code",
   "execution_count": 50,
   "metadata": {
    "colab": {
     "base_uri": "https://localhost:8080/",
     "height": 477
    },
    "id": "C1NyLkmNPJnR",
    "outputId": "1d851ef4-0235-486b-88fa-8ae0b6cbaf6b"
   },
   "outputs": [
    {
     "data": {
      "text/plain": [
       "Text(0, 0.5, 'Retorno %')"
      ]
     },
     "execution_count": 50,
     "metadata": {},
     "output_type": "execute_result"
    },
    {
     "data": {
      "image/png": "[encoded data removed]",
      "text/plain": [
       "<Figure size 720x504 with 1 Axes>"
      ]
     },
     "metadata": {
      "needs_background": "light"
     },
     "output_type": "display_data"
    }
   ],
   "source": [
    "ax = rest_libre_riesgo.plot.line(x=\"riesgo\", y=\"retorno\", title = \"Frontera Óptima Restricción Activo Libre Riesgo\", legend=False, figsize=(10,7))\n",
    "ax.set_xlabel(\"Riesgo %\")\n",
    "ax.set_ylabel(\"Retorno %\")"
   ]
  },
  {
   "cell_type": "code",
   "execution_count": 51,
   "metadata": {
    "colab": {
     "base_uri": "https://localhost:8080/"
    },
    "id": "oJwMPi0_PJnS",
    "outputId": "228026cb-13d8-4d2b-af94-3806f9241b2f"
   },
   "outputs": [
    {
     "data": {
      "text/plain": [
       "array([[ 15.046],\n",
       "       [-31.018],\n",
       "       [ 19.287],\n",
       "       [ 85.991],\n",
       "       [-88.307]])"
      ]
     },
     "execution_count": 51,
     "metadata": {},
     "output_type": "execute_result"
    }
   ],
   "source": [
    "np.round(pesos_riesgo[0].reshape(5,1), decimals = 3)"
   ]
  },
  {
   "cell_type": "code",
   "execution_count": 52,
   "metadata": {
    "colab": {
     "base_uri": "https://localhost:8080/"
    },
    "id": "lCIL5AxfPJnS",
    "outputId": "5b4371db-853e-4908-ff19-8d1fa4dae85d"
   },
   "outputs": [
    {
     "data": {
      "text/plain": [
       "riesgo     1.496787\n",
       "retorno    0.149689\n",
       "phi        0.100000\n",
       "Name: 0, dtype: float64"
      ]
     },
     "execution_count": 52,
     "metadata": {},
     "output_type": "execute_result"
    }
   ],
   "source": [
    "rest_libre_riesgo.iloc[0]"
   ]
  },
  {
   "cell_type": "code",
   "execution_count": 53,
   "metadata": {
    "colab": {
     "base_uri": "https://localhost:8080/"
    },
    "id": "VwLl8jf2PJnT",
    "outputId": "ea9bd9f4-c245-4144-e0cc-275e7d04f501"
   },
   "outputs": [
    {
     "data": {
      "text/plain": [
       "0.1496886879100926"
      ]
     },
     "execution_count": 53,
     "metadata": {},
     "output_type": "execute_result"
    }
   ],
   "source": [
    "np.append(pbar, r) @ np.array(pesos_riesgo[0]) "
   ]
  },
  {
   "cell_type": "code",
   "execution_count": 54,
   "metadata": {
    "colab": {
     "base_uri": "https://localhost:8080/"
    },
    "id": "ZxaKjPOaM7Vr",
    "outputId": "10831747-2a16-4ad7-bf04-350fbb9085ce"
   },
   "outputs": [
    {
     "data": {
      "text/plain": [
       "array([[ 0.   ],\n",
       "       [-0.   ],\n",
       "       [ 0.   ],\n",
       "       [ 0.001],\n",
       "       [ 0.999]])"
      ]
     },
     "execution_count": 54,
     "metadata": {},
     "output_type": "execute_result"
    }
   ],
   "source": [
    "np.round(pesos_riesgo[-1].reshape(5,1), decimals = 3)"
   ]
  },
  {
   "cell_type": "code",
   "execution_count": 55,
   "metadata": {
    "colab": {
     "base_uri": "https://localhost:8080/"
    },
    "id": "iJZDt2fiPJnT",
    "outputId": "da5b6128-141b-445c-c705-f8444084cf70"
   },
   "outputs": [
    {
     "data": {
      "text/plain": [
       "riesgo     1.884343e-10\n",
       "retorno    1.167942e-05\n",
       "phi        8.912509e+03\n",
       "Name: 99, dtype: float64"
      ]
     },
     "execution_count": 55,
     "metadata": {},
     "output_type": "execute_result"
    }
   ],
   "source": [
    "rest_libre_riesgo.iloc[-1]"
   ]
  },
  {
   "cell_type": "code",
   "execution_count": 56,
   "metadata": {
    "colab": {
     "base_uri": "https://localhost:8080/"
    },
    "id": "ZDD-vRnXPJnU",
    "outputId": "09ba7d50-9d47-48fd-9084-bf98c16a918f"
   },
   "outputs": [
    {
     "data": {
      "text/plain": [
       "array([ 0., -0.,  0.,  0.,  1.])"
      ]
     },
     "execution_count": 56,
     "metadata": {},
     "output_type": "execute_result"
    }
   ],
   "source": [
    "np.round(pesos_riesgo[-1], decimals = 2)"
   ]
  },
  {
   "cell_type": "code",
   "execution_count": 57,
   "metadata": {
    "colab": {
     "base_uri": "https://localhost:8080/"
    },
    "id": "oI5zw91gPJnU",
    "outputId": "47e753d1-6da8-4547-afda-95134748735e"
   },
   "outputs": [
    {
     "data": {
      "text/plain": [
       "1.1679422500508281e-05"
      ]
     },
     "execution_count": 57,
     "metadata": {},
     "output_type": "execute_result"
    }
   ],
   "source": [
    "np.append(pbar, r) @ np.array(pesos_riesgo[-1]) "
   ]
  },
  {
   "cell_type": "markdown",
   "metadata": {
    "id": "1npP1bOUS-pK"
   },
   "source": [
    "# Restricción de Intervalos de alocación"
   ]
  },
  {
   "cell_type": "code",
   "execution_count": 58,
   "metadata": {
    "id": "RQu7LByeTSqT"
   },
   "outputs": [],
   "source": [
    "#Creación de la matriz con intervalos\n",
    "# .2 <=x1 <=.5\n",
    "#  .1 <=     x4 <=.3\n",
    "# notar que implicitamente se está poniendo la restricción de no venta en corto para \n",
    "# x1 y x4, y que explícitamente se pone esta restricción para x_2 y x_3\n",
    "G = matrix(\n",
    "    [[ 1.0, -1.0, 0.0\t,0.0,0.0,0.0],\n",
    "     [0,      0     , -1.0\t,0,0,0],\n",
    "    [ 0\t, 0, 0\t,-1.0,0,0],\n",
    "    [0\t, 0\t,0\t,0,1.0,-1.0]])\n",
    "\n",
    "h = matrix([.5,\n",
    "            -.2,\n",
    "            0,\n",
    "            0,\n",
    "            .3,\n",
    "            -.1])"
   ]
  },
  {
   "cell_type": "code",
   "execution_count": 59,
   "metadata": {
    "id": "DugzCo7gS7T7"
   },
   "outputs": [],
   "source": [
    "# Problem data.\n",
    "n = len(g)\n",
    "\n",
    "\n",
    "# Definición de número de valores de phi que se van a calcular.\n",
    "N = 100\n",
    "phis = [ 10**(5.0*t/N-1.0) for t in range(N) ]\n",
    "\n",
    "portfolios = [ qp(phi*S, -pbar, G=G, h=h)['x'] for phi in phis ]\n",
    "\n",
    "returns = [ dot(pbar,x) for x in portfolios ]\n",
    "risks = [ sqrt(dot(x, S*x)) for x in portfolios ]\n"
   ]
  },
  {
   "cell_type": "code",
   "execution_count": 60,
   "metadata": {
    "id": "ANxzKqD5S7T8"
   },
   "outputs": [],
   "source": [
    "risks_df = np.array(risks)\n",
    "returns_df = np.array(returns)\n",
    "rest_intervalo= pd.DataFrame(data = {\"riesgo\":risks_df,\"retorno\": returns_df, \"phi\": phis})"
   ]
  },
  {
   "cell_type": "code",
   "execution_count": 61,
   "metadata": {
    "colab": {
     "base_uri": "https://localhost:8080/",
     "height": 206
    },
    "id": "v1FPObpAS7T9",
    "outputId": "8beab358-926d-454d-ff97-ab341a6ed1c2"
   },
   "outputs": [
    {
     "data": {
      "text/html": [
       "<div>\n",
       "<style scoped>\n",
       "    .dataframe tbody tr th:only-of-type {\n",
       "        vertical-align: middle;\n",
       "    }\n",
       "\n",
       "    .dataframe tbody tr th {\n",
       "        vertical-align: top;\n",
       "    }\n",
       "\n",
       "    .dataframe thead th {\n",
       "        text-align: right;\n",
       "    }\n",
       "</style>\n",
       "<table border=\"1\" class=\"dataframe\">\n",
       "  <thead>\n",
       "    <tr style=\"text-align: right;\">\n",
       "      <th></th>\n",
       "      <th>riesgo</th>\n",
       "      <th>retorno</th>\n",
       "      <th>phi</th>\n",
       "    </tr>\n",
       "  </thead>\n",
       "  <tbody>\n",
       "    <tr>\n",
       "      <th>0</th>\n",
       "      <td>0.160534</td>\n",
       "      <td>0.005137</td>\n",
       "      <td>0.100000</td>\n",
       "    </tr>\n",
       "    <tr>\n",
       "      <th>1</th>\n",
       "      <td>0.143581</td>\n",
       "      <td>0.004864</td>\n",
       "      <td>0.112202</td>\n",
       "    </tr>\n",
       "    <tr>\n",
       "      <th>2</th>\n",
       "      <td>0.128530</td>\n",
       "      <td>0.004621</td>\n",
       "      <td>0.125893</td>\n",
       "    </tr>\n",
       "    <tr>\n",
       "      <th>3</th>\n",
       "      <td>0.115182</td>\n",
       "      <td>0.004405</td>\n",
       "      <td>0.141254</td>\n",
       "    </tr>\n",
       "    <tr>\n",
       "      <th>4</th>\n",
       "      <td>0.103358</td>\n",
       "      <td>0.004212</td>\n",
       "      <td>0.158489</td>\n",
       "    </tr>\n",
       "  </tbody>\n",
       "</table>\n",
       "</div>"
      ],
      "text/plain": [
       "     riesgo   retorno       phi\n",
       "0  0.160534  0.005137  0.100000\n",
       "1  0.143581  0.004864  0.112202\n",
       "2  0.128530  0.004621  0.125893\n",
       "3  0.115182  0.004405  0.141254\n",
       "4  0.103358  0.004212  0.158489"
      ]
     },
     "execution_count": 61,
     "metadata": {},
     "output_type": "execute_result"
    }
   ],
   "source": [
    "rest_intervalo.head()"
   ]
  },
  {
   "cell_type": "code",
   "execution_count": 62,
   "metadata": {
    "colab": {
     "base_uri": "https://localhost:8080/",
     "height": 206
    },
    "id": "A1ZkliLpS7T9",
    "outputId": "c8870377-e15c-4763-cfea-ddcf188792ea"
   },
   "outputs": [
    {
     "data": {
      "text/html": [
       "<div>\n",
       "<style scoped>\n",
       "    .dataframe tbody tr th:only-of-type {\n",
       "        vertical-align: middle;\n",
       "    }\n",
       "\n",
       "    .dataframe tbody tr th {\n",
       "        vertical-align: top;\n",
       "    }\n",
       "\n",
       "    .dataframe thead th {\n",
       "        text-align: right;\n",
       "    }\n",
       "</style>\n",
       "<table border=\"1\" class=\"dataframe\">\n",
       "  <thead>\n",
       "    <tr style=\"text-align: right;\">\n",
       "      <th></th>\n",
       "      <th>riesgo</th>\n",
       "      <th>retorno</th>\n",
       "      <th>phi</th>\n",
       "    </tr>\n",
       "  </thead>\n",
       "  <tbody>\n",
       "    <tr>\n",
       "      <th>95</th>\n",
       "      <td>0.010532</td>\n",
       "      <td>0.001012</td>\n",
       "      <td>5623.413252</td>\n",
       "    </tr>\n",
       "    <tr>\n",
       "      <th>96</th>\n",
       "      <td>0.010532</td>\n",
       "      <td>0.001012</td>\n",
       "      <td>6309.573445</td>\n",
       "    </tr>\n",
       "    <tr>\n",
       "      <th>97</th>\n",
       "      <td>0.010532</td>\n",
       "      <td>0.001012</td>\n",
       "      <td>7079.457844</td>\n",
       "    </tr>\n",
       "    <tr>\n",
       "      <th>98</th>\n",
       "      <td>0.010532</td>\n",
       "      <td>0.001012</td>\n",
       "      <td>7943.282347</td>\n",
       "    </tr>\n",
       "    <tr>\n",
       "      <th>99</th>\n",
       "      <td>0.010532</td>\n",
       "      <td>0.001012</td>\n",
       "      <td>8912.509381</td>\n",
       "    </tr>\n",
       "  </tbody>\n",
       "</table>\n",
       "</div>"
      ],
      "text/plain": [
       "      riesgo   retorno          phi\n",
       "95  0.010532  0.001012  5623.413252\n",
       "96  0.010532  0.001012  6309.573445\n",
       "97  0.010532  0.001012  7079.457844\n",
       "98  0.010532  0.001012  7943.282347\n",
       "99  0.010532  0.001012  8912.509381"
      ]
     },
     "execution_count": 62,
     "metadata": {},
     "output_type": "execute_result"
    }
   ],
   "source": [
    "rest_intervalo.tail()"
   ]
  },
  {
   "cell_type": "code",
   "execution_count": 63,
   "metadata": {
    "colab": {
     "base_uri": "https://localhost:8080/",
     "height": 477
    },
    "id": "Y_m91KYJS7T-",
    "outputId": "290f9258-c1cb-43df-cb55-9859557dbbdc"
   },
   "outputs": [
    {
     "data": {
      "text/plain": [
       "Text(0, 0.5, 'Retorno %')"
      ]
     },
     "execution_count": 63,
     "metadata": {},
     "output_type": "execute_result"
    },
    {
     "data": {
      "image/png": "[encoded data removed]",
      "text/plain": [
       "<Figure size 720x504 with 1 Axes>"
      ]
     },
     "metadata": {
      "needs_background": "light"
     },
     "output_type": "display_data"
    }
   ],
   "source": [
    "ax = rest_intervalo.plot.line(x=\"riesgo\", y=\"retorno\", title = \"Frontera Óptima Restricción por Intervalos\", legend=False, figsize=(10,7))\n",
    "ax.set_xlabel(\"Riesgo %\")\n",
    "ax.set_ylabel(\"Retorno %\")"
   ]
  },
  {
   "cell_type": "code",
   "execution_count": 64,
   "metadata": {
    "colab": {
     "base_uri": "https://localhost:8080/"
    },
    "id": "ed_vVnyuS7T-",
    "outputId": "a9f247e8-bcfa-4319-fbd5-7c1778983e7c"
   },
   "outputs": [
    {
     "data": {
      "text/plain": [
       "array([[ 0.5  ],\n",
       "       [ 0.   ],\n",
       "       [23.412],\n",
       "       [ 0.3  ]])"
      ]
     },
     "execution_count": 64,
     "metadata": {},
     "output_type": "execute_result"
    }
   ],
   "source": [
    "np.round(portfolios[0], decimals = 3)"
   ]
  },
  {
   "cell_type": "code",
   "execution_count": 65,
   "metadata": {
    "colab": {
     "base_uri": "https://localhost:8080/"
    },
    "id": "Z1OMD7LQS7T-",
    "outputId": "0381a1c1-148f-445e-dc65-0c9c09bbd8ac"
   },
   "outputs": [
    {
     "data": {
      "text/plain": [
       "riesgo     0.160534\n",
       "retorno    0.005137\n",
       "phi        0.100000\n",
       "Name: 0, dtype: float64"
      ]
     },
     "execution_count": 65,
     "metadata": {},
     "output_type": "execute_result"
    }
   ],
   "source": [
    "rest_intervalo.iloc[0]"
   ]
  },
  {
   "cell_type": "code",
   "execution_count": 66,
   "metadata": {
    "colab": {
     "base_uri": "https://localhost:8080/"
    },
    "id": "JHMsTIgTS7T_",
    "outputId": "69743555-efc8-4938-fe04-1a65b31df429"
   },
   "outputs": [
    {
     "data": {
      "text/plain": [
       "array([0.00514598])"
      ]
     },
     "execution_count": 66,
     "metadata": {},
     "output_type": "execute_result"
    }
   ],
   "source": [
    "g@ np.array(portfolios[0]) "
   ]
  },
  {
   "cell_type": "code",
   "execution_count": 67,
   "metadata": {
    "colab": {
     "base_uri": "https://localhost:8080/"
    },
    "id": "3zD8EbzLS7T_",
    "outputId": "ba1e4aa7-efe5-4c6f-f941-48c7fb78746c"
   },
   "outputs": [
    {
     "data": {
      "text/plain": [
       "riesgo        0.010532\n",
       "retorno       0.001012\n",
       "phi        8912.509381\n",
       "Name: 99, dtype: float64"
      ]
     },
     "execution_count": 67,
     "metadata": {},
     "output_type": "execute_result"
    }
   ],
   "source": [
    "rest_intervalo.iloc[-1]"
   ]
  },
  {
   "cell_type": "code",
   "execution_count": 68,
   "metadata": {
    "colab": {
     "base_uri": "https://localhost:8080/"
    },
    "id": "BsmiJqzrS7UA",
    "outputId": "364a200d-7976-4932-d990-a74cc0acbf01"
   },
   "outputs": [
    {
     "data": {
      "text/plain": [
       "array([[0.2  ],\n",
       "       [0.081],\n",
       "       [0.099],\n",
       "       [0.1  ]])"
      ]
     },
     "execution_count": 68,
     "metadata": {},
     "output_type": "execute_result"
    }
   ],
   "source": [
    "np.round(portfolios[-1], decimals = 3)"
   ]
  },
  {
   "cell_type": "code",
   "execution_count": 69,
   "metadata": {
    "colab": {
     "base_uri": "https://localhost:8080/"
    },
    "id": "NxC9xvDjS7UA",
    "outputId": "faf89a2e-1c80-46ef-f111-c4ab0ee8727c"
   },
   "outputs": [
    {
     "data": {
      "text/plain": [
       "array([0.00101232])"
      ]
     },
     "execution_count": 69,
     "metadata": {},
     "output_type": "execute_result"
    }
   ],
   "source": [
    "g@ np.array(portfolios[-1]) "
   ]
  },
  {
   "cell_type": "markdown",
   "metadata": {
    "id": "fb8lUM8YXINn"
   },
   "source": [
    "## Añadiendo restriccion de alocación de todos los activos"
   ]
  },
  {
   "cell_type": "code",
   "execution_count": 70,
   "metadata": {
    "id": "bwMCMPkxXdvE"
   },
   "outputs": [],
   "source": [
    "# Problem data.\n",
    "n = len(g)\n",
    "\n",
    "## Restriccioń de alocacioń de todo el capital\n",
    "# Esta matriz tiene que ver con la rstricción 1T x = 1 y es una matriz (o mas bien vector) de 1 (parte izq)\n",
    "A = matrix(1.0, (1,n))\n",
    "# es escalar 1 que es la parte derecha de 1T x = 1\n",
    "b = matrix(1.0)\n",
    "\n",
    "# Definición de número de valores de phi que se van a calcular.\n",
    "N = 100\n",
    "phis = [ 10**(5.0*t/N-1.0) for t in range(N) ]\n",
    "portfolios = [ qp(phi*S, -pbar, G, h, A, b)['x'] for phi in phis ]\n",
    "\n",
    "\n",
    "returns = [ dot(pbar,x) for x in portfolios ]\n",
    "risks = [ sqrt(dot(x, S*x)) for x in portfolios ]\n"
   ]
  },
  {
   "cell_type": "code",
   "execution_count": 71,
   "metadata": {
    "id": "ZbBlrnGbXG7l"
   },
   "outputs": [],
   "source": [
    "risks_df = np.array(risks)\n",
    "returns_df = np.array(returns)\n",
    "rest_intervalo= pd.DataFrame(data = {\"riesgo\":risks_df,\"retorno\": returns_df, \"phi\": phis})"
   ]
  },
  {
   "cell_type": "code",
   "execution_count": 72,
   "metadata": {
    "colab": {
     "base_uri": "https://localhost:8080/",
     "height": 206
    },
    "id": "_1IcP6q8XG7m",
    "outputId": "845630e7-9017-4085-e4e7-64775429b74a"
   },
   "outputs": [
    {
     "data": {
      "text/html": [
       "<div>\n",
       "<style scoped>\n",
       "    .dataframe tbody tr th:only-of-type {\n",
       "        vertical-align: middle;\n",
       "    }\n",
       "\n",
       "    .dataframe tbody tr th {\n",
       "        vertical-align: top;\n",
       "    }\n",
       "\n",
       "    .dataframe thead th {\n",
       "        text-align: right;\n",
       "    }\n",
       "</style>\n",
       "<table border=\"1\" class=\"dataframe\">\n",
       "  <thead>\n",
       "    <tr style=\"text-align: right;\">\n",
       "      <th></th>\n",
       "      <th>riesgo</th>\n",
       "      <th>retorno</th>\n",
       "      <th>phi</th>\n",
       "    </tr>\n",
       "  </thead>\n",
       "  <tbody>\n",
       "    <tr>\n",
       "      <th>0</th>\n",
       "      <td>0.026507</td>\n",
       "      <td>0.00263</td>\n",
       "      <td>0.100000</td>\n",
       "    </tr>\n",
       "    <tr>\n",
       "      <th>1</th>\n",
       "      <td>0.026507</td>\n",
       "      <td>0.00263</td>\n",
       "      <td>0.112202</td>\n",
       "    </tr>\n",
       "    <tr>\n",
       "      <th>2</th>\n",
       "      <td>0.026507</td>\n",
       "      <td>0.00263</td>\n",
       "      <td>0.125893</td>\n",
       "    </tr>\n",
       "    <tr>\n",
       "      <th>3</th>\n",
       "      <td>0.026507</td>\n",
       "      <td>0.00263</td>\n",
       "      <td>0.141254</td>\n",
       "    </tr>\n",
       "    <tr>\n",
       "      <th>4</th>\n",
       "      <td>0.026507</td>\n",
       "      <td>0.00263</td>\n",
       "      <td>0.158489</td>\n",
       "    </tr>\n",
       "  </tbody>\n",
       "</table>\n",
       "</div>"
      ],
      "text/plain": [
       "     riesgo  retorno       phi\n",
       "0  0.026507  0.00263  0.100000\n",
       "1  0.026507  0.00263  0.112202\n",
       "2  0.026507  0.00263  0.125893\n",
       "3  0.026507  0.00263  0.141254\n",
       "4  0.026507  0.00263  0.158489"
      ]
     },
     "execution_count": 72,
     "metadata": {},
     "output_type": "execute_result"
    }
   ],
   "source": [
    "rest_intervalo.head()"
   ]
  },
  {
   "cell_type": "code",
   "execution_count": 73,
   "metadata": {
    "colab": {
     "base_uri": "https://localhost:8080/",
     "height": 206
    },
    "id": "89Q6veLDXG7n",
    "outputId": "49ae2b63-b356-4b32-ef17-975e0164bf58"
   },
   "outputs": [
    {
     "data": {
      "text/html": [
       "<div>\n",
       "<style scoped>\n",
       "    .dataframe tbody tr th:only-of-type {\n",
       "        vertical-align: middle;\n",
       "    }\n",
       "\n",
       "    .dataframe tbody tr th {\n",
       "        vertical-align: top;\n",
       "    }\n",
       "\n",
       "    .dataframe thead th {\n",
       "        text-align: right;\n",
       "    }\n",
       "</style>\n",
       "<table border=\"1\" class=\"dataframe\">\n",
       "  <thead>\n",
       "    <tr style=\"text-align: right;\">\n",
       "      <th></th>\n",
       "      <th>riesgo</th>\n",
       "      <th>retorno</th>\n",
       "      <th>phi</th>\n",
       "    </tr>\n",
       "  </thead>\n",
       "  <tbody>\n",
       "    <tr>\n",
       "      <th>95</th>\n",
       "      <td>0.010863</td>\n",
       "      <td>0.000988</td>\n",
       "      <td>5623.413252</td>\n",
       "    </tr>\n",
       "    <tr>\n",
       "      <th>96</th>\n",
       "      <td>0.010863</td>\n",
       "      <td>0.000988</td>\n",
       "      <td>6309.573445</td>\n",
       "    </tr>\n",
       "    <tr>\n",
       "      <th>97</th>\n",
       "      <td>0.010863</td>\n",
       "      <td>0.000988</td>\n",
       "      <td>7079.457844</td>\n",
       "    </tr>\n",
       "    <tr>\n",
       "      <th>98</th>\n",
       "      <td>0.010863</td>\n",
       "      <td>0.000988</td>\n",
       "      <td>7943.282347</td>\n",
       "    </tr>\n",
       "    <tr>\n",
       "      <th>99</th>\n",
       "      <td>0.010863</td>\n",
       "      <td>0.000988</td>\n",
       "      <td>8912.509381</td>\n",
       "    </tr>\n",
       "  </tbody>\n",
       "</table>\n",
       "</div>"
      ],
      "text/plain": [
       "      riesgo   retorno          phi\n",
       "95  0.010863  0.000988  5623.413252\n",
       "96  0.010863  0.000988  6309.573445\n",
       "97  0.010863  0.000988  7079.457844\n",
       "98  0.010863  0.000988  7943.282347\n",
       "99  0.010863  0.000988  8912.509381"
      ]
     },
     "execution_count": 73,
     "metadata": {},
     "output_type": "execute_result"
    }
   ],
   "source": [
    "rest_intervalo.tail()"
   ]
  },
  {
   "cell_type": "code",
   "execution_count": 74,
   "metadata": {
    "colab": {
     "base_uri": "https://localhost:8080/",
     "height": 477
    },
    "id": "fV7J94xgXG7n",
    "outputId": "1d77a0eb-cfaa-487b-f594-d7d5680adf26"
   },
   "outputs": [
    {
     "data": {
      "text/plain": [
       "Text(0, 0.5, 'Retorno %')"
      ]
     },
     "execution_count": 74,
     "metadata": {},
     "output_type": "execute_result"
    },
    {
     "data": {
      "image/png": "[encoded data removed]",
      "text/plain": [
       "<Figure size 720x504 with 1 Axes>"
      ]
     },
     "metadata": {
      "needs_background": "light"
     },
     "output_type": "display_data"
    }
   ],
   "source": [
    "ax = rest_intervalo.plot.line(x=\"riesgo\", y=\"retorno\", title = \"Frontera Óptima Restricción por Intervalos y Alocación Completa\", legend=False, figsize=(10,7))\n",
    "ax.set_xlabel(\"Riesgo %\")\n",
    "ax.set_ylabel(\"Retorno %\")"
   ]
  },
  {
   "cell_type": "code",
   "execution_count": 75,
   "metadata": {
    "colab": {
     "base_uri": "https://localhost:8080/"
    },
    "id": "_eWHq1GQXG7o",
    "outputId": "0d1d5e96-0d02-4402-b7ff-2c2a0a27ff22"
   },
   "outputs": [
    {
     "data": {
      "text/plain": [
       "array([[0.5],\n",
       "       [0. ],\n",
       "       [0.2],\n",
       "       [0.3]])"
      ]
     },
     "execution_count": 75,
     "metadata": {},
     "output_type": "execute_result"
    }
   ],
   "source": [
    "np.round(portfolios[0], decimals = 3)"
   ]
  },
  {
   "cell_type": "code",
   "execution_count": 76,
   "metadata": {
    "colab": {
     "base_uri": "https://localhost:8080/"
    },
    "id": "FgUMoHzsXG7o",
    "outputId": "2173d56f-83fe-477e-a782-bae759ab90ca"
   },
   "outputs": [
    {
     "data": {
      "text/plain": [
       "riesgo     0.026507\n",
       "retorno    0.002630\n",
       "phi        0.100000\n",
       "Name: 0, dtype: float64"
      ]
     },
     "execution_count": 76,
     "metadata": {},
     "output_type": "execute_result"
    }
   ],
   "source": [
    "rest_intervalo.iloc[0]"
   ]
  },
  {
   "cell_type": "code",
   "execution_count": 77,
   "metadata": {
    "colab": {
     "base_uri": "https://localhost:8080/"
    },
    "id": "p7kGthzMXG7p",
    "outputId": "7f62f6ac-25b8-4a60-accf-5c251cb50211"
   },
   "outputs": [
    {
     "data": {
      "text/plain": [
       "array([0.00263006])"
      ]
     },
     "execution_count": 77,
     "metadata": {},
     "output_type": "execute_result"
    }
   ],
   "source": [
    "g@ np.array(portfolios[0]) "
   ]
  },
  {
   "cell_type": "markdown",
   "metadata": {
    "id": "_fCtCySbtiNw"
   },
   "source": [
    "Notar que al forzar que se invierta todo el capital, se obtiene un portafolio con un riesgo más alto y un retorno más bajo en comparación cuando se usa también la restricción de intervalos pero sin la restricción de alocaccioń de todo el capital (ejemplo pasado)."
   ]
  },
  {
   "cell_type": "code",
   "execution_count": 78,
   "metadata": {
    "colab": {
     "base_uri": "https://localhost:8080/"
    },
    "id": "x7yPkjcJXG7p",
    "outputId": "4a37bf4c-5ab2-4af3-b3c1-5f4eab544764"
   },
   "outputs": [
    {
     "data": {
      "text/plain": [
       "riesgo        0.010863\n",
       "retorno       0.000988\n",
       "phi        8912.509381\n",
       "Name: 99, dtype: float64"
      ]
     },
     "execution_count": 78,
     "metadata": {},
     "output_type": "execute_result"
    }
   ],
   "source": [
    "rest_intervalo.iloc[-1]"
   ]
  },
  {
   "cell_type": "markdown",
   "metadata": {
    "id": "5_iiQXhyY8qv"
   },
   "source": [
    "Notar que aún cuando se esperaría que la solución fuera asignar todo el capital al activo con menos riesgo, hay que notar que en la matriz de var-cov, las estructuras de correlación influyen y logran obtener un portafolio con menos riesgo ( 0.0045) considerando que el activo menos riesgoso tiene un riesgo de (0.0088)"
   ]
  },
  {
   "cell_type": "code",
   "execution_count": 79,
   "metadata": {
    "colab": {
     "base_uri": "https://localhost:8080/"
    },
    "id": "D_urKBbLXG7q",
    "outputId": "e93cd949-aec1-49bf-d7f4-046b169426c0"
   },
   "outputs": [
    {
     "data": {
      "text/plain": [
       "array([[0.2  ],\n",
       "       [0.268],\n",
       "       [0.432],\n",
       "       [0.1  ]])"
      ]
     },
     "execution_count": 79,
     "metadata": {},
     "output_type": "execute_result"
    }
   ],
   "source": [
    "np.round(portfolios[-1], decimals = 3)"
   ]
  },
  {
   "cell_type": "code",
   "execution_count": 80,
   "metadata": {
    "colab": {
     "base_uri": "https://localhost:8080/"
    },
    "id": "Y-L0Nfa7ZVDV",
    "outputId": "342fc103-dbfe-4f0d-dfca-302e93998674"
   },
   "outputs": [
    {
     "data": {
      "text/plain": [
       "BTC-USD    0.052017\n",
       "GC=F       0.009555\n",
       "MXN=X      0.006821\n",
       "^MXX       0.008825\n",
       "dtype: float64"
      ]
     },
     "execution_count": 80,
     "metadata": {},
     "output_type": "execute_result"
    }
   ],
   "source": [
    "retpor.std()"
   ]
  },
  {
   "cell_type": "code",
   "execution_count": 81,
   "metadata": {
    "colab": {
     "base_uri": "https://localhost:8080/"
    },
    "id": "r-pEpn2YXG7q",
    "outputId": "1283e192-80b2-4cf0-ba2c-9736a7c5d7a4"
   },
   "outputs": [
    {
     "data": {
      "text/plain": [
       "array([0.00098784])"
      ]
     },
     "execution_count": 81,
     "metadata": {},
     "output_type": "execute_result"
    }
   ],
   "source": [
    "g@ np.array(portfolios[-1]) "
   ]
  },
  {
   "cell_type": "markdown",
   "metadata": {
    "id": "alUVw8f0Zu3H"
   },
   "source": [
    "# Restricción de Intervalos de alocación por grupos"
   ]
  },
  {
   "cell_type": "code",
   "execution_count": 82,
   "metadata": {
    "id": "qjDZwv-GZu3H"
   },
   "outputs": [],
   "source": [
    "#Creación de la matriz con intervalos\n",
    "# .2 <=x1+x3 <=.5\n",
    "#  .1 <=   x2+ x4 <=.3\n",
    "# notar que implicitamente se está poniendo la restricción de no venta en corto para \n",
    "# x1 y x4, y que explícitamente se pone esta restricción para x_2 y x_3\n",
    "G = matrix(\n",
    "    [[ 1.0,  -1.0,  0\t,  0, -1.0,0, 0,0],\n",
    "       [0,    0    , 1.0,  -1.0,  0,-1.0, 0 ,0],\n",
    "       [ 1.0, -1.0,  0\t, 0, 0,0, -1.0, 0],\n",
    "       [0,    0\t    ,1.0,   -1.0, 0,0, 0 , -1.0]])\n",
    "\n",
    "h = matrix([.5,\n",
    "            -.2,\n",
    "            .3,\n",
    "            -.1,\n",
    "            0,\n",
    "            0,\n",
    "            0,\n",
    "            0])"
   ]
  },
  {
   "cell_type": "code",
   "execution_count": 83,
   "metadata": {
    "id": "JK7SLIzjZu3I"
   },
   "outputs": [],
   "source": [
    "# Problem data.\n",
    "n = len(g)\n",
    "\n",
    "## Restriccioń de alocacioń de todo el capital\n",
    "# Esta matriz tiene que ver con la rstricción 1T x = 1 y es una matriz (o mas bien vector) de 1 (parte izq)\n",
    "\n",
    "\n",
    "# Definición de número de valores de phi que se van a calcular.\n",
    "N = 100\n",
    "phis = [ 10**(5.0*t/N-1.0) for t in range(N) ]\n",
    "\n",
    "portfolios = [ qp(phi*S, -pbar, G=G, h=h)['x'] for phi in phis ]\n",
    "\n",
    "returns = [ dot(pbar,x) for x in portfolios ]\n",
    "risks = [ sqrt(dot(x, S*x)) for x in portfolios ]"
   ]
  },
  {
   "cell_type": "code",
   "execution_count": 84,
   "metadata": {
    "id": "CFwAnB7jZu3J"
   },
   "outputs": [],
   "source": [
    "risks_df = np.array(risks)\n",
    "returns_df = np.array(returns)\n",
    "rest_intervalo_grupos= pd.DataFrame(data = {\"riesgo\":risks_df,\"retorno\": returns_df, \"phi\": phis})"
   ]
  },
  {
   "cell_type": "code",
   "execution_count": 85,
   "metadata": {
    "colab": {
     "base_uri": "https://localhost:8080/",
     "height": 206
    },
    "id": "H4yMn55ZZu3J",
    "outputId": "7868a2f0-bce1-4006-efdd-2c921fd0b93a"
   },
   "outputs": [
    {
     "data": {
      "text/html": [
       "<div>\n",
       "<style scoped>\n",
       "    .dataframe tbody tr th:only-of-type {\n",
       "        vertical-align: middle;\n",
       "    }\n",
       "\n",
       "    .dataframe tbody tr th {\n",
       "        vertical-align: top;\n",
       "    }\n",
       "\n",
       "    .dataframe thead th {\n",
       "        text-align: right;\n",
       "    }\n",
       "</style>\n",
       "<table border=\"1\" class=\"dataframe\">\n",
       "  <thead>\n",
       "    <tr style=\"text-align: right;\">\n",
       "      <th></th>\n",
       "      <th>riesgo</th>\n",
       "      <th>retorno</th>\n",
       "      <th>phi</th>\n",
       "    </tr>\n",
       "  </thead>\n",
       "  <tbody>\n",
       "    <tr>\n",
       "      <th>0</th>\n",
       "      <td>0.026543</td>\n",
       "      <td>0.002608</td>\n",
       "      <td>0.100000</td>\n",
       "    </tr>\n",
       "    <tr>\n",
       "      <th>1</th>\n",
       "      <td>0.026543</td>\n",
       "      <td>0.002608</td>\n",
       "      <td>0.112202</td>\n",
       "    </tr>\n",
       "    <tr>\n",
       "      <th>2</th>\n",
       "      <td>0.026543</td>\n",
       "      <td>0.002608</td>\n",
       "      <td>0.125893</td>\n",
       "    </tr>\n",
       "    <tr>\n",
       "      <th>3</th>\n",
       "      <td>0.026543</td>\n",
       "      <td>0.002608</td>\n",
       "      <td>0.141254</td>\n",
       "    </tr>\n",
       "    <tr>\n",
       "      <th>4</th>\n",
       "      <td>0.026543</td>\n",
       "      <td>0.002608</td>\n",
       "      <td>0.158489</td>\n",
       "    </tr>\n",
       "  </tbody>\n",
       "</table>\n",
       "</div>"
      ],
      "text/plain": [
       "     riesgo   retorno       phi\n",
       "0  0.026543  0.002608  0.100000\n",
       "1  0.026543  0.002608  0.112202\n",
       "2  0.026543  0.002608  0.125893\n",
       "3  0.026543  0.002608  0.141254\n",
       "4  0.026543  0.002608  0.158489"
      ]
     },
     "execution_count": 85,
     "metadata": {},
     "output_type": "execute_result"
    }
   ],
   "source": [
    "rest_intervalo_grupos.head()"
   ]
  },
  {
   "cell_type": "code",
   "execution_count": 86,
   "metadata": {
    "colab": {
     "base_uri": "https://localhost:8080/",
     "height": 206
    },
    "id": "mcNSvLWSZu3K",
    "outputId": "2fdcdaf9-df26-468f-da5e-ffde14a0374d"
   },
   "outputs": [
    {
     "data": {
      "text/html": [
       "<div>\n",
       "<style scoped>\n",
       "    .dataframe tbody tr th:only-of-type {\n",
       "        vertical-align: middle;\n",
       "    }\n",
       "\n",
       "    .dataframe tbody tr th {\n",
       "        vertical-align: top;\n",
       "    }\n",
       "\n",
       "    .dataframe thead th {\n",
       "        text-align: right;\n",
       "    }\n",
       "</style>\n",
       "<table border=\"1\" class=\"dataframe\">\n",
       "  <thead>\n",
       "    <tr style=\"text-align: right;\">\n",
       "      <th></th>\n",
       "      <th>riesgo</th>\n",
       "      <th>retorno</th>\n",
       "      <th>phi</th>\n",
       "    </tr>\n",
       "  </thead>\n",
       "  <tbody>\n",
       "    <tr>\n",
       "      <th>95</th>\n",
       "      <td>0.001428</td>\n",
       "      <td>0.000054</td>\n",
       "      <td>5623.413252</td>\n",
       "    </tr>\n",
       "    <tr>\n",
       "      <th>96</th>\n",
       "      <td>0.001428</td>\n",
       "      <td>0.000053</td>\n",
       "      <td>6309.573445</td>\n",
       "    </tr>\n",
       "    <tr>\n",
       "      <th>97</th>\n",
       "      <td>0.001428</td>\n",
       "      <td>0.000053</td>\n",
       "      <td>7079.457844</td>\n",
       "    </tr>\n",
       "    <tr>\n",
       "      <th>98</th>\n",
       "      <td>0.001428</td>\n",
       "      <td>0.000053</td>\n",
       "      <td>7943.282347</td>\n",
       "    </tr>\n",
       "    <tr>\n",
       "      <th>99</th>\n",
       "      <td>0.001428</td>\n",
       "      <td>0.000053</td>\n",
       "      <td>8912.509381</td>\n",
       "    </tr>\n",
       "  </tbody>\n",
       "</table>\n",
       "</div>"
      ],
      "text/plain": [
       "      riesgo   retorno          phi\n",
       "95  0.001428  0.000054  5623.413252\n",
       "96  0.001428  0.000053  6309.573445\n",
       "97  0.001428  0.000053  7079.457844\n",
       "98  0.001428  0.000053  7943.282347\n",
       "99  0.001428  0.000053  8912.509381"
      ]
     },
     "execution_count": 86,
     "metadata": {},
     "output_type": "execute_result"
    }
   ],
   "source": [
    "rest_intervalo_grupos.tail()"
   ]
  },
  {
   "cell_type": "code",
   "execution_count": 87,
   "metadata": {
    "colab": {
     "base_uri": "https://localhost:8080/",
     "height": 477
    },
    "id": "lVbG1wy8Zu3K",
    "outputId": "bf13b4b1-2899-48bb-a27f-0e7dc26d4487"
   },
   "outputs": [
    {
     "data": {
      "text/plain": [
       "Text(0, 0.5, 'Retorno %')"
      ]
     },
     "execution_count": 87,
     "metadata": {},
     "output_type": "execute_result"
    },
    {
     "data": {
      "image/png": "[encoded data removed]",
      "text/plain": [
       "<Figure size 720x504 with 1 Axes>"
      ]
     },
     "metadata": {
      "needs_background": "light"
     },
     "output_type": "display_data"
    }
   ],
   "source": [
    "ax = rest_intervalo_grupos.plot.line(x=\"riesgo\", y=\"retorno\", title = \"Frontera Óptima Restricción por Grupos\", legend=False, figsize=(10,7))\n",
    "ax.set_xlabel(\"Riesgo %\")\n",
    "ax.set_ylabel(\"Retorno %\")"
   ]
  },
  {
   "cell_type": "code",
   "execution_count": 88,
   "metadata": {
    "colab": {
     "base_uri": "https://localhost:8080/"
    },
    "id": "PP715LsdZu3L",
    "outputId": "27297a85-d538-4f50-c655-f4d781ac92b3"
   },
   "outputs": [
    {
     "data": {
      "text/plain": [
       "array([[0.5],\n",
       "       [0. ],\n",
       "       [0. ],\n",
       "       [0.3]])"
      ]
     },
     "execution_count": 88,
     "metadata": {},
     "output_type": "execute_result"
    }
   ],
   "source": [
    "np.round(portfolios[0], decimals = 3)"
   ]
  },
  {
   "cell_type": "code",
   "execution_count": 89,
   "metadata": {
    "colab": {
     "base_uri": "https://localhost:8080/"
    },
    "id": "iqsGvzP6Zu3L",
    "outputId": "bffb67c3-dcd3-4c73-97c7-d8f3f9b88714"
   },
   "outputs": [
    {
     "data": {
      "text/plain": [
       "riesgo     0.026543\n",
       "retorno    0.002608\n",
       "phi        0.100000\n",
       "Name: 0, dtype: float64"
      ]
     },
     "execution_count": 89,
     "metadata": {},
     "output_type": "execute_result"
    }
   ],
   "source": [
    "rest_intervalo_grupos.iloc[0]"
   ]
  },
  {
   "cell_type": "code",
   "execution_count": 90,
   "metadata": {
    "colab": {
     "base_uri": "https://localhost:8080/"
    },
    "id": "IG2BToVsZu3M",
    "outputId": "3123ca9c-5504-4f93-c108-941ffb4d962f"
   },
   "outputs": [
    {
     "data": {
      "text/plain": [
       "array([0.00260839])"
      ]
     },
     "execution_count": 90,
     "metadata": {},
     "output_type": "execute_result"
    }
   ],
   "source": [
    "g@ np.array(portfolios[0]) "
   ]
  },
  {
   "cell_type": "code",
   "execution_count": 91,
   "metadata": {
    "colab": {
     "base_uri": "https://localhost:8080/"
    },
    "id": "c_aiHXY_Zu3M",
    "outputId": "66acedf0-602f-45e2-cb6b-d778230b1900"
   },
   "outputs": [
    {
     "data": {
      "text/plain": [
       "riesgo        0.001428\n",
       "retorno       0.000053\n",
       "phi        8912.509381\n",
       "Name: 99, dtype: float64"
      ]
     },
     "execution_count": 91,
     "metadata": {},
     "output_type": "execute_result"
    }
   ],
   "source": [
    "rest_intervalo_grupos.iloc[-1]"
   ]
  },
  {
   "cell_type": "code",
   "execution_count": 92,
   "metadata": {
    "colab": {
     "base_uri": "https://localhost:8080/"
    },
    "id": "2Pt9Wp92Zu3M",
    "outputId": "11f76ca9-e336-4642-961d-ab02167ca482"
   },
   "outputs": [
    {
     "data": {
      "text/plain": [
       "array([[0.004],\n",
       "       [0.061],\n",
       "       [0.196],\n",
       "       [0.039]])"
      ]
     },
     "execution_count": 92,
     "metadata": {},
     "output_type": "execute_result"
    }
   ],
   "source": [
    "np.round(portfolios[-1], decimals = 3)"
   ]
  },
  {
   "cell_type": "code",
   "execution_count": 93,
   "metadata": {
    "colab": {
     "base_uri": "https://localhost:8080/"
    },
    "id": "zoUwurM9Zu3N",
    "outputId": "4e7d7fce-1426-4fec-9d21-7d8570e938c3"
   },
   "outputs": [
    {
     "data": {
      "text/plain": [
       "array([5.27324187e-05])"
      ]
     },
     "execution_count": 93,
     "metadata": {},
     "output_type": "execute_result"
    }
   ],
   "source": [
    "g@ np.array(portfolios[-1]) "
   ]
  },
  {
   "cell_type": "markdown",
   "metadata": {
    "id": "ui6EBauIcF7K"
   },
   "source": [
    "# Restricción de cardinalidad o número de activos"
   ]
  },
  {
   "cell_type": "code",
   "execution_count": 94,
   "metadata": {
    "id": "8qpC8QyPcgzg"
   },
   "outputs": [],
   "source": [
    "combinaciones = list(itertools.combinations([0,1,2,3], r = 3))"
   ]
  },
  {
   "cell_type": "code",
   "execution_count": 95,
   "metadata": {
    "colab": {
     "base_uri": "https://localhost:8080/"
    },
    "id": "LDWjf4ZhdTfs",
    "outputId": "cade8537-8026-4ed0-8da5-cc8188636068"
   },
   "outputs": [
    {
     "data": {
      "text/plain": [
       "[0, 1, 3]"
      ]
     },
     "execution_count": 95,
     "metadata": {},
     "output_type": "execute_result"
    }
   ],
   "source": [
    "list(combinaciones[1])"
   ]
  },
  {
   "cell_type": "code",
   "execution_count": 96,
   "metadata": {
    "colab": {
     "base_uri": "https://localhost:8080/",
     "height": 143
    },
    "id": "SjMYbag5fCUk",
    "outputId": "505e0881-af47-4654-aee7-cc1720fb6fef"
   },
   "outputs": [
    {
     "data": {
      "text/html": [
       "<div>\n",
       "<style scoped>\n",
       "    .dataframe tbody tr th:only-of-type {\n",
       "        vertical-align: middle;\n",
       "    }\n",
       "\n",
       "    .dataframe tbody tr th {\n",
       "        vertical-align: top;\n",
       "    }\n",
       "\n",
       "    .dataframe thead th {\n",
       "        text-align: right;\n",
       "    }\n",
       "</style>\n",
       "<table border=\"1\" class=\"dataframe\">\n",
       "  <thead>\n",
       "    <tr style=\"text-align: right;\">\n",
       "      <th></th>\n",
       "      <th>BTC-USD</th>\n",
       "      <th>GC=F</th>\n",
       "      <th>^MXX</th>\n",
       "    </tr>\n",
       "  </thead>\n",
       "  <tbody>\n",
       "    <tr>\n",
       "      <th>BTC-USD</th>\n",
       "      <td>0.002706</td>\n",
       "      <td>-0.000033</td>\n",
       "      <td>0.000070</td>\n",
       "    </tr>\n",
       "    <tr>\n",
       "      <th>GC=F</th>\n",
       "      <td>-0.000033</td>\n",
       "      <td>0.000091</td>\n",
       "      <td>0.000002</td>\n",
       "    </tr>\n",
       "    <tr>\n",
       "      <th>^MXX</th>\n",
       "      <td>0.000070</td>\n",
       "      <td>0.000002</td>\n",
       "      <td>0.000078</td>\n",
       "    </tr>\n",
       "  </tbody>\n",
       "</table>\n",
       "</div>"
      ],
      "text/plain": [
       "          BTC-USD      GC=F      ^MXX\n",
       "BTC-USD  0.002706 -0.000033  0.000070\n",
       "GC=F    -0.000033  0.000091  0.000002\n",
       "^MXX     0.000070  0.000002  0.000078"
      ]
     },
     "execution_count": 96,
     "metadata": {},
     "output_type": "execute_result"
    }
   ],
   "source": [
    "(retpor.iloc[:,list(combinaciones[1])]).cov()"
   ]
  },
  {
   "cell_type": "code",
   "execution_count": 97,
   "metadata": {
    "colab": {
     "base_uri": "https://localhost:8080/"
    },
    "id": "pxzP0tFLcvoE",
    "outputId": "3d27ab58-a1dd-48e9-84ce-689996528928"
   },
   "outputs": [
    {
     "name": "stdout",
     "output_type": "stream",
     "text": [
      "[ 2.71e-03 -3.25e-05  7.00e-05]\n",
      "[-3.25e-05  9.13e-05  2.30e-06]\n",
      "[ 7.00e-05  2.30e-06  7.79e-05]\n",
      "\n"
     ]
    }
   ],
   "source": [
    "print(matrix(np.matrix((retpor.iloc[:,list(combinaciones[1])]).cov())))"
   ]
  },
  {
   "cell_type": "code",
   "execution_count": 99,
   "metadata": {
    "id": "hVMH7DihcFC8"
   },
   "outputs": [],
   "source": [
    "riesgos_todos = []\n",
    "retornos_todos = []\n",
    "for combinacion in combinaciones:\n",
    "  # cálculo de parámetros\n",
    "  datos_combinacion = retpor.iloc[:,list(combinacion)]\n",
    "  S = matrix(np.matrix((retpor.iloc[:,list(combinaciones[1])]).cov()))\n",
    "  pbar = matrix(np.matrix((datos_combinacion).mean()).T)\n",
    "  # \n",
    "  n = len(pbar)\n",
    "\n",
    "\n",
    "  # Restriccioń de no ventas en corto\n",
    "  # G es la matriz identidad y tiene que ver con la restricción x >= 0 (parte derecha G x)\n",
    "  G = matrix(0.0, (n,n))\n",
    "  G[::n+1] = -1.0\n",
    "  # h es un vector de ceros y es el lado derecho de la restriccioń x >= 0\n",
    "  h = matrix(0.0, (n,1))\n",
    "\n",
    "  ## Restriccioń de alocacioń de todo el capital\n",
    "  # Esta matriz tiene que ver con la rstricción 1T x = 1 y es una matriz (o mas bien vector) de 1 (parte izq)\n",
    "  A = matrix(1.0, (1,n))\n",
    "  # es escalar 1 que es la parte derecha de 1T x = 1\n",
    "  b = matrix(1.0)\n",
    "\n",
    "  # Definición de número de valores de phi que se van a calcular.\n",
    "  N = 100\n",
    "  phis = [ 10**(5.0*t/N-1.0) for t in range(N) ]\n",
    "  portfolios = [ qp(phi*S, -pbar, G, h, A, b)['x'] for phi in phis ]\n",
    "\n",
    "\n",
    "  returns = [ dot(pbar,x) for x in portfolios ]\n",
    "  retornos_todos.append(returns)\n",
    "  risks = [ sqrt(dot(x, S*x)) for x in portfolios ]\n",
    "  riesgos_todos.append(risks)\n",
    "  \n",
    "\n",
    "\n"
   ]
  },
  {
   "cell_type": "code",
   "execution_count": 100,
   "metadata": {
    "colab": {
     "base_uri": "https://localhost:8080/",
     "height": 458
    },
    "id": "NDD3pNAufs-_",
    "outputId": "75a125c1-aea9-413d-de3f-2b4e65046a1f"
   },
   "outputs": [
    {
     "data": {
      "image/png": "[encoded data removed]",
      "text/plain": [
       "<Figure size 720x504 with 1 Axes>"
      ]
     },
     "metadata": {
      "needs_background": "light"
     },
     "output_type": "display_data"
    }
   ],
   "source": [
    "figure(figsize=(10, 7))\n",
    "plt.plot(riesgos_todos[0], retornos_todos[0], alpha = 0.3, color = \"r\", label =\"BTC-USD, Gold, USD/MXN\")\n",
    "plt.plot(riesgos_todos[1], retornos_todos[1], alpha = 0.5, color = \"y\", label =\"BTC-USD, Gold, IPC\")\n",
    "plt.plot(riesgos_todos[2], retornos_todos[2], alpha = 0.3, color = \"g\", label =\"BTC-USD, USD/MXN, IPC\")\n",
    "plt.plot(riesgos_todos[3], retornos_todos[3], alpha = 0.3, color =\"c\", label =\"Gold, USD/MXN, IPC\")\n",
    "plt.legend()\n",
    "plt.title(\"Comparación de portafolios con tres activos (Restricción Cardinalidad)\")\n",
    "plt.xlabel(\"Riesgo %\")\n",
    "plt.ylabel(\"Retorno %\")\n",
    "\n",
    "plt.show()"
   ]
  },
  {
   "cell_type": "markdown",
   "metadata": {
    "id": "JZPDlNCIiYuG"
   },
   "source": [
    "Notar que en la gráfica de arriba, el portafolio  verde es el óptimo con respecto a los demás para todos los niveles de riesgo (aunque para riesgos altos, se obtienen casi los mismos rendimientos esperados)"
   ]
  },
  {
   "cell_type": "code",
   "execution_count": 101,
   "metadata": {
    "colab": {
     "base_uri": "https://localhost:8080/"
    },
    "id": "lILjLTwUhm83",
    "outputId": "c13690bd-33f4-462f-c910-88bbb233d517"
   },
   "outputs": [
    {
     "data": {
      "text/plain": [
       "0.008825171935245705"
      ]
     },
     "execution_count": 101,
     "metadata": {},
     "output_type": "execute_result"
    }
   ],
   "source": [
    "np.max(riesgos_todos[3])"
   ]
  },
  {
   "cell_type": "code",
   "execution_count": 102,
   "metadata": {
    "colab": {
     "base_uri": "https://localhost:8080/"
    },
    "id": "3QgwEeuRWY_p",
    "outputId": "d07a9b2f-616b-4ac2-c09b-8c535271de30"
   },
   "outputs": [
    {
     "data": {
      "text/plain": [
       "0.0007790742397789788"
      ]
     },
     "execution_count": 102,
     "metadata": {},
     "output_type": "execute_result"
    }
   ],
   "source": [
    "np.max(retornos_todos[3])"
   ]
  }
 ],
 "metadata": {
  "colab": {
   "collapsed_sections": [],
   "name": "ProyectoFinal.ipynb",
   "provenance": []
  },
  "kernelspec": {
   "display_name": "Python 3 (ipykernel)",
   "language": "python",
   "name": "python3"
  },
  "language_info": {
   "codemirror_mode": {
    "name": "ipython",
    "version": 3
   },
   "file_extension": ".py",
   "mimetype": "text/x-python",
   "name": "python",
   "nbconvert_exporter": "python",
   "pygments_lexer": "ipython3",
   "version": "3.8.10"
  }
 },
 "nbformat": 4,
 "nbformat_minor": 4
}
