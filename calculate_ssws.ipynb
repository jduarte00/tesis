{
 "cells": [
  {
   "cell_type": "code",
   "execution_count": 1,
   "metadata": {},
   "outputs": [],
   "source": [
    "import pandas as pd"
   ]
  },
  {
   "cell_type": "code",
   "execution_count": 6,
   "metadata": {},
   "outputs": [],
   "source": [
    "read_results = pd.read_csv('./results_european/weights_tec_calenski_back_536_periods_30.csv', parse_dates=True, index_col=0)"
   ]
  },
  {
   "cell_type": "code",
   "execution_count": 10,
   "metadata": {},
   "outputs": [],
   "source": [
    "lupi =read_results.sum(axis = 1)"
   ]
  },
  {
   "cell_type": "code",
   "execution_count": 11,
   "metadata": {},
   "outputs": [
    {
     "data": {
      "text/plain": [
       "2012-01-02    1.000000\n",
       "2012-01-03    1.000000\n",
       "2012-01-04    1.000000\n",
       "2012-01-05    1.000000\n",
       "2012-01-06    1.000000\n",
       "                ...   \n",
       "2021-12-06    1.933401\n",
       "2021-12-07    1.934256\n",
       "2021-12-08    1.934040\n",
       "2021-12-09    1.933777\n",
       "2021-12-10    1.933554\n",
       "Length: 2450, dtype: float64"
      ]
     },
     "execution_count": 11,
     "metadata": {},
     "output_type": "execute_result"
    }
   ],
   "source": [
    "lupi"
   ]
  }
 ],
 "metadata": {
  "kernelspec": {
   "display_name": "tesis",
   "language": "python",
   "name": "python3"
  },
  "language_info": {
   "codemirror_mode": {
    "name": "ipython",
    "version": 3
   },
   "file_extension": ".py",
   "mimetype": "text/x-python",
   "name": "python",
   "nbconvert_exporter": "python",
   "pygments_lexer": "ipython3",
   "version": "3.9.16"
  },
  "orig_nbformat": 4,
  "vscode": {
   "interpreter": {
    "hash": "16458c9b0d6058b2689facc3dc8f878f0cdf29cd85c9790f781be7814494cc6f"
   }
  }
 },
 "nbformat": 4,
 "nbformat_minor": 2
}
