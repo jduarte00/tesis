{
 "cells": [
  {
   "cell_type": "code",
   "execution_count": 2,
   "metadata": {},
   "outputs": [],
   "source": [
    "from sklearn_extra.cluster import KMedoids\n",
    "from sklearn.cluster import KMeans\n",
    "from sklearn.manifold import MDS\n",
    "import pandas as pd\n",
    "import numpy as np\n"
   ]
  },
  {
   "cell_type": "code",
   "execution_count": 3,
   "metadata": {},
   "outputs": [],
   "source": [
    "def make_corr_matrix(groups: list, corrs: list)->np.ndarray:\n",
    "    mat_holder = np.zeros(shape=(sum(groups), sum(groups)))\n",
    "    for index,group in enumerate(groups):\n",
    "        if index == 0:\n",
    "            myrange = list(range(0, group))\n",
    "            index_i = 0\n",
    "            index_j = 0\n",
    "            for index_i in myrange:\n",
    "                for index_j in myrange:\n",
    "                    mat_holder[index_i, index_j] = corrs[index]\n",
    "        else:\n",
    "            myrange = list(range(sum(groups[:index]), sum(groups[:index+1])))\n",
    "            for index_i in myrange:\n",
    "                for index_j in myrange:\n",
    "                    mat_holder[index_i, index_j] = corrs[index]\n",
    "    np.fill_diagonal(mat_holder, 1.0)\n",
    "    return mat_holder"
   ]
  },
  {
   "cell_type": "code",
   "execution_count": 17,
   "metadata": {},
   "outputs": [],
   "source": [
    "corr_matrix = make_corr_matrix([5, 2, 3], [0.5, 0.8, 0.7])"
   ]
  },
  {
   "cell_type": "code",
   "execution_count": 5,
   "metadata": {},
   "outputs": [],
   "source": [
    "num_obs = 300"
   ]
  },
  {
   "cell_type": "code",
   "execution_count": 18,
   "metadata": {},
   "outputs": [],
   "source": [
    "daily_returns = np.random.multivariate_normal(mean = np.zeros(corr_matrix.shape[0]), cov = corr_matrix, size=num_obs)"
   ]
  },
  {
   "cell_type": "code",
   "execution_count": 11,
   "metadata": {},
   "outputs": [
    {
     "data": {
      "text/plain": [
       "array([[-0.54595891,  1.58839105, -0.39157113, ..., -0.77583979,\n",
       "        -1.05367518, -0.6995698 ],\n",
       "       [-0.4349153 , -1.19989567, -0.31710805, ..., -0.54708636,\n",
       "        -1.89051816, -0.37257508],\n",
       "       [ 0.079308  ,  1.23748031,  0.12371209, ...,  0.75989623,\n",
       "        -0.06262072,  0.63824463],\n",
       "       ...,\n",
       "       [ 0.45298218,  0.52452412,  0.50984958, ..., -0.52504802,\n",
       "        -1.23840126, -0.22314827],\n",
       "       [-0.42727682,  1.06228966, -0.41830433, ...,  1.24566159,\n",
       "         0.47199675,  0.89813745],\n",
       "       [-0.60721759, -0.53151234,  1.32468138, ..., -0.78239125,\n",
       "        -0.44648184, -0.18391569]])"
      ]
     },
     "execution_count": 11,
     "metadata": {},
     "output_type": "execute_result"
    }
   ],
   "source": [
    "daily_returns"
   ]
  },
  {
   "cell_type": "code",
   "execution_count": 31,
   "metadata": {},
   "outputs": [
    {
     "data": {
      "text/plain": [
       "(300, 10)"
      ]
     },
     "execution_count": 31,
     "metadata": {},
     "output_type": "execute_result"
    }
   ],
   "source": [
    "daily_returns.shape"
   ]
  },
  {
   "cell_type": "code",
   "execution_count": 19,
   "metadata": {},
   "outputs": [],
   "source": [
    "corr_matrix = np.corrcoef(daily_returns.T)"
   ]
  },
  {
   "cell_type": "code",
   "execution_count": 12,
   "metadata": {},
   "outputs": [
    {
     "data": {
      "text/plain": [
       "array([[ 1.        ,  0.10132382,  0.09699756,  0.08191097,  0.0653825 ,\n",
       "        -0.03966415,  0.02056098, -0.0295454 ,  0.00604266,  0.0686173 ],\n",
       "       [ 0.10132382,  1.        ,  0.07235393,  0.00177305,  0.08709511,\n",
       "        -0.13592496, -0.03470837,  0.01747125, -0.02454694, -0.03016468],\n",
       "       [ 0.09699756,  0.07235393,  1.        ,  0.06948882,  0.12793192,\n",
       "         0.13153147,  0.07440259, -0.01049844,  0.09860462,  0.02080205],\n",
       "       [ 0.08191097,  0.00177305,  0.06948882,  1.        ,  0.05440259,\n",
       "        -0.05882895,  0.06544377,  0.03126454,  0.06895593,  0.04183491],\n",
       "       [ 0.0653825 ,  0.08709511,  0.12793192,  0.05440259,  1.        ,\n",
       "        -0.04954097, -0.00338218, -0.03083727,  0.03939755,  0.00700091],\n",
       "       [-0.03966415, -0.13592496,  0.13153147, -0.05882895, -0.04954097,\n",
       "         1.        ,  0.3750248 , -0.08371248, -0.05602752, -0.04422681],\n",
       "       [ 0.02056098, -0.03470837,  0.07440259,  0.06544377, -0.00338218,\n",
       "         0.3750248 ,  1.        , -0.15909873, -0.11256921, -0.03207965],\n",
       "       [-0.0295454 ,  0.01747125, -0.01049844,  0.03126454, -0.03083727,\n",
       "        -0.08371248, -0.15909873,  1.        ,  0.6712669 ,  0.72778511],\n",
       "       [ 0.00604266, -0.02454694,  0.09860462,  0.06895593,  0.03939755,\n",
       "        -0.05602752, -0.11256921,  0.6712669 ,  1.        ,  0.71433533],\n",
       "       [ 0.0686173 , -0.03016468,  0.02080205,  0.04183491,  0.00700091,\n",
       "        -0.04422681, -0.03207965,  0.72778511,  0.71433533,  1.        ]])"
      ]
     },
     "execution_count": 12,
     "metadata": {},
     "output_type": "execute_result"
    }
   ],
   "source": [
    "corr_matrix"
   ]
  },
  {
   "cell_type": "code",
   "execution_count": 20,
   "metadata": {},
   "outputs": [],
   "source": [
    "D_matrix = np.sqrt(2*(1- corr_matrix))\n",
    "D_matrix = np.around(D_matrix, decimals=7)"
   ]
  },
  {
   "cell_type": "code",
   "execution_count": 16,
   "metadata": {},
   "outputs": [
    {
     "data": {
      "text/plain": [
       "array([[0.       , 1.3406537, 1.3438768, 1.3550565, 1.3671997, 1.4419876,\n",
       "        1.3995992, 1.4349532, 1.4099343, 1.3648316],\n",
       "       [1.3406537, 0.       , 1.3620911, 1.4129593, 1.3512253, 1.5072657,\n",
       "        1.4385467, 1.4018051, 1.4314656, 1.4353847],\n",
       "       [1.3438768, 1.3620911, 0.       , 1.3641929, 1.3206575, 1.3179291,\n",
       "        1.3605862, 1.4216177, 1.3426804, 1.399427 ],\n",
       "       [1.3550565, 1.4129593, 1.3641929, 0.       , 1.3752072, 1.4552175,\n",
       "        1.3671549, 1.3919306, 1.3645835, 1.3843158],\n",
       "       [1.3671997, 1.3512253, 1.3206575, 1.3752072, 0.       , 1.4488209,\n",
       "        1.4166031, 1.4358532, 1.3860754, 1.4092545],\n",
       "       [1.4419876, 1.5072657, 1.3179291, 1.4552175, 1.4488209, 0.       ,\n",
       "        1.1180118, 1.4722177, 1.4532911, 1.4451483],\n",
       "       [1.3995992, 1.4385467, 1.3605862, 1.3671549, 1.4166031, 1.1180118,\n",
       "        0.       , 1.5225628, 1.4916898, 1.4367182],\n",
       "       [1.4349532, 1.4018051, 1.4216177, 1.3919306, 1.4358532, 1.4722177,\n",
       "        1.5225628, 0.       , 0.8108429, 0.7378549],\n",
       "       [1.4099343, 1.4314656, 1.3426804, 1.3645835, 1.3860754, 1.4532911,\n",
       "        1.4916898, 0.8108429, 0.       , 0.7558633],\n",
       "       [1.3648316, 1.4353847, 1.399427 , 1.3843158, 1.4092545, 1.4451483,\n",
       "        1.4367182, 0.7378549, 0.7558633, 0.       ]])"
      ]
     },
     "execution_count": 16,
     "metadata": {},
     "output_type": "execute_result"
    }
   ],
   "source": [
    "D_matrix"
   ]
  },
  {
   "attachments": {},
   "cell_type": "markdown",
   "metadata": {},
   "source": [
    "## K medioides con disimilaridades"
   ]
  },
  {
   "cell_type": "code",
   "execution_count": 21,
   "metadata": {},
   "outputs": [],
   "source": [
    "dis_k_medioids = KMedoids(n_clusters = 3,\n",
    "                        random_state = 0,\n",
    "                        init='k-medoids++',\n",
    "                        method = 'pam',\n",
    "                        metric = 'precomputed').fit(D_matrix)"
   ]
  },
  {
   "cell_type": "code",
   "execution_count": 23,
   "metadata": {},
   "outputs": [
    {
     "data": {
      "text/plain": [
       "array([2, 2, 2, 2, 2, 0, 0, 1, 1, 1])"
      ]
     },
     "execution_count": 23,
     "metadata": {},
     "output_type": "execute_result"
    }
   ],
   "source": [
    "dis_k_medioids.labels_"
   ]
  },
  {
   "attachments": {},
   "cell_type": "markdown",
   "metadata": {},
   "source": [
    "## K medioides con matriz de observaciones + MDS"
   ]
  },
  {
   "cell_type": "code",
   "execution_count": null,
   "metadata": {},
   "outputs": [],
   "source": []
  },
  {
   "cell_type": "code",
   "execution_count": 32,
   "metadata": {},
   "outputs": [],
   "source": [
    "mds_embedding_distancias = MDS(n_components=300, normalized_stress='auto', dissimilarity = 'precomputed', metric = True)"
   ]
  },
  {
   "cell_type": "code",
   "execution_count": 34,
   "metadata": {},
   "outputs": [],
   "source": [
    "mds_coordinates = mds_embedding_distancias.fit_transform(D_matrix)"
   ]
  },
  {
   "cell_type": "code",
   "execution_count": 36,
   "metadata": {},
   "outputs": [
    {
     "data": {
      "text/plain": [
       "(10, 300)"
      ]
     },
     "execution_count": 36,
     "metadata": {},
     "output_type": "execute_result"
    }
   ],
   "source": [
    "mds_coordinates.shape"
   ]
  },
  {
   "cell_type": "code",
   "execution_count": 38,
   "metadata": {},
   "outputs": [],
   "source": [
    "dis_k_medioids_mds = KMedoids(n_clusters = 3,\n",
    "                        random_state = 0,\n",
    "                        init='k-medoids++',\n",
    "                        method = 'pam',\n",
    "                        metric='euclidean').fit(mds_coordinates)"
   ]
  },
  {
   "cell_type": "code",
   "execution_count": 39,
   "metadata": {},
   "outputs": [
    {
     "data": {
      "text/plain": [
       "array([2, 2, 2, 2, 2, 0, 0, 1, 1, 1])"
      ]
     },
     "execution_count": 39,
     "metadata": {},
     "output_type": "execute_result"
    }
   ],
   "source": [
    "dis_k_medioids_mds.labels_"
   ]
  },
  {
   "attachments": {},
   "cell_type": "markdown",
   "metadata": {},
   "source": [
    "## K means + mds"
   ]
  },
  {
   "cell_type": "code",
   "execution_count": 41,
   "metadata": {},
   "outputs": [
    {
     "name": "stderr",
     "output_type": "stream",
     "text": [
      "/Users/jadm/.pyenv/tesis/lib/python3.10/site-packages/sklearn/cluster/_kmeans.py:870: FutureWarning: The default value of `n_init` will change from 10 to 'auto' in 1.4. Set the value of `n_init` explicitly to suppress the warning\n",
      "  warnings.warn(\n"
     ]
    }
   ],
   "source": [
    "k_means_mds = KMeans(n_clusters=3, random_state=0, init=\"k-means++\").fit(mds_coordinates)"
   ]
  },
  {
   "cell_type": "code",
   "execution_count": 43,
   "metadata": {},
   "outputs": [
    {
     "data": {
      "text/plain": [
       "array([2, 2, 2, 2, 2, 0, 0, 1, 1, 1], dtype=int32)"
      ]
     },
     "execution_count": 43,
     "metadata": {},
     "output_type": "execute_result"
    }
   ],
   "source": [
    "k_means_mds.labels_"
   ]
  }
 ],
 "metadata": {
  "kernelspec": {
   "display_name": "tesis",
   "language": "python",
   "name": "python3"
  },
  "language_info": {
   "codemirror_mode": {
    "name": "ipython",
    "version": 3
   },
   "file_extension": ".py",
   "mimetype": "text/x-python",
   "name": "python",
   "nbconvert_exporter": "python",
   "pygments_lexer": "ipython3",
   "version": "3.10.6"
  },
  "orig_nbformat": 4
 },
 "nbformat": 4,
 "nbformat_minor": 2
}
