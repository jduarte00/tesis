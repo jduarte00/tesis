{
 "cells": [
  {
   "cell_type": "code",
   "execution_count": 8,
   "metadata": {},
   "outputs": [],
   "source": [
    "import pandas as pd\n",
    "import matplotlib.pyplot as plt\n",
    "import numpy as np\n",
    "import kneed\n",
    "import scipy.spatial.distance as ssd\n",
    "from scipy.cluster.hierarchy import fcluster, linkage\n",
    "from sklearn.metrics import calinski_harabasz_score\n",
    "from hcaa_implementation import hcaa_alocation\n",
    "import rie_estimator\n",
    "import csestimator\n"
   ]
  },
  {
   "cell_type": "code",
   "execution_count": 5,
   "metadata": {},
   "outputs": [],
   "source": [
    "precios_americano = pd.read_csv(\n",
    "    \"./sp_500_original_clean.csv\",\n",
    "    index_col=\"Date\",\n",
    "    parse_dates=True,\n",
    ")\n",
    "\n",
    "precios_europeo = pd.read_csv(\n",
    "    \"./european_market_original_clean.csv\",\n",
    "    index_col=\"Date\",\n",
    "    parse_dates=True,\n",
    ")\n",
    "\n",
    "retornos_american = (np.log(precios_americano) - np.log(precios_americano.shift(1))).iloc[1:]\n",
    "retornos_europeo = (np.log(precios_europeo) - np.log(precios_europeo.shift(1))).iloc[1:]\n"
   ]
  },
  {
   "cell_type": "code",
   "execution_count": 27,
   "metadata": {},
   "outputs": [],
   "source": [
    "def get_optimal_k_eigen(corr_matrix, N, T):\n",
    "    eigenvals = np.linalg.eigvals(corr_matrix)\n",
    "    count = (eigenvals > 1 + 2 * np.sqrt(N / T) + N / T).sum()\n",
    "    return count\n",
    "\n",
    "def get_optimal_k_calenski(dataset, bottom_range, top_range, corr_function):\n",
    "    corr_mat = corr_function(dataset.T)\n",
    "    D_matrix = np.sqrt(2 * (1 - corr_mat))\n",
    "    D_matrix = np.around(D_matrix, decimals=7)\n",
    "    D_condensed = ssd.squareform(D_matrix)\n",
    "    Z = linkage(D_condensed, \"ward\", optimal_ordering=True)\n",
    "    indices = []\n",
    "    for i in range(bottom_range, top_range):\n",
    "        labels = fcluster(Z, i, criterion=\"maxclust\")\n",
    "        indices.append(calinski_harabasz_score(dataset.T, labels))\n",
    "    # pd.Series(indices).plot()\n",
    "    print(\n",
    "        kneed.KneeLocator(\n",
    "            range(bottom_range, top_range),\n",
    "            indices,\n",
    "            curve=\"convex\",\n",
    "            direction=\"decreasing\",\n",
    "        ).knee\n",
    "    )\n",
    "    return kneed.KneeLocator(\n",
    "        range(bottom_range, top_range), indices, curve=\"convex\", direction=\"decreasing\"\n",
    "    ).knee\n",
    "\n",
    "\n",
    "def get_optimal_k_calenski_rie(dataset, bottom_range, top_range, corr_function):\n",
    "    corr_mat = corr_function(dataset)\n",
    "    D_matrix = np.sqrt(2 * (1 - corr_mat))\n",
    "    D_matrix = np.around(D_matrix, decimals=7)\n",
    "    D_condensed = ssd.squareform(D_matrix)\n",
    "    Z = linkage(D_condensed, \"ward\", optimal_ordering=True)\n",
    "    indices = []\n",
    "    for i in range(bottom_range, top_range):\n",
    "        labels = fcluster(Z, i, criterion=\"maxclust\")\n",
    "        indices.append(calinski_harabasz_score(dataset.T, labels))\n",
    "    print(\n",
    "        kneed.KneeLocator(\n",
    "            range(bottom_range, top_range),\n",
    "            indices,\n",
    "            curve=\"convex\",\n",
    "            direction=\"decreasing\",\n",
    "        ).knee\n",
    "    )\n",
    "    return kneed.KneeLocator(\n",
    "        range(bottom_range, top_range), indices, curve=\"convex\", direction=\"decreasing\"\n",
    "    ).knee\n"
   ]
  },
  {
   "attachments": {},
   "cell_type": "markdown",
   "metadata": {},
   "source": [
    "## Determinación de número óptimo de grupos"
   ]
  },
  {
   "attachments": {},
   "cell_type": "markdown",
   "metadata": {},
   "source": [
    "### Valores Propios"
   ]
  },
  {
   "attachments": {},
   "cell_type": "markdown",
   "metadata": {},
   "source": []
  },
  {
   "cell_type": "code",
   "execution_count": 54,
   "metadata": {},
   "outputs": [
    {
     "name": "stdout",
     "output_type": "stream",
     "text": [
      "3\n",
      "3\n",
      "4\n"
     ]
    }
   ],
   "source": [
    "rie_estimator_american = rie_estimator.get_rie(retornos_american, True, True)\n",
    "pearson_estimator_american = np.corrcoef(retornos_american.values.T)\n",
    "eca_estimator_american = csestimator.get_shrinkage_est(retornos_american, alpha = 0.5)\n",
    "\n",
    "k_optimal_eigen_american_rie = get_optimal_k_eigen(rie_estimator_american, retornos_american.shape[0], retornos_american.shape[1])\n",
    "k_optimal_eigen_american_pearson = get_optimal_k_eigen(pearson_estimator_american, retornos_american.shape[0], retornos_american.shape[1])\n",
    "k_optimal_eigen_american_eca = get_optimal_k_eigen(eca_estimator_american, retornos_american.shape[0], retornos_american.shape[1])\n",
    "\n",
    "print(k_optimal_eigen_american_rie)\n",
    "print(k_optimal_eigen_american_pearson)\n",
    "print(k_optimal_eigen_american_eca)\n"
   ]
  },
  {
   "cell_type": "code",
   "execution_count": 55,
   "metadata": {},
   "outputs": [
    {
     "name": "stdout",
     "output_type": "stream",
     "text": [
      "1\n",
      "1\n",
      "1\n"
     ]
    }
   ],
   "source": [
    "rie_estimator_european = rie_estimator.get_rie(retornos_europeo, False, True)\n",
    "pearson_estimator_european = np.corrcoef(retornos_europeo.values.T)\n",
    "eca_estimator_european = csestimator.get_shrinkage_est(retornos_europeo, alpha = 0.5)\n",
    "\n",
    "k_optimal_eigen_european = get_optimal_k_eigen(rie_estimator_european, retornos_europeo.shape[0], retornos_europeo.shape[1])\n",
    "k_optimal_eigen_european_pearson = get_optimal_k_eigen(pearson_estimator_european, retornos_europeo.shape[0], retornos_europeo.shape[1])\n",
    "k_optimal_eigen_european_eca = get_optimal_k_eigen(eca_estimator_european, retornos_europeo.shape[0], retornos_europeo.shape[1])\n",
    "\n",
    "\n",
    "print(k_optimal_eigen_european)\n",
    "print(k_optimal_eigen_european_pearson)\n",
    "print(k_optimal_eigen_european_eca)"
   ]
  },
  {
   "attachments": {},
   "cell_type": "markdown",
   "metadata": {},
   "source": [
    "### Calenski"
   ]
  },
  {
   "cell_type": "code",
   "execution_count": 56,
   "metadata": {},
   "outputs": [
    {
     "name": "stdout",
     "output_type": "stream",
     "text": [
      "2\n",
      "2\n",
      "2\n"
     ]
    }
   ],
   "source": [
    "k_optimal_calenski_american_rie = get_optimal_k_calenski_rie(retornos_american, 2, 50, rie_estimator.get_rie)\n",
    "k_optimal_calenski_american_pearson = get_optimal_k_calenski(retornos_american, 2, 50, np.corrcoef)\n",
    "k_optimal_calenski_american_eca = get_optimal_k_calenski(retornos_american, 2, 50, np.corrcoef)"
   ]
  },
  {
   "cell_type": "code",
   "execution_count": 57,
   "metadata": {},
   "outputs": [
    {
     "name": "stdout",
     "output_type": "stream",
     "text": [
      "10\n",
      "11\n",
      "11\n"
     ]
    }
   ],
   "source": [
    "k_optimal_calenski_european_rie = get_optimal_k_calenski_rie(retornos_europeo, 2, 50, rie_estimator.get_rie)\n",
    "k_optimal_calenski_european_pearson = get_optimal_k_calenski(retornos_europeo, 2, 50, np.corrcoef)\n",
    "k_optimal_calenski_european_eca = get_optimal_k_calenski(retornos_europeo, 2, 50, np.corrcoef)"
   ]
  }
 ],
 "metadata": {
  "kernelspec": {
   "display_name": "tesis",
   "language": "python",
   "name": "python3"
  },
  "language_info": {
   "codemirror_mode": {
    "name": "ipython",
    "version": 3
   },
   "file_extension": ".py",
   "mimetype": "text/x-python",
   "name": "python",
   "nbconvert_exporter": "python",
   "pygments_lexer": "ipython3",
   "version": "3.10.6"
  },
  "orig_nbformat": 4
 },
 "nbformat": 4,
 "nbformat_minor": 2
}
