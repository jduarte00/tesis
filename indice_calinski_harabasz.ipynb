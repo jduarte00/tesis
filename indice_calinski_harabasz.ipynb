{
 "cells": [
  {
   "cell_type": "code",
   "execution_count": 1,
   "metadata": {},
   "outputs": [],
   "source": [
    "import kneed\n",
    "import numpy as np\n",
    "import pandas as pd\n",
    "import rie_estimator\n",
    "import scipy.spatial.distance as ssd\n",
    "from hcaa_implementation import hcaa_alocation\n",
    "from scipy.cluster.hierarchy import fcluster, linkage\n",
    "from sklearn.metrics import calinski_harabasz_score"
   ]
  },
  {
   "cell_type": "code",
   "execution_count": 2,
   "metadata": {},
   "outputs": [],
   "source": [
    "prices = pd.read_csv(\n",
    "    \"/home/dum/Desktop/data/sp_500_original_clean.csv\",\n",
    "    index_col=\"Date\",\n",
    "    parse_dates=True,\n",
    ")"
   ]
  },
  {
   "cell_type": "code",
   "execution_count": 3,
   "metadata": {},
   "outputs": [],
   "source": [
    "returns = (np.log(prices) - np.log(prices.shift(1))).iloc[1:]"
   ]
  },
  {
   "cell_type": "markdown",
   "metadata": {},
   "source": [
    "Seleccionamos un periodo de tiempo de q = 1/2"
   ]
  },
  {
   "cell_type": "code",
   "execution_count": 34,
   "metadata": {},
   "outputs": [],
   "source": [
    "selected_returns = returns.iloc[460*3:460*5, :]"
   ]
  },
  {
   "cell_type": "code",
   "execution_count": 24,
   "metadata": {},
   "outputs": [
    {
     "data": {
      "text/plain": [
       "(920, 460)"
      ]
     },
     "execution_count": 24,
     "metadata": {},
     "output_type": "execute_result"
    }
   ],
   "source": [
    "selected_returns.shape"
   ]
  },
  {
   "cell_type": "markdown",
   "metadata": {},
   "source": [
    "Primero hay que calcular la distancia de mantegna, para lo que es necesario primero calcular el estimador de la matriz de correlación"
   ]
  },
  {
   "cell_type": "code",
   "execution_count": 8,
   "metadata": {},
   "outputs": [],
   "source": [
    "est_rie = rie_estimator.get_rie(returns=selected_returns, normalize=True, max_ones=True)"
   ]
  },
  {
   "cell_type": "code",
   "execution_count": 35,
   "metadata": {},
   "outputs": [],
   "source": [
    "est_muestral = np.corrcoef(selected_returns.T)"
   ]
  },
  {
   "cell_type": "code",
   "execution_count": 33,
   "metadata": {},
   "outputs": [
    {
     "data": {
      "text/plain": [
       "460"
      ]
     },
     "execution_count": 33,
     "metadata": {},
     "output_type": "execute_result"
    }
   ],
   "source": [
    "est_muestral.shape[1]"
   ]
  },
  {
   "cell_type": "code",
   "execution_count": 34,
   "metadata": {},
   "outputs": [
    {
     "data": {
      "text/plain": [
       "4.0"
      ]
     },
     "execution_count": 34,
     "metadata": {},
     "output_type": "execute_result"
    }
   ],
   "source": [
    "1+2*np.sqrt(est_muestral.shape[1]/est_muestral.shape[0])+ est_muestral.shape[1]/est_muestral.shape[0]"
   ]
  },
  {
   "cell_type": "code",
   "execution_count": 36,
   "metadata": {},
   "outputs": [
    {
     "data": {
      "text/plain": [
       "9"
      ]
     },
     "execution_count": 36,
     "metadata": {},
     "output_type": "execute_result"
    }
   ],
   "source": [
    "(np.linalg.eigvals(est_muestral) > 4).sum()"
   ]
  },
  {
   "cell_type": "markdown",
   "metadata": {},
   "source": [
    "Luego hay que calcular la distancia de Mantegna con la matriz que acabamos de obtener"
   ]
  },
  {
   "cell_type": "code",
   "execution_count": 36,
   "metadata": {},
   "outputs": [],
   "source": [
    "D_matrix = np.sqrt(2*(1- est_muestral))\n",
    "D_matrix = np.around(D_matrix, decimals=7)\n",
    "D_condensed = ssd.squareform(D_matrix)"
   ]
  },
  {
   "cell_type": "markdown",
   "metadata": {},
   "source": [
    "Obtenemos la estructura de datos necesaria para aplicar el clustering jerárquico:"
   ]
  },
  {
   "cell_type": "code",
   "execution_count": 37,
   "metadata": {},
   "outputs": [],
   "source": [
    "Z = linkage(D_condensed, 'ward', optimal_ordering = True)"
   ]
  },
  {
   "cell_type": "markdown",
   "metadata": {},
   "source": [
    "Se obtiene el score para cuando suponemos 20 grupos en los 460 activos:"
   ]
  },
  {
   "cell_type": "code",
   "execution_count": 38,
   "metadata": {},
   "outputs": [],
   "source": [
    "labels = fcluster(Z, 20, criterion='maxclust')"
   ]
  },
  {
   "cell_type": "markdown",
   "metadata": {},
   "source": [
    "Es indice de calinski harabasz es de 7.78, por lo que "
   ]
  },
  {
   "cell_type": "code",
   "execution_count": 12,
   "metadata": {},
   "outputs": [
    {
     "data": {
      "text/plain": [
       "7.391496192148685"
      ]
     },
     "execution_count": 12,
     "metadata": {},
     "output_type": "execute_result"
    }
   ],
   "source": [
    "calinski_harabasz_score(selected_returns.T, labels)"
   ]
  },
  {
   "cell_type": "markdown",
   "metadata": {},
   "source": [
    "El índice de calinski harabas es mejor mientras menor sea. A continuación se prueban grupos desde 2 hasta 460"
   ]
  },
  {
   "cell_type": "code",
   "execution_count": 39,
   "metadata": {},
   "outputs": [],
   "source": [
    "indices = []\n",
    "\n",
    "for i in range(2, 460):\n",
    "    labels = fcluster(Z, i, criterion='maxclust')\n",
    "    indices.append(calinski_harabasz_score(selected_returns.T, labels))"
   ]
  },
  {
   "cell_type": "markdown",
   "metadata": {},
   "source": [
    "Se puede observar que el menor valor es de 3.96"
   ]
  },
  {
   "cell_type": "code",
   "execution_count": 14,
   "metadata": {},
   "outputs": [
    {
     "data": {
      "text/plain": [
       "3.861986873101182"
      ]
     },
     "execution_count": 14,
     "metadata": {},
     "output_type": "execute_result"
    }
   ],
   "source": [
    "min(indices)"
   ]
  },
  {
   "cell_type": "markdown",
   "metadata": {},
   "source": [
    "Este valor se obtiene cuando se tienen 227 grupos de activos."
   ]
  },
  {
   "cell_type": "code",
   "execution_count": 15,
   "metadata": {},
   "outputs": [
    {
     "data": {
      "text/plain": [
       "222"
      ]
     },
     "execution_count": 15,
     "metadata": {},
     "output_type": "execute_result"
    }
   ],
   "source": [
    "from numpy import argmin\n",
    "\n",
    "\n",
    "argmin(indices)"
   ]
  },
  {
   "cell_type": "code",
   "execution_count": 16,
   "metadata": {},
   "outputs": [
    {
     "data": {
      "text/plain": [
       "<AxesSubplot:>"
      ]
     },
     "execution_count": 16,
     "metadata": {},
     "output_type": "execute_result"
    },
    {
     "data": {
      "image/png": "[encoded data removed]",
      "text/plain": [
       "<Figure size 432x288 with 1 Axes>"
      ]
     },
     "metadata": {
      "needs_background": "light"
     },
     "output_type": "display_data"
    }
   ],
   "source": [
    "pd.Series(indices).plot()"
   ]
  },
  {
   "cell_type": "code",
   "execution_count": 40,
   "metadata": {},
   "outputs": [
    {
     "data": {
      "text/plain": [
       "<AxesSubplot:>"
      ]
     },
     "execution_count": 40,
     "metadata": {},
     "output_type": "execute_result"
    },
    {
     "data": {
      "image/png": "[encoded data removed]",
      "text/plain": [
       "<Figure size 432x288 with 1 Axes>"
      ]
     },
     "metadata": {
      "needs_background": "light"
     },
     "output_type": "display_data"
    }
   ],
   "source": [
    "pd.Series(indices)[:90].plot()"
   ]
  },
  {
   "cell_type": "code",
   "execution_count": 43,
   "metadata": {},
   "outputs": [],
   "source": [
    "aber = kneed.KneeLocator(range(len(indices[5:])), indices[5:], curve='convex', direction='decreasing')"
   ]
  },
  {
   "cell_type": "code",
   "execution_count": 44,
   "metadata": {},
   "outputs": [
    {
     "data": {
      "text/plain": [
       "{34}"
      ]
     },
     "execution_count": 44,
     "metadata": {},
     "output_type": "execute_result"
    }
   ],
   "source": [
    "aber.all_elbows"
   ]
  },
  {
   "cell_type": "code",
   "execution_count": 10,
   "metadata": {},
   "outputs": [
    {
     "data": {
      "text/plain": [
       "19"
      ]
     },
     "execution_count": 10,
     "metadata": {},
     "output_type": "execute_result"
    }
   ],
   "source": [
    "kneed.KneeLocator(range(len(indices[2:90])), indices[2:90], curve='convex', direction='decreasing').knee"
   ]
  },
  {
   "cell_type": "code",
   "execution_count": 29,
   "metadata": {},
   "outputs": [
    {
     "data": {
      "image/png": "[encoded data removed]",
      "text/plain": [
       "<Figure size 432x432 with 1 Axes>"
      ]
     },
     "metadata": {
      "needs_background": "light"
     },
     "output_type": "display_data"
    }
   ],
   "source": [
    "kneed.KneeLocator(range(len(indices[2:90])), indices[2:90], curve='convex', direction='decreasing').plot_knee()"
   ]
  },
  {
   "cell_type": "markdown",
   "metadata": {},
   "source": [
    "AEE - Utilities _electric\n",
    "AEP - Regulated Electric\n",
    "ATO - Regulated Gas\n",
    "AWK - Regulated Water\n",
    "CMS - Regulated Electric\n",
    "D - Regulated Electric\n",
    "DTE - Regulated Electric\n",
    "DUK - Regulated Electric\n",
    "ED - Regulated Electric\n",
    "ES - Regulated Electric\n"
   ]
  },
  {
   "cell_type": "code",
   "execution_count": 21,
   "metadata": {},
   "outputs": [
    {
     "data": {
      "text/html": [
       "<div>\n",
       "<style scoped>\n",
       "    .dataframe tbody tr th:only-of-type {\n",
       "        vertical-align: middle;\n",
       "    }\n",
       "\n",
       "    .dataframe tbody tr th {\n",
       "        vertical-align: top;\n",
       "    }\n",
       "\n",
       "    .dataframe thead th {\n",
       "        text-align: right;\n",
       "    }\n",
       "</style>\n",
       "<table border=\"1\" class=\"dataframe\">\n",
       "  <thead>\n",
       "    <tr style=\"text-align: right;\">\n",
       "      <th></th>\n",
       "      <th>SRE</th>\n",
       "    </tr>\n",
       "    <tr>\n",
       "      <th>Date</th>\n",
       "      <th></th>\n",
       "    </tr>\n",
       "  </thead>\n",
       "  <tbody>\n",
       "    <tr>\n",
       "      <th>2015-08-31</th>\n",
       "      <td>-0.026119</td>\n",
       "    </tr>\n",
       "    <tr>\n",
       "      <th>2015-09-01</th>\n",
       "      <td>-0.028120</td>\n",
       "    </tr>\n",
       "    <tr>\n",
       "      <th>2015-09-02</th>\n",
       "      <td>-0.002388</td>\n",
       "    </tr>\n",
       "    <tr>\n",
       "      <th>2015-09-03</th>\n",
       "      <td>0.014996</td>\n",
       "    </tr>\n",
       "    <tr>\n",
       "      <th>2015-09-04</th>\n",
       "      <td>-0.008063</td>\n",
       "    </tr>\n",
       "    <tr>\n",
       "      <th>...</th>\n",
       "      <td>...</td>\n",
       "    </tr>\n",
       "    <tr>\n",
       "      <th>2019-04-12</th>\n",
       "      <td>0.013569</td>\n",
       "    </tr>\n",
       "    <tr>\n",
       "      <th>2019-04-15</th>\n",
       "      <td>-0.009984</td>\n",
       "    </tr>\n",
       "    <tr>\n",
       "      <th>2019-04-16</th>\n",
       "      <td>-0.010085</td>\n",
       "    </tr>\n",
       "    <tr>\n",
       "      <th>2019-04-17</th>\n",
       "      <td>0.000157</td>\n",
       "    </tr>\n",
       "    <tr>\n",
       "      <th>2019-04-18</th>\n",
       "      <td>0.000942</td>\n",
       "    </tr>\n",
       "  </tbody>\n",
       "</table>\n",
       "<p>920 rows × 1 columns</p>\n",
       "</div>"
      ],
      "text/plain": [
       "                 SRE\n",
       "Date                \n",
       "2015-08-31 -0.026119\n",
       "2015-09-01 -0.028120\n",
       "2015-09-02 -0.002388\n",
       "2015-09-03  0.014996\n",
       "2015-09-04 -0.008063\n",
       "...              ...\n",
       "2019-04-12  0.013569\n",
       "2019-04-15 -0.009984\n",
       "2019-04-16 -0.010085\n",
       "2019-04-17  0.000157\n",
       "2019-04-18  0.000942\n",
       "\n",
       "[920 rows x 1 columns]"
      ]
     },
     "execution_count": 21,
     "metadata": {},
     "output_type": "execute_result"
    }
   ],
   "source": [
    "selected_returns.loc[:, labels == 3] "
   ]
  },
  {
   "cell_type": "code",
   "execution_count": 22,
   "metadata": {},
   "outputs": [
    {
     "data": {
      "text/html": [
       "<div>\n",
       "<style scoped>\n",
       "    .dataframe tbody tr th:only-of-type {\n",
       "        vertical-align: middle;\n",
       "    }\n",
       "\n",
       "    .dataframe tbody tr th {\n",
       "        vertical-align: top;\n",
       "    }\n",
       "\n",
       "    .dataframe thead th {\n",
       "        text-align: right;\n",
       "    }\n",
       "</style>\n",
       "<table border=\"1\" class=\"dataframe\">\n",
       "  <thead>\n",
       "    <tr style=\"text-align: right;\">\n",
       "      <th></th>\n",
       "      <th>ETR</th>\n",
       "    </tr>\n",
       "    <tr>\n",
       "      <th>Date</th>\n",
       "      <th></th>\n",
       "    </tr>\n",
       "  </thead>\n",
       "  <tbody>\n",
       "    <tr>\n",
       "      <th>2015-08-31</th>\n",
       "      <td>-0.008687</td>\n",
       "    </tr>\n",
       "    <tr>\n",
       "      <th>2015-09-01</th>\n",
       "      <td>-0.035365</td>\n",
       "    </tr>\n",
       "    <tr>\n",
       "      <th>2015-09-02</th>\n",
       "      <td>-0.004769</td>\n",
       "    </tr>\n",
       "    <tr>\n",
       "      <th>2015-09-03</th>\n",
       "      <td>0.003658</td>\n",
       "    </tr>\n",
       "    <tr>\n",
       "      <th>2015-09-04</th>\n",
       "      <td>-0.023451</td>\n",
       "    </tr>\n",
       "    <tr>\n",
       "      <th>...</th>\n",
       "      <td>...</td>\n",
       "    </tr>\n",
       "    <tr>\n",
       "      <th>2019-04-12</th>\n",
       "      <td>0.002313</td>\n",
       "    </tr>\n",
       "    <tr>\n",
       "      <th>2019-04-15</th>\n",
       "      <td>-0.001997</td>\n",
       "    </tr>\n",
       "    <tr>\n",
       "      <th>2019-04-16</th>\n",
       "      <td>-0.017619</td>\n",
       "    </tr>\n",
       "    <tr>\n",
       "      <th>2019-04-17</th>\n",
       "      <td>-0.005261</td>\n",
       "    </tr>\n",
       "    <tr>\n",
       "      <th>2019-04-18</th>\n",
       "      <td>0.006010</td>\n",
       "    </tr>\n",
       "  </tbody>\n",
       "</table>\n",
       "<p>920 rows × 1 columns</p>\n",
       "</div>"
      ],
      "text/plain": [
       "                 ETR\n",
       "Date                \n",
       "2015-08-31 -0.008687\n",
       "2015-09-01 -0.035365\n",
       "2015-09-02 -0.004769\n",
       "2015-09-03  0.003658\n",
       "2015-09-04 -0.023451\n",
       "...              ...\n",
       "2019-04-12  0.002313\n",
       "2019-04-15 -0.001997\n",
       "2019-04-16 -0.017619\n",
       "2019-04-17 -0.005261\n",
       "2019-04-18  0.006010\n",
       "\n",
       "[920 rows x 1 columns]"
      ]
     },
     "execution_count": 22,
     "metadata": {},
     "output_type": "execute_result"
    }
   ],
   "source": [
    "selected_returns.loc[:, labels == 23] "
   ]
  },
  {
   "cell_type": "markdown",
   "metadata": {},
   "source": [
    "Si seleccionamos los 227 grupos:"
   ]
  },
  {
   "cell_type": "code",
   "execution_count": 31,
   "metadata": {},
   "outputs": [],
   "source": [
    "labels = fcluster(Z, 227, criterion='maxclust')"
   ]
  },
  {
   "cell_type": "code",
   "execution_count": 32,
   "metadata": {},
   "outputs": [
    {
     "data": {
      "text/plain": [
       "3.965367214737812"
      ]
     },
     "execution_count": 32,
     "metadata": {},
     "output_type": "execute_result"
    }
   ],
   "source": [
    "calinski_harabasz_score(selected_returns.T, labels)"
   ]
  },
  {
   "cell_type": "markdown",
   "metadata": {},
   "source": [
    "El problema es que si se elige el número óptimo de grupos según el índice, muchos grupos (125) solo tienen un activo."
   ]
  },
  {
   "cell_type": "code",
   "execution_count": 39,
   "metadata": {},
   "outputs": [
    {
     "data": {
      "text/plain": [
       "125"
      ]
     },
     "execution_count": 39,
     "metadata": {},
     "output_type": "execute_result"
    }
   ],
   "source": [
    "(pd.Series(labels).value_counts() == 1).sum()"
   ]
  },
  {
   "cell_type": "code",
   "execution_count": 43,
   "metadata": {},
   "outputs": [
    {
     "data": {
      "text/plain": [
       "45      1\n",
       "28      1\n",
       "29      1\n",
       "30      1\n",
       "31      1\n",
       "       ..\n",
       "69      6\n",
       "164     7\n",
       "205     8\n",
       "217    13\n",
       "5      18\n",
       "Length: 227, dtype: int64"
      ]
     },
     "execution_count": 43,
     "metadata": {},
     "output_type": "execute_result"
    }
   ],
   "source": [
    "(pd.Series(labels).value_counts()).sort_values()"
   ]
  },
  {
   "cell_type": "markdown",
   "metadata": {},
   "source": [
    "La mayor parte de los clusters tienen pocos activos. "
   ]
  },
  {
   "cell_type": "code",
   "execution_count": 44,
   "metadata": {},
   "outputs": [
    {
     "data": {
      "text/plain": [
       "<AxesSubplot:>"
      ]
     },
     "execution_count": 44,
     "metadata": {},
     "output_type": "execute_result"
    },
    {
     "data": {
      "image/png": "[encoded data removed]",
      "text/plain": [
       "<Figure size 432x288 with 1 Axes>"
      ]
     },
     "metadata": {
      "needs_background": "light"
     },
     "output_type": "display_data"
    }
   ],
   "source": [
    "(pd.Series(labels).value_counts()).hist(bins = [0, 3, 6, 9, 12, 15,18])"
   ]
  },
  {
   "cell_type": "markdown",
   "metadata": {},
   "source": [
    "Repetimos el proceso con el "
   ]
  },
  {
   "cell_type": "code",
   "execution_count": 46,
   "metadata": {},
   "outputs": [],
   "source": [
    "returns_european = pd.read_csv(\n",
    "    \"/home/dum/Desktop/data/european_market_returns.csv\",\n",
    "    index_col=\"Date\",\n",
    "    parse_dates=True,\n",
    ")"
   ]
  },
  {
   "cell_type": "code",
   "execution_count": 52,
   "metadata": {},
   "outputs": [],
   "source": [
    "selected_returns = returns_european.iloc[270*2:270*4, :]"
   ]
  },
  {
   "cell_type": "code",
   "execution_count": 53,
   "metadata": {},
   "outputs": [
    {
     "data": {
      "text/plain": [
       "(540, 270)"
      ]
     },
     "execution_count": 53,
     "metadata": {},
     "output_type": "execute_result"
    }
   ],
   "source": [
    "selected_returns.shape"
   ]
  },
  {
   "cell_type": "code",
   "execution_count": 54,
   "metadata": {},
   "outputs": [],
   "source": [
    "est_muestral = np.corrcoef(selected_returns.T)"
   ]
  },
  {
   "cell_type": "code",
   "execution_count": 49,
   "metadata": {},
   "outputs": [],
   "source": [
    "D_matrix = np.sqrt(2*(1- est_muestral))\n",
    "D_matrix = np.around(D_matrix, decimals=7)\n",
    "D_condensed = ssd.squareform(D_matrix)"
   ]
  },
  {
   "cell_type": "code",
   "execution_count": 55,
   "metadata": {},
   "outputs": [],
   "source": [
    "Z = linkage(D_condensed, 'ward', optimal_ordering = True)"
   ]
  },
  {
   "cell_type": "code",
   "execution_count": 74,
   "metadata": {},
   "outputs": [],
   "source": [
    "indices = []\n",
    "\n",
    "for i in range(2, 270):\n",
    "    labels = fcluster(Z, i, criterion='maxclust')\n",
    "    indices.append(calinski_harabasz_score(selected_returns.T, labels))"
   ]
  },
  {
   "cell_type": "code",
   "execution_count": 75,
   "metadata": {},
   "outputs": [
    {
     "data": {
      "text/plain": [
       "2.8592907600364663"
      ]
     },
     "execution_count": 75,
     "metadata": {},
     "output_type": "execute_result"
    }
   ],
   "source": [
    "min(indices)"
   ]
  },
  {
   "cell_type": "markdown",
   "metadata": {},
   "source": [
    "El número óptimo es de 216 grupos"
   ]
  },
  {
   "cell_type": "code",
   "execution_count": 76,
   "metadata": {},
   "outputs": [
    {
     "data": {
      "text/plain": [
       "216"
      ]
     },
     "execution_count": 76,
     "metadata": {},
     "output_type": "execute_result"
    }
   ],
   "source": [
    "from numpy import argmin\n",
    "\n",
    "\n",
    "argmin(indices)"
   ]
  },
  {
   "cell_type": "code",
   "execution_count": 60,
   "metadata": {},
   "outputs": [
    {
     "data": {
      "text/plain": [
       "[7.399122738643377,\n",
       " 8.368013032933883,\n",
       " 6.822485567894037,\n",
       " 9.299435122538652,\n",
       " 8.044601150299748,\n",
       " 7.0677027646613055,\n",
       " 6.943375459109169,\n",
       " 6.489354087530683,\n",
       " 6.491861240157609,\n",
       " 6.382384405664939,\n",
       " 6.105995606912485,\n",
       " 5.842282032646904,\n",
       " 5.504406957286967,\n",
       " 5.313041892902822,\n",
       " 5.26568800338601,\n",
       " 5.321392309589775,\n",
       " 5.287083283825178,\n",
       " 5.137834912133356,\n",
       " 5.016397086825068,\n",
       " 4.846020793342237,\n",
       " 4.7196424434005895,\n",
       " 4.546920413711285,\n",
       " 4.4116367767407985,\n",
       " 4.331862014946509,\n",
       " 4.222380784436186,\n",
       " 4.0915414158963825,\n",
       " 4.027664713955235,\n",
       " 4.074341126036122,\n",
       " 3.988631980406165,\n",
       " 3.881251634234526,\n",
       " 3.82259427528044,\n",
       " 3.756380273235732,\n",
       " 3.7045893068175757,\n",
       " 3.699082138717949,\n",
       " 3.6544508126448054,\n",
       " 3.7303381292481137,\n",
       " 3.646379181334698,\n",
       " 3.557018833260013,\n",
       " 3.519132584053315,\n",
       " 3.453875126740166,\n",
       " 3.4024622602189822,\n",
       " 3.4391570458056657,\n",
       " 3.4324319927252707,\n",
       " 3.3948689192871293,\n",
       " 3.3863603674673026,\n",
       " 3.5155995754221627,\n",
       " 3.516164148997203,\n",
       " 3.489392708775864,\n",
       " 3.514817099061302,\n",
       " 3.5449454968816836,\n",
       " 3.5233090588649363,\n",
       " 3.6154990587737403,\n",
       " 3.591539572732835,\n",
       " 3.5625213627317316,\n",
       " 3.514156434632213,\n",
       " 3.5348923683273163,\n",
       " 3.583827510415181,\n",
       " 3.5660827325030553,\n",
       " 3.6248101768405765,\n",
       " 3.5892714431324677,\n",
       " 3.5646909346748883,\n",
       " 3.520477624177476,\n",
       " 3.4995626990584343,\n",
       " 3.4684066618751004,\n",
       " 3.452979841248864,\n",
       " 3.4288296074122444,\n",
       " 3.397495723450607,\n",
       " 3.3530674367541384,\n",
       " 3.311685293015864,\n",
       " 3.37661852815435,\n",
       " 3.3365241471625664,\n",
       " 3.3050513224227935,\n",
       " 3.2893584381572234,\n",
       " 3.405688566521388,\n",
       " 3.379559747217137,\n",
       " 3.3617393659501627,\n",
       " 3.3836913303497123,\n",
       " 3.3625317468852685,\n",
       " 3.329421792192215,\n",
       " 3.3086740513109048,\n",
       " 3.3040842786696913,\n",
       " 3.3314261368980578,\n",
       " 3.321983790331159,\n",
       " 3.3067970440691785,\n",
       " 3.2960880291915107,\n",
       " 3.2842043646700994,\n",
       " 3.273027608079366,\n",
       " 3.2790343655108725,\n",
       " 3.417276251003642,\n",
       " 3.407158528689663,\n",
       " 3.4277738168312104,\n",
       " 3.3945672592363194,\n",
       " 3.3864069597476654,\n",
       " 3.3744902911614933,\n",
       " 3.348412792419374,\n",
       " 3.3305306367711704,\n",
       " 3.3121314656109537,\n",
       " 3.3196996192139188,\n",
       " 3.3927918466347697,\n",
       " 3.3648216122264194,\n",
       " 3.382414580542804,\n",
       " 3.3555774454895064,\n",
       " 3.3540076537527277,\n",
       " 3.3305872778136423,\n",
       " 3.3096404523602487,\n",
       " 3.2885021209300946,\n",
       " 3.265131528052755,\n",
       " 3.2620102515202705,\n",
       " 3.2275869509180892,\n",
       " 3.2031809335174395,\n",
       " 3.233571419084761,\n",
       " 3.2173517221568995,\n",
       " 3.220153980464829,\n",
       " 3.18941421343864,\n",
       " 3.353757028930809,\n",
       " 3.328780787639517,\n",
       " 3.3278676958470608,\n",
       " 3.3151282170517495,\n",
       " 3.3255398572291814,\n",
       " 3.305303785919728,\n",
       " 3.283105035235122,\n",
       " 3.275111170497653,\n",
       " 3.292167018707732,\n",
       " 3.2730379771761764,\n",
       " 3.2547812369558824,\n",
       " 3.2182255800850985,\n",
       " 3.1895386193432445,\n",
       " 3.202842509352329,\n",
       " 3.186295396749262,\n",
       " 3.1705001490942952,\n",
       " 3.1637202128283732,\n",
       " 3.1538780825056825,\n",
       " 3.1301964405687537,\n",
       " 3.1105387849349175,\n",
       " 3.1108333028599584,\n",
       " 3.0961935831587395,\n",
       " 3.0953254456479287,\n",
       " 3.0859046835974238,\n",
       " 3.0745066098629437,\n",
       " 3.068868284970385,\n",
       " 3.057246481814162,\n",
       " 3.05305436372185,\n",
       " 3.0247445061503186,\n",
       " 3.0183577647634845,\n",
       " 3.0093767913697014,\n",
       " 3.000990763193022,\n",
       " 3.085620490380332,\n",
       " 3.06579471861139,\n",
       " 3.0494382240228104,\n",
       " 3.0325699283125434,\n",
       " 3.0040988069496306,\n",
       " 2.9843313437135253,\n",
       " 2.98918682763135,\n",
       " 2.988928727810741,\n",
       " 2.9635203298402586,\n",
       " 2.9688287187013698,\n",
       " 2.9739800235845295,\n",
       " 2.9722358491894694,\n",
       " 2.9986422691401398,\n",
       " 2.9903661088653593,\n",
       " 2.9726990435306737,\n",
       " 2.9680780159818245,\n",
       " 2.9960882278209655,\n",
       " 2.9646902030142646,\n",
       " 3.0457526509497717,\n",
       " 3.0154091142883654,\n",
       " 2.989527055441646,\n",
       " 2.972847803894347,\n",
       " 2.9600702610630676,\n",
       " 2.946850561290014,\n",
       " 2.9319001020737727,\n",
       " 2.9883583571819736,\n",
       " 2.9740919195663817,\n",
       " 2.940764490170358,\n",
       " 2.92402991335081,\n",
       " 2.9179277993936705,\n",
       " 2.8969894998638694,\n",
       " 2.883429243142186,\n",
       " 2.8868687100333106,\n",
       " 2.9131737020656994,\n",
       " 2.882753868565891,\n",
       " 2.8848495053841856,\n",
       " 3.0067793446331477,\n",
       " 3.0008808768169413,\n",
       " 2.997296977743163,\n",
       " 2.9720678182534384,\n",
       " 2.9530183481249193,\n",
       " 2.948672955349132,\n",
       " 2.9282896340577915,\n",
       " 2.950397895697471,\n",
       " 2.956409531904112,\n",
       " 2.9317100664883453,\n",
       " 2.9214595056921864,\n",
       " 2.9085391316725118,\n",
       " 2.8786360024305107,\n",
       " 2.9090988180040322,\n",
       " 2.915314487235528,\n",
       " 2.955723452177674,\n",
       " 2.9539894705059857,\n",
       " 2.9183162311467936,\n",
       " 2.9206086784563454,\n",
       " 2.9315419713450015,\n",
       " 2.941206267152305,\n",
       " 2.924942008156647,\n",
       " 2.9430302492102363,\n",
       " 2.9068266018191413,\n",
       " 2.9328888858412085,\n",
       " 2.919651941528772,\n",
       " 2.9292221384500143,\n",
       " 2.9386862958998203,\n",
       " 2.9628281789764492,\n",
       " 2.9496692245739964,\n",
       " 2.919429474082612,\n",
       " 2.950395100696646,\n",
       " 2.9347636217966495,\n",
       " 2.89991595423559,\n",
       " 2.8592907600364663,\n",
       " 2.904187932530642,\n",
       " 2.9284890069179004,\n",
       " 2.899553462567898,\n",
       " 2.885078871164311,\n",
       " 2.9290315332783887,\n",
       " 2.912530950078442,\n",
       " 2.9126402144560926,\n",
       " 2.8986043966481776,\n",
       " 2.923095629522294,\n",
       " 2.930695487248036,\n",
       " 2.9140873279476853,\n",
       " 2.9934137428374425,\n",
       " 3.001413921401064,\n",
       " 2.9672381761086295,\n",
       " 3.0967753042132142,\n",
       " 3.051265335438439,\n",
       " 3.111291157236744,\n",
       " 3.296566325427807,\n",
       " 3.2668660865320676,\n",
       " 3.274623851812424,\n",
       " 3.734045004011767,\n",
       " 3.8599200062470183,\n",
       " 3.93344334624209,\n",
       " 4.095852489957747,\n",
       " 4.177946514177582,\n",
       " 4.295732248999022,\n",
       " 4.444868154472686,\n",
       " 4.426259655690045,\n",
       " 4.594054196393672,\n",
       " 4.5262425867936855,\n",
       " 4.66315691934917,\n",
       " 4.527633556894986,\n",
       " 4.533140608729991,\n",
       " 5.922746911120497,\n",
       " 6.32631485422037,\n",
       " 6.3408107408679815,\n",
       " 6.522788053926347,\n",
       " 6.96028632929655,\n",
       " 7.205418805679049,\n",
       " 8.992563783238795,\n",
       " 12.091037169162515,\n",
       " 13.295871895766288,\n",
       " 16.623387035706152,\n",
       " 16.871732490971173,\n",
       " 28.889385890149573,\n",
       " 35.2548579127766,\n",
       " 50.65798608647952,\n",
       " 108.26483005631314,\n",
       " 178.85360562215462,\n",
       " 48039.07678507506,\n",
       " 48039.07678507506]"
      ]
     },
     "execution_count": 60,
     "metadata": {},
     "output_type": "execute_result"
    }
   ],
   "source": [
    "indices"
   ]
  },
  {
   "cell_type": "code",
   "execution_count": 59,
   "metadata": {},
   "outputs": [
    {
     "data": {
      "text/plain": [
       "<AxesSubplot:>"
      ]
     },
     "execution_count": 59,
     "metadata": {},
     "output_type": "execute_result"
    },
    {
     "data": {
      "image/png": "[encoded data removed]",
      "text/plain": [
       "<Figure size 432x288 with 1 Axes>"
      ]
     },
     "metadata": {
      "needs_background": "light"
     },
     "output_type": "display_data"
    }
   ],
   "source": [
    "pd.Series(indices).plot()"
   ]
  },
  {
   "cell_type": "code",
   "execution_count": 61,
   "metadata": {},
   "outputs": [
    {
     "data": {
      "text/plain": [
       "<AxesSubplot:>"
      ]
     },
     "execution_count": 61,
     "metadata": {},
     "output_type": "execute_result"
    },
    {
     "data": {
      "image/png": "[encoded data removed]",
      "text/plain": [
       "<Figure size 432x288 with 1 Axes>"
      ]
     },
     "metadata": {
      "needs_background": "light"
     },
     "output_type": "display_data"
    }
   ],
   "source": [
    "pd.Series(indices)[:200].plot()"
   ]
  },
  {
   "cell_type": "code",
   "execution_count": 77,
   "metadata": {},
   "outputs": [],
   "source": [
    "labels = fcluster(Z, 216, criterion='maxclust')"
   ]
  },
  {
   "cell_type": "code",
   "execution_count": 79,
   "metadata": {},
   "outputs": [
    {
     "data": {
      "text/plain": [
       "179"
      ]
     },
     "execution_count": 79,
     "metadata": {},
     "output_type": "execute_result"
    }
   ],
   "source": [
    "(pd.Series(labels).value_counts() == 1).sum()"
   ]
  },
  {
   "cell_type": "code",
   "execution_count": null,
   "metadata": {},
   "outputs": [],
   "source": []
  }
 ],
 "metadata": {
  "kernelspec": {
   "display_name": "Python 3.9.7 ('base')",
   "language": "python",
   "name": "python3"
  },
  "language_info": {
   "codemirror_mode": {
    "name": "ipython",
    "version": 3
   },
   "file_extension": ".py",
   "mimetype": "text/x-python",
   "name": "python",
   "nbconvert_exporter": "python",
   "pygments_lexer": "ipython3",
   "version": "3.9.7"
  },
  "orig_nbformat": 4,
  "vscode": {
   "interpreter": {
    "hash": "5bdf93513826235fc1cd8e4eb1b59842c36a611b96aad9527e1abb22917bc0d2"
   }
  }
 },
 "nbformat": 4,
 "nbformat_minor": 2
}
