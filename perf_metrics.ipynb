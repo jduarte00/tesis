{
 "cells": [
  {
   "cell_type": "code",
   "execution_count": 1,
   "metadata": {},
   "outputs": [],
   "source": [
    "import pandas as pd\n",
    "import numpy as np"
   ]
  },
  {
   "cell_type": "code",
   "execution_count": 6,
   "metadata": {},
   "outputs": [],
   "source": [
    "resultados = pd.read_csv('results_american/returns_tec_valprop_back_613_periods_30.csv').set_index('Unnamed: 0')"
   ]
  },
  {
   "cell_type": "code",
   "execution_count": 11,
   "metadata": {},
   "outputs": [
    {
     "data": {
      "text/html": [
       "<div>\n",
       "<style scoped>\n",
       "    .dataframe tbody tr th:only-of-type {\n",
       "        vertical-align: middle;\n",
       "    }\n",
       "\n",
       "    .dataframe tbody tr th {\n",
       "        vertical-align: top;\n",
       "    }\n",
       "\n",
       "    .dataframe thead th {\n",
       "        text-align: right;\n",
       "    }\n",
       "</style>\n",
       "<table border=\"1\" class=\"dataframe\">\n",
       "  <thead>\n",
       "    <tr style=\"text-align: right;\">\n",
       "      <th></th>\n",
       "      <th>rie_testing</th>\n",
       "      <th>corr_testing</th>\n",
       "      <th>clustering_testing</th>\n",
       "      <th>equal_testing</th>\n",
       "    </tr>\n",
       "    <tr>\n",
       "      <th>Unnamed: 0</th>\n",
       "      <th></th>\n",
       "      <th></th>\n",
       "      <th></th>\n",
       "      <th></th>\n",
       "    </tr>\n",
       "  </thead>\n",
       "  <tbody>\n",
       "    <tr>\n",
       "      <th>2014-06-12</th>\n",
       "      <td>-0.003412</td>\n",
       "      <td>-0.003362</td>\n",
       "      <td>-0.005388</td>\n",
       "      <td>-0.007101</td>\n",
       "    </tr>\n",
       "    <tr>\n",
       "      <th>2014-06-13</th>\n",
       "      <td>0.002978</td>\n",
       "      <td>0.003004</td>\n",
       "      <td>0.002446</td>\n",
       "      <td>0.002795</td>\n",
       "    </tr>\n",
       "    <tr>\n",
       "      <th>2014-06-16</th>\n",
       "      <td>0.000904</td>\n",
       "      <td>0.000887</td>\n",
       "      <td>-0.000989</td>\n",
       "      <td>0.000862</td>\n",
       "    </tr>\n",
       "    <tr>\n",
       "      <th>2014-06-17</th>\n",
       "      <td>0.003379</td>\n",
       "      <td>0.002712</td>\n",
       "      <td>0.005220</td>\n",
       "      <td>0.004513</td>\n",
       "    </tr>\n",
       "    <tr>\n",
       "      <th>2014-06-18</th>\n",
       "      <td>0.010140</td>\n",
       "      <td>0.010338</td>\n",
       "      <td>0.007879</td>\n",
       "      <td>0.006868</td>\n",
       "    </tr>\n",
       "    <tr>\n",
       "      <th>...</th>\n",
       "      <td>...</td>\n",
       "      <td>...</td>\n",
       "      <td>...</td>\n",
       "      <td>...</td>\n",
       "    </tr>\n",
       "    <tr>\n",
       "      <th>2021-12-23</th>\n",
       "      <td>0.004969</td>\n",
       "      <td>0.005159</td>\n",
       "      <td>0.007137</td>\n",
       "      <td>0.006367</td>\n",
       "    </tr>\n",
       "    <tr>\n",
       "      <th>2021-12-27</th>\n",
       "      <td>0.014403</td>\n",
       "      <td>0.013299</td>\n",
       "      <td>0.012259</td>\n",
       "      <td>0.012411</td>\n",
       "    </tr>\n",
       "    <tr>\n",
       "      <th>2021-12-28</th>\n",
       "      <td>0.000530</td>\n",
       "      <td>0.001678</td>\n",
       "      <td>0.000796</td>\n",
       "      <td>0.001807</td>\n",
       "    </tr>\n",
       "    <tr>\n",
       "      <th>2021-12-29</th>\n",
       "      <td>0.003092</td>\n",
       "      <td>0.002959</td>\n",
       "      <td>0.002234</td>\n",
       "      <td>0.003049</td>\n",
       "    </tr>\n",
       "    <tr>\n",
       "      <th>2021-12-30</th>\n",
       "      <td>-0.002334</td>\n",
       "      <td>-0.002123</td>\n",
       "      <td>-0.002189</td>\n",
       "      <td>-0.001949</td>\n",
       "    </tr>\n",
       "  </tbody>\n",
       "</table>\n",
       "<p>1908 rows × 4 columns</p>\n",
       "</div>"
      ],
      "text/plain": [
       "            rie_testing  corr_testing  clustering_testing  equal_testing\n",
       "Unnamed: 0                                                              \n",
       "2014-06-12    -0.003412     -0.003362           -0.005388      -0.007101\n",
       "2014-06-13     0.002978      0.003004            0.002446       0.002795\n",
       "2014-06-16     0.000904      0.000887           -0.000989       0.000862\n",
       "2014-06-17     0.003379      0.002712            0.005220       0.004513\n",
       "2014-06-18     0.010140      0.010338            0.007879       0.006868\n",
       "...                 ...           ...                 ...            ...\n",
       "2021-12-23     0.004969      0.005159            0.007137       0.006367\n",
       "2021-12-27     0.014403      0.013299            0.012259       0.012411\n",
       "2021-12-28     0.000530      0.001678            0.000796       0.001807\n",
       "2021-12-29     0.003092      0.002959            0.002234       0.003049\n",
       "2021-12-30    -0.002334     -0.002123           -0.002189      -0.001949\n",
       "\n",
       "[1908 rows x 4 columns]"
      ]
     },
     "execution_count": 11,
     "metadata": {},
     "output_type": "execute_result"
    }
   ],
   "source": [
    "resultados.iloc[615:]"
   ]
  },
  {
   "cell_type": "code",
   "execution_count": 34,
   "metadata": {},
   "outputs": [
    {
     "data": {
      "text/plain": [
       "131516531347.77661"
      ]
     },
     "execution_count": 34,
     "metadata": {},
     "output_type": "execute_result"
    }
   ],
   "source": [
    "(((resultados.rie_testing[1:] +1)**365)-1).mean()"
   ]
  },
  {
   "cell_type": "code",
   "execution_count": 23,
   "metadata": {},
   "outputs": [
    {
     "data": {
      "text/plain": [
       "131516531347.77661"
      ]
     },
     "execution_count": 23,
     "metadata": {},
     "output_type": "execute_result"
    }
   ],
   "source": [
    "(((resultados.rie_testing[1:] +1)**365) - 1).mean()"
   ]
  },
  {
   "cell_type": "code",
   "execution_count": 13,
   "metadata": {},
   "outputs": [
    {
     "data": {
      "text/plain": [
       "0.009550875605132153"
      ]
     },
     "execution_count": 13,
     "metadata": {},
     "output_type": "execute_result"
    }
   ],
   "source": [
    "resultados.rie_testing.std()"
   ]
  },
  {
   "cell_type": "code",
   "execution_count": 14,
   "metadata": {},
   "outputs": [
    {
     "data": {
      "text/plain": [
       "0.04165766377749239"
      ]
     },
     "execution_count": 14,
     "metadata": {},
     "output_type": "execute_result"
    }
   ],
   "source": [
    "resultados.rie_testing.mean() / resultados.rie_testing.std()"
   ]
  },
  {
   "cell_type": "code",
   "execution_count": 26,
   "metadata": {},
   "outputs": [
    {
     "data": {
      "text/plain": [
       "0.25760324671416335"
      ]
     },
     "execution_count": 26,
     "metadata": {},
     "output_type": "execute_result"
    }
   ],
   "source": [
    "(.1003/365)/(np.sqrt(.1516)/365)"
   ]
  },
  {
   "cell_type": "markdown",
   "metadata": {},
   "source": [
    "Calculate Adjusted Sharpe Ratio"
   ]
  },
  {
   "cell_type": "code",
   "execution_count": 43,
   "metadata": {},
   "outputs": [],
   "source": [
    "sharpe = 0.67\n",
    "skew = -0.85\n",
    "kurt = 31.20\n",
    "asr = sharpe * (1 + (skew / 6) * sharpe - ((kurt - 3)/24) * sharpe **2)\n"
   ]
  },
  {
   "cell_type": "code",
   "execution_count": 44,
   "metadata": {},
   "outputs": [
    {
     "data": {
      "text/plain": [
       "0.2530093083333333"
      ]
     },
     "execution_count": 44,
     "metadata": {},
     "output_type": "execute_result"
    }
   ],
   "source": [
    "asr"
   ]
  },
  {
   "cell_type": "code",
   "execution_count": 37,
   "metadata": {},
   "outputs": [],
   "source": [
    "sharpe = 0.74\n",
    "skew = -0.79\n",
    "kurt = 25.83\n",
    "asr = sharpe * (1 + (skew / 6) * sharpe - ((kurt - 3)/24) * sharpe **2)\n"
   ]
  },
  {
   "cell_type": "markdown",
   "metadata": {},
   "source": [
    "Calculate var"
   ]
  },
  {
   "cell_type": "markdown",
   "metadata": {},
   "source": []
  }
 ],
 "metadata": {
  "kernelspec": {
   "display_name": "Python 3.9.7 ('base')",
   "language": "python",
   "name": "python3"
  },
  "language_info": {
   "codemirror_mode": {
    "name": "ipython",
    "version": 3
   },
   "file_extension": ".py",
   "mimetype": "text/x-python",
   "name": "python",
   "nbconvert_exporter": "python",
   "pygments_lexer": "ipython3",
   "version": "3.9.7"
  },
  "orig_nbformat": 4,
  "vscode": {
   "interpreter": {
    "hash": "5bdf93513826235fc1cd8e4eb1b59842c36a611b96aad9527e1abb22917bc0d2"
   }
  }
 },
 "nbformat": 4,
 "nbformat_minor": 2
}
