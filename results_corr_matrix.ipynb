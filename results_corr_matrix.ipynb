{
 "cells": [
  {
   "cell_type": "code",
   "execution_count": 1,
   "id": "236151da-faa5-49d7-b923-74e990337961",
   "metadata": {},
   "outputs": [],
   "source": [
    "import numpy as np\n",
    "import pandas as pd\n",
    "import seaborn as sns\n",
    "import matplotlib.pyplot as plt\n",
    "import rie_estimator\n",
    "import csestimator"
   ]
  },
  {
   "cell_type": "code",
   "execution_count": 28,
   "id": "69e04a98",
   "metadata": {},
   "outputs": [],
   "source": [
    "sns.set(rc={'figure.figsize':(11.7,8.27)})"
   ]
  },
  {
   "cell_type": "code",
   "execution_count": 2,
   "id": "0295e555-2d37-40ec-b485-735a216cc4dd",
   "metadata": {},
   "outputs": [],
   "source": [
    "european_returns = pd.read_csv('/home/dum/Desktop/data/european_market_returns.csv', index_col = \"Date\")\n",
    "american_returns = pd.read_csv('/home/dum/Desktop/data/sp_500_returns.csv', index_col = \"Date\")"
   ]
  },
  {
   "cell_type": "code",
   "execution_count": 3,
   "id": "08bfc03c-a942-4001-9b5d-5b12b1012e6f",
   "metadata": {},
   "outputs": [],
   "source": [
    "norm_european_returns = (european_returns -european_returns.mean()) / european_returns.std()\n",
    "norm_american_returns = (american_returns -american_returns.mean()) / american_returns.std()"
   ]
  },
  {
   "cell_type": "code",
   "execution_count": 5,
   "id": "a4aeb8a4-5ec9-4594-a9b7-5955deaae2ba",
   "metadata": {},
   "outputs": [],
   "source": [
    "samp_corr_european = european_returns.corr()"
   ]
  },
  {
   "cell_type": "code",
   "execution_count": 6,
   "id": "714a4915-5ce8-411e-afc1-81c2eff41b8a",
   "metadata": {},
   "outputs": [],
   "source": [
    "samp_corr_european_norm = norm_european_returns.corr()\n",
    "samp_corr_american_norm = norm_american_returns.corr()"
   ]
  },
  {
   "cell_type": "code",
   "execution_count": 20,
   "id": "bff07fc6-ca55-44ce-947d-5418259e920f",
   "metadata": {},
   "outputs": [
    {
     "data": {
      "text/plain": [
       "<AxesSubplot:ylabel='Density'>"
      ]
     },
     "execution_count": 20,
     "metadata": {},
     "output_type": "execute_result"
    },
    {
     "data": {
      "image/png": "[encoded data removed]",
      "text/plain": [
       "<Figure size 432x288 with 1 Axes>"
      ]
     },
     "metadata": {
      "needs_background": "light"
     },
     "output_type": "display_data"
    }
   ],
   "source": [
    "sns.histplot(data = eigenval_sample, stat = \"density\", element = \"step\", fill = False, label=\"GOE\")"
   ]
  },
  {
   "cell_type": "code",
   "execution_count": 21,
   "id": "5def72e6-1117-4ce4-8f04-e8f7703be6e7",
   "metadata": {},
   "outputs": [
    {
     "data": {
      "text/plain": [
       "(array([0.20845013, 0.00234214, 0.00078071, 0.        , 0.        ,\n",
       "        0.        , 0.        , 0.        , 0.        , 0.        ,\n",
       "        0.        , 0.        , 0.        , 0.        , 0.        ,\n",
       "        0.        , 0.        , 0.        , 0.        , 0.00078071]),\n",
       " array([6.31215304e-08, 4.70912471e+00, 9.41824936e+00, 1.41273740e+01,\n",
       "        1.88364987e+01, 2.35456233e+01, 2.82547480e+01, 3.29638726e+01,\n",
       "        3.76729973e+01, 4.23821219e+01, 4.70912466e+01, 5.18003712e+01,\n",
       "        5.65094959e+01, 6.12186205e+01, 6.59277452e+01, 7.06368698e+01,\n",
       "        7.53459945e+01, 8.00551191e+01, 8.47642438e+01, 8.94733684e+01,\n",
       "        9.41824931e+01]),\n",
       " <BarContainer object of 20 artists>)"
      ]
     },
     "execution_count": 21,
     "metadata": {},
     "output_type": "execute_result"
    },
    {
     "data": {
      "image/png": "[encoded data removed]",
      "text/plain": [
       "<Figure size 432x288 with 1 Axes>"
      ]
     },
     "metadata": {
      "needs_background": "light"
     },
     "output_type": "display_data"
    }
   ],
   "source": [
    "plt.hist(eigenval_sample, bins = 20, density=True)"
   ]
  },
  {
   "cell_type": "code",
   "execution_count": 8,
   "id": "0b9cf2cb-9bb7-44ab-94b3-bbfecbd944c8",
   "metadata": {},
   "outputs": [],
   "source": [
    "rie_est_american = rie_estimator.get_rie(norm_american_returns)\n",
    "rie_est_european = rie_estimator.get_rie(norm_european_returns)"
   ]
  },
  {
   "cell_type": "code",
   "execution_count": 18,
   "id": "4577e5a1-6941-4dbb-8b7e-b93c7eca5bb5",
   "metadata": {},
   "outputs": [],
   "source": [
    "shrink_estimator_european = csestimator.get_shrinkage_est(norm_european_returns, 0.5)\n",
    "shrink_estimator_american = csestimator.get_shrinkage_est(norm_american_returns, 0.5)"
   ]
  },
  {
   "cell_type": "markdown",
   "id": "3f1acf51-6b94-4972-a097-54807faf4368",
   "metadata": {},
   "source": [
    "Calcular la distancia entre rie y correlacion muestral:"
   ]
  },
  {
   "cell_type": "code",
   "execution_count": 12,
   "id": "552575b9-fe49-4c7c-b7d0-e0a509f9fa33",
   "metadata": {},
   "outputs": [
    {
     "data": {
      "text/plain": [
       "1.7441872022896607"
      ]
     },
     "execution_count": 12,
     "metadata": {},
     "output_type": "execute_result"
    }
   ],
   "source": [
    "np.linalg.norm(((samp_corr_american_norm - rie_est_american).values), ord = \"fro\")"
   ]
  },
  {
   "cell_type": "code",
   "execution_count": 17,
   "id": "45040b97-b389-4f0e-a242-2af432ab8086",
   "metadata": {},
   "outputs": [
    {
     "data": {
      "text/plain": [
       "85.14491908011952"
      ]
     },
     "execution_count": 17,
     "metadata": {},
     "output_type": "execute_result"
    }
   ],
   "source": [
    "np.linalg.norm(((samp_corr_american_norm - shrink_estimator_american).values), ord = \"fro\")"
   ]
  },
  {
   "cell_type": "code",
   "execution_count": 42,
   "id": "d8bf2281-48cb-46d3-9156-f1d008ffcb79",
   "metadata": {},
   "outputs": [],
   "source": [
    "eigenval_sample, eigenvec_sample = np.linalg.eig(samp_corr_american_norm.values)\n",
    "eigenval_rie, eigenvec_rie = np.linalg.eig(rie_est_american)\n",
    "eigenval_shrink, eigenvec_shrink = np.linalg.eig(shrink_estimator_european)"
   ]
  },
  {
   "cell_type": "code",
   "execution_count": 43,
   "id": "a15a1832-a569-42c1-98f8-336625b3f899",
   "metadata": {},
   "outputs": [],
   "source": [
    "eigenval_sample.sort()\n",
    "eigenval_rie.sort()\n",
    "eigenval_shrink.sort()"
   ]
  },
  {
   "cell_type": "code",
   "execution_count": 100,
   "id": "ba0c1b8e-bab5-4733-98e2-d70be370b6c2",
   "metadata": {},
   "outputs": [
    {
     "data": {
      "text/plain": [
       "173.2088869510818"
      ]
     },
     "execution_count": 100,
     "metadata": {},
     "output_type": "execute_result"
    }
   ],
   "source": [
    "eigenval_rie.max()"
   ]
  },
  {
   "cell_type": "code",
   "execution_count": 57,
   "id": "c2494e1b-ce14-4f13-b51d-72447cfbf5f3",
   "metadata": {},
   "outputs": [
    {
     "data": {
      "text/plain": [
       "94.18249308115176"
      ]
     },
     "execution_count": 57,
     "metadata": {},
     "output_type": "execute_result"
    }
   ],
   "source": [
    "eigenval_sample.max()"
   ]
  },
  {
   "cell_type": "code",
   "execution_count": 99,
   "id": "e1419b30-571c-439e-a990-b6fda2116e06",
   "metadata": {},
   "outputs": [
    {
     "data": {
      "text/plain": [
       "0.022978242867305848"
      ]
     },
     "execution_count": 99,
     "metadata": {},
     "output_type": "execute_result"
    }
   ],
   "source": [
    "eigenval_rie.min()"
   ]
  },
  {
   "cell_type": "code",
   "execution_count": 59,
   "id": "552f64cf-56a3-499f-a0e8-f9cb1eeb6dfd",
   "metadata": {},
   "outputs": [
    {
     "data": {
      "text/plain": [
       "6.312153444346016e-08"
      ]
     },
     "execution_count": 59,
     "metadata": {},
     "output_type": "execute_result"
    }
   ],
   "source": [
    "eigenval_sample.min()"
   ]
  },
  {
   "cell_type": "code",
   "execution_count": 66,
   "id": "d71aa573-e7d1-42b1-a99a-4e392381eee3",
   "metadata": {},
   "outputs": [
    {
     "data": {
      "text/plain": [
       "(272,)"
      ]
     },
     "execution_count": 66,
     "metadata": {},
     "output_type": "execute_result"
    }
   ],
   "source": [
    "eigenval_sample.shape"
   ]
  },
  {
   "cell_type": "code",
   "execution_count": 97,
   "id": "88277ba6-6947-4a6a-9846-4a921d49fa5b",
   "metadata": {},
   "outputs": [
    {
     "data": {
      "text/plain": [
       "0.1682400159741834"
      ]
     },
     "execution_count": 97,
     "metadata": {},
     "output_type": "execute_result"
    }
   ],
   "source": [
    "eigenval_shrink.min()"
   ]
  },
  {
   "cell_type": "code",
   "execution_count": 132,
   "id": "40906d05-c356-427d-91c9-916b26a12e8a",
   "metadata": {
    "collapsed": true,
    "jupyter": {
     "outputs_hidden": true
    },
    "tags": []
   },
   "outputs": [
    {
     "data": {
      "text/plain": [
       "array([  0.16824002,   0.17032146,   0.17125832,   0.17474076,\n",
       "         0.17490339,   0.17653733,   0.17783571,   0.17910459,\n",
       "         0.18017523,   0.18053658,   0.18205132,   0.18287349,\n",
       "         0.18510836,   0.18625185,   0.1886017 ,   0.19168379,\n",
       "         0.19321038,   0.1944692 ,   0.19569015,   0.19753227,\n",
       "         0.19789412,   0.19926025,   0.20137858,   0.20189799,\n",
       "         0.20394655,   0.2047652 ,   0.20543103,   0.20828573,\n",
       "         0.20877703,   0.2106328 ,   0.21368444,   0.2157338 ,\n",
       "         0.21605475,   0.21662666,   0.21901133,   0.22065982,\n",
       "         0.22325238,   0.2260057 ,   0.22746551,   0.22915389,\n",
       "         0.23095654,   0.23308548,   0.23439363,   0.23507693,\n",
       "         0.23687858,   0.23747613,   0.24017645,   0.24175662,\n",
       "         0.24248191,   0.24406749,   0.24740931,   0.24749517,\n",
       "         0.24952943,   0.25042383,   0.25385243,   0.25425889,\n",
       "         0.25597339,   0.25618165,   0.2606314 ,   0.26314006,\n",
       "         0.26391139,   0.26498126,   0.2662334 ,   0.26998389,\n",
       "         0.27265253,   0.27279117,   0.27453181,   0.27510622,\n",
       "         0.27761202,   0.2791868 ,   0.28030867,   0.28152149,\n",
       "         0.28481013,   0.28584854,   0.28673838,   0.28699053,\n",
       "         0.28953219,   0.29115994,   0.29243651,   0.29285375,\n",
       "         0.29337851,   0.29437869,   0.29521358,   0.29618858,\n",
       "         0.2971362 ,   0.29861207,   0.29955809,   0.30109589,\n",
       "         0.30189537,   0.30283434,   0.30384173,   0.30438037,\n",
       "         0.30472272,   0.30507531,   0.30768611,   0.30901831,\n",
       "         0.30941856,   0.31086593,   0.31189537,   0.31256979,\n",
       "         0.31346117,   0.31400586,   0.31621417,   0.31762942,\n",
       "         0.318558  ,   0.31977208,   0.32133997,   0.32165292,\n",
       "         0.3217927 ,   0.3226541 ,   0.32411944,   0.32575041,\n",
       "         0.32606393,   0.32658029,   0.32788895,   0.32813554,\n",
       "         0.3296429 ,   0.33010896,   0.33161663,   0.3323544 ,\n",
       "         0.33365727,   0.33412839,   0.334977  ,   0.33591979,\n",
       "         0.3366956 ,   0.33756222,   0.33806532,   0.33858439,\n",
       "         0.34012178,   0.34115339,   0.34229827,   0.34273376,\n",
       "         0.34376516,   0.34418437,   0.34580743,   0.34636015,\n",
       "         0.34773256,   0.34914004,   0.35042814,   0.3508452 ,\n",
       "         0.35223325,   0.35312536,   0.3546371 ,   0.3550653 ,\n",
       "         0.35632764,   0.35687974,   0.35692433,   0.35822829,\n",
       "         0.3587861 ,   0.35966594,   0.3607548 ,   0.36168397,\n",
       "         0.3626706 ,   0.36356872,   0.36414969,   0.36527323,\n",
       "         0.36664379,   0.36858593,   0.36928689,   0.3709528 ,\n",
       "         0.37113857,   0.37242145,   0.37295691,   0.37419959,\n",
       "         0.37508352,   0.37530204,   0.37586929,   0.37698076,\n",
       "         0.37862557,   0.37934353,   0.38033498,   0.38200193,\n",
       "         0.38235607,   0.38322262,   0.3844063 ,   0.38484681,\n",
       "         0.38561986,   0.38626831,   0.3874042 ,   0.38785157,\n",
       "         0.38980999,   0.39097384,   0.39111039,   0.39206357,\n",
       "         0.39384302,   0.39423182,   0.39560553,   0.39717395,\n",
       "         0.39770499,   0.39885602,   0.39977614,   0.40061518,\n",
       "         0.40217287,   0.40248464,   0.40318823,   0.40460563,\n",
       "         0.4056442 ,   0.40665832,   0.40896759,   0.40981471,\n",
       "         0.41045658,   0.41141376,   0.41206796,   0.41286384,\n",
       "         0.41493186,   0.41607502,   0.41688147,   0.41884074,\n",
       "         0.42047844,   0.42111825,   0.42197216,   0.42260898,\n",
       "         0.42395334,   0.42479304,   0.4255966 ,   0.42688304,\n",
       "         0.42798521,   0.42949568,   0.43012847,   0.43136868,\n",
       "         0.4324642 ,   0.43370423,   0.43516643,   0.43744237,\n",
       "         0.43931428,   0.43997238,   0.44056942,   0.44171288,\n",
       "         0.44277634,   0.44381358,   0.44555324,   0.44667552,\n",
       "         0.44829068,   0.44858295,   0.45048945,   0.45116522,\n",
       "         0.45258569,   0.45325537,   0.45395087,   0.45679759,\n",
       "         0.45766076,   0.45900385,   0.46040408,   0.46234902,\n",
       "         0.46396215,   0.46468665,   0.46573628,   0.46742581,\n",
       "         0.46974662,   0.47012406,   0.47102349,   0.47270005,\n",
       "         0.47530697,   0.47664384,   0.47689728,   0.47899187,\n",
       "         0.4807683 ,   0.48225826,   0.48345586,   0.48361068,\n",
       "         0.48629784,   0.48755225,   0.48854447,   0.49057514,\n",
       "         0.49177557,   0.492998  ,   0.4944019 ,   0.49485917,\n",
       "         0.49655147,   0.49849171,   0.50025211,   0.50205429,\n",
       "         0.50296014,   0.50438714,   0.50477371,   0.507306  ,\n",
       "         0.50874619,   0.50916104,   0.51098081,   0.51345108,\n",
       "         0.51404476,   0.51584159,   0.51684637,   0.51731444,\n",
       "         0.51906519,   0.52023648,   0.52263096,   0.52337055,\n",
       "         0.52496305,   0.52687819,   0.52893836,   0.53214056,\n",
       "         0.5348004 ,   0.53608026,   0.53759912,   0.53783677,\n",
       "         0.54088102,   0.54205487,   0.54235555,   0.54397163,\n",
       "         0.54580042,   0.54685718,   0.54998288,   0.55205675,\n",
       "         0.55222074,   0.55587538,   0.55932593,   0.55987732,\n",
       "         0.56010814,   0.56305956,   0.56675519,   0.56861124,\n",
       "         0.57086145,   0.57124242,   0.57383147,   0.57501388,\n",
       "         0.57588694,   0.57906506,   0.58037091,   0.58061739,\n",
       "         0.58446642,   0.58551251,   0.58731669,   0.58885305,\n",
       "         0.59076762,   0.59296216,   0.59560336,   0.59794713,\n",
       "         0.60026823,   0.60328199,   0.60427172,   0.60690583,\n",
       "         0.61024873,   0.61105708,   0.61197943,   0.61448662,\n",
       "         0.61773159,   0.61849174,   0.62319569,   0.62374785,\n",
       "         0.62429544,   0.6280581 ,   0.63152601,   0.63309027,\n",
       "         0.63423947,   0.63450222,   0.63721779,   0.63915797,\n",
       "         0.64443264,   0.64532942,   0.64705202,   0.65129809,\n",
       "         0.65209546,   0.65516643,   0.65780388,   0.66104222,\n",
       "         0.66456936,   0.66650024,   0.66810234,   0.67246596,\n",
       "         0.67574658,   0.67851346,   0.68317529,   0.68569921,\n",
       "         0.6881936 ,   0.69353474,   0.6949686 ,   0.69799177,\n",
       "         0.70010144,   0.70358955,   0.70605727,   0.71224992,\n",
       "         0.71410633,   0.71839924,   0.72217324,   0.72333661,\n",
       "         0.72682711,   0.73081041,   0.73371025,   0.73660708,\n",
       "         0.73902912,   0.74516858,   0.74937781,   0.75382123,\n",
       "         0.75886669,   0.76295208,   0.76719133,   0.77115382,\n",
       "         0.77649205,   0.78030261,   0.78425797,   0.78659803,\n",
       "         0.79083606,   0.7986172 ,   0.79959941,   0.80862208,\n",
       "         0.81528848,   0.82119514,   0.82425578,   0.82696131,\n",
       "         0.83453062,   0.83636385,   0.84475768,   0.85578533,\n",
       "         0.86011585,   0.86793056,   0.87281119,   0.88035151,\n",
       "         0.88431054,   0.89820918,   0.90116988,   0.9118334 ,\n",
       "         0.91515546,   0.92829073,   0.94114872,   0.95621702,\n",
       "         0.96486165,   0.97902571,   0.99512621,   1.01696666,\n",
       "         1.03398537,   1.05558297,   1.05817549,   1.06989575,\n",
       "         1.10042767,   1.10380439,   1.13505021,   1.18711932,\n",
       "         1.21649004,   1.23124401,   1.30589474,   1.32906335,\n",
       "         1.37620978,   1.40594362,   1.43688126,   1.48658097,\n",
       "         1.57899758,   1.64005275,   1.7284073 ,   2.00417275,\n",
       "         2.09787117,   2.23239971,   2.37852839,   2.41151537,\n",
       "         2.53985365,   2.75765356,   2.97717248,   3.19551633,\n",
       "         3.43797584,   4.51248261,   4.6689857 ,   5.12993456,\n",
       "         5.56170388,   6.36903857,   7.00570952,   7.2910991 ,\n",
       "         8.41125611,  14.30650541,  19.83123995, 134.29713069])"
      ]
     },
     "execution_count": 132,
     "metadata": {},
     "output_type": "execute_result"
    }
   ],
   "source": [
    "eigenval_shrink"
   ]
  },
  {
   "cell_type": "code",
   "execution_count": 128,
   "id": "0093c9a4-1513-4a36-8cab-186186ec495b",
   "metadata": {},
   "outputs": [],
   "source": [
    "eigenval_sample.sort()"
   ]
  },
  {
   "cell_type": "code",
   "execution_count": 131,
   "id": "cb38bd3e-73a7-45ea-9e4b-0d72c464e031",
   "metadata": {
    "collapsed": true,
    "jupyter": {
     "outputs_hidden": true
    },
    "tags": []
   },
   "outputs": [
    {
     "data": {
      "text/plain": [
       "array([5.28977390e-03, 2.54419140e-02, 5.27819648e-02, 5.48293921e-02,\n",
       "       5.76265561e-02, 5.96669509e-02, 6.09817513e-02, 6.27511572e-02,\n",
       "       6.55187987e-02, 6.63485651e-02, 6.71231081e-02, 6.91224334e-02,\n",
       "       6.95799338e-02, 7.07070685e-02, 7.22391669e-02, 7.32317227e-02,\n",
       "       7.35438556e-02, 7.44152382e-02, 7.54690854e-02, 7.80225533e-02,\n",
       "       7.90285919e-02, 8.01525882e-02, 8.13475234e-02, 8.17638536e-02,\n",
       "       8.32830500e-02, 8.50001583e-02, 8.65151580e-02, 8.79746916e-02,\n",
       "       8.85741465e-02, 8.88231547e-02, 8.94941967e-02, 9.07582306e-02,\n",
       "       9.08846381e-02, 9.17152078e-02, 9.35908875e-02, 9.45419267e-02,\n",
       "       9.51708965e-02, 9.59203233e-02, 9.75557088e-02, 9.87733652e-02,\n",
       "       9.98557709e-02, 1.00209172e-01, 1.01523114e-01, 1.02044684e-01,\n",
       "       1.03337711e-01, 1.03679689e-01, 1.04650550e-01, 1.05655911e-01,\n",
       "       1.07636058e-01, 1.09006710e-01, 1.09993180e-01, 1.11419446e-01,\n",
       "       1.12458091e-01, 1.12791341e-01, 1.13732036e-01, 1.14489245e-01,\n",
       "       1.15113717e-01, 1.16163495e-01, 1.17415540e-01, 1.18733791e-01,\n",
       "       1.19270137e-01, 1.21022174e-01, 1.21927155e-01, 1.22523298e-01,\n",
       "       1.23753478e-01, 1.24172969e-01, 1.25375894e-01, 1.25958487e-01,\n",
       "       1.27691686e-01, 1.28440189e-01, 1.30187416e-01, 1.31485782e-01,\n",
       "       1.31719266e-01, 1.32434090e-01, 1.32668694e-01, 1.33775379e-01,\n",
       "       1.34316332e-01, 1.37077812e-01, 1.37345628e-01, 1.38757918e-01,\n",
       "       1.39298310e-01, 1.40585867e-01, 1.41086019e-01, 1.42230936e-01,\n",
       "       1.43691691e-01, 1.44083227e-01, 1.46255630e-01, 1.46736858e-01,\n",
       "       1.47653804e-01, 1.48783295e-01, 1.49698990e-01, 1.50379271e-01,\n",
       "       1.53371191e-01, 1.54205434e-01, 1.55173483e-01, 1.55609213e-01,\n",
       "       1.56035303e-01, 1.58026600e-01, 1.58895409e-01, 1.59532432e-01,\n",
       "       1.60108169e-01, 1.61461921e-01, 1.62162662e-01, 1.63001572e-01,\n",
       "       1.65086710e-01, 1.65902879e-01, 1.66769532e-01, 1.68059716e-01,\n",
       "       1.69073583e-01, 1.69601267e-01, 1.70806847e-01, 1.71663627e-01,\n",
       "       1.72927665e-01, 1.74153543e-01, 1.76041984e-01, 1.77251323e-01,\n",
       "       1.78319249e-01, 1.79238724e-01, 1.80490916e-01, 1.81387364e-01,\n",
       "       1.82206075e-01, 1.83304413e-01, 1.84930461e-01, 1.85092170e-01,\n",
       "       1.86101888e-01, 1.88769526e-01, 1.90187363e-01, 1.91440683e-01,\n",
       "       1.92389273e-01, 1.93538230e-01, 1.94299955e-01, 1.95638455e-01,\n",
       "       1.96484528e-01, 1.97887753e-01, 2.00943754e-01, 2.01335422e-01,\n",
       "       2.02230665e-01, 2.02631541e-01, 2.03706043e-01, 2.06842277e-01,\n",
       "       2.07436313e-01, 2.08799480e-01, 2.09743712e-01, 2.11446135e-01,\n",
       "       2.12331900e-01, 2.12636595e-01, 2.14133318e-01, 2.14467729e-01,\n",
       "       2.15621358e-01, 2.18222935e-01, 2.19624658e-01, 2.20875858e-01,\n",
       "       2.21772001e-01, 2.23025925e-01, 2.24103322e-01, 2.26189195e-01,\n",
       "       2.28771204e-01, 2.29509672e-01, 2.30458345e-01, 2.32355231e-01,\n",
       "       2.34147557e-01, 2.34282058e-01, 2.35658921e-01, 2.36446727e-01,\n",
       "       2.37327203e-01, 2.38070950e-01, 2.39017426e-01, 2.40656658e-01,\n",
       "       2.43166210e-01, 2.44112596e-01, 2.44718986e-01, 2.46888654e-01,\n",
       "       2.47877881e-01, 2.49825543e-01, 2.50648282e-01, 2.52636905e-01,\n",
       "       2.53224838e-01, 2.54832997e-01, 2.56798818e-01, 2.56851957e-01,\n",
       "       2.59809045e-01, 2.60540946e-01, 2.62884217e-01, 2.64656025e-01,\n",
       "       2.65235819e-01, 2.66810843e-01, 2.67054412e-01, 2.69050245e-01,\n",
       "       2.70027516e-01, 2.71177083e-01, 2.73465328e-01, 2.74251690e-01,\n",
       "       2.76028106e-01, 2.77200208e-01, 2.80171751e-01, 2.80663404e-01,\n",
       "       2.81353944e-01, 2.83347393e-01, 2.85602114e-01, 2.86587027e-01,\n",
       "       2.88395097e-01, 2.89177697e-01, 2.91786562e-01, 2.92623856e-01,\n",
       "       2.92878373e-01, 2.96044439e-01, 2.96435647e-01, 2.99000239e-01,\n",
       "       3.00694066e-01, 3.02747243e-01, 3.04433112e-01, 3.07391891e-01,\n",
       "       3.08943061e-01, 3.10107007e-01, 3.11615944e-01, 3.13791339e-01,\n",
       "       3.15283354e-01, 3.16421803e-01, 3.18713216e-01, 3.21463542e-01,\n",
       "       3.22733565e-01, 3.22952174e-01, 3.27533167e-01, 3.27737870e-01,\n",
       "       3.28588323e-01, 3.29917860e-01, 3.30949110e-01, 3.32828198e-01,\n",
       "       3.33564492e-01, 3.36454092e-01, 3.39053681e-01, 3.41157735e-01,\n",
       "       3.43849724e-01, 3.46435914e-01, 3.46815784e-01, 3.47697632e-01,\n",
       "       3.48635129e-01, 3.52175291e-01, 3.55032674e-01, 3.57042518e-01,\n",
       "       3.57789448e-01, 3.59557582e-01, 3.59914076e-01, 3.62632345e-01,\n",
       "       3.64059061e-01, 3.66281324e-01, 3.68121787e-01, 3.72301732e-01,\n",
       "       3.73163282e-01, 3.75013503e-01, 3.75445348e-01, 3.77984377e-01,\n",
       "       3.81293490e-01, 3.83792111e-01, 3.86709658e-01, 3.87279303e-01,\n",
       "       3.88729364e-01, 3.92583098e-01, 3.94038442e-01, 3.95819841e-01,\n",
       "       3.98951274e-01, 3.99938184e-01, 4.01810238e-01, 4.04970324e-01,\n",
       "       4.05771679e-01, 4.10106040e-01, 4.10336394e-01, 4.13227726e-01,\n",
       "       4.14270220e-01, 4.16331706e-01, 4.16818988e-01, 4.21111974e-01,\n",
       "       4.24491459e-01, 4.26274652e-01, 4.27615938e-01, 4.30701771e-01,\n",
       "       4.32243722e-01, 4.34002159e-01, 4.35516533e-01, 4.38732787e-01,\n",
       "       4.40048450e-01, 4.41042347e-01, 4.44482740e-01, 4.48709108e-01,\n",
       "       4.51718929e-01, 4.52304827e-01, 4.55802464e-01, 4.56455493e-01,\n",
       "       4.57397389e-01, 4.60201734e-01, 4.63255562e-01, 4.66892530e-01,\n",
       "       4.69973982e-01, 4.71796783e-01, 4.75867415e-01, 4.77932258e-01,\n",
       "       4.79172786e-01, 4.80636111e-01, 4.82642658e-01, 4.86136990e-01,\n",
       "       4.89446208e-01, 4.90013674e-01, 4.96378176e-01, 4.99439105e-01,\n",
       "       5.01886128e-01, 5.02506058e-01, 5.05256676e-01, 5.09543853e-01,\n",
       "       5.11091747e-01, 5.12196892e-01, 5.15109378e-01, 5.18758771e-01,\n",
       "       5.21072008e-01, 5.23180509e-01, 5.30165995e-01, 5.32405701e-01,\n",
       "       5.33120544e-01, 5.35229278e-01, 5.37458364e-01, 5.39152988e-01,\n",
       "       5.45819362e-01, 5.49524465e-01, 5.53879801e-01, 5.54332965e-01,\n",
       "       5.56155159e-01, 5.59124455e-01, 5.61973917e-01, 5.68219999e-01,\n",
       "       5.69876434e-01, 5.75824483e-01, 5.76331544e-01, 5.78081160e-01,\n",
       "       5.80504340e-01, 5.83684271e-01, 5.88509078e-01, 5.88766599e-01,\n",
       "       5.95487384e-01, 6.01358693e-01, 6.03007306e-01, 6.07177408e-01,\n",
       "       6.13364541e-01, 6.13911251e-01, 6.17602028e-01, 6.23632447e-01,\n",
       "       6.27128260e-01, 6.30326630e-01, 6.33665032e-01, 6.33812641e-01,\n",
       "       6.40296382e-01, 6.42396534e-01, 6.43359732e-01, 6.48465096e-01,\n",
       "       6.53906453e-01, 6.57796560e-01, 6.58953388e-01, 6.61799077e-01,\n",
       "       6.67670591e-01, 6.74337293e-01, 6.78668337e-01, 6.83738032e-01,\n",
       "       6.92018045e-01, 6.97914116e-01, 7.02035329e-01, 7.03933763e-01,\n",
       "       7.09475196e-01, 7.12501273e-01, 7.13041075e-01, 7.18470575e-01,\n",
       "       7.26911661e-01, 7.27870296e-01, 7.35094146e-01, 7.37038898e-01,\n",
       "       7.40097850e-01, 7.46587337e-01, 7.52649988e-01, 7.58616319e-01,\n",
       "       7.65534641e-01, 7.69142233e-01, 7.75967653e-01, 7.80719645e-01,\n",
       "       7.90007582e-01, 7.92865984e-01, 8.01941787e-01, 8.04849754e-01,\n",
       "       8.07723739e-01, 8.20944423e-01, 8.25265472e-01, 8.28603840e-01,\n",
       "       8.33013424e-01, 8.38019105e-01, 8.42540461e-01, 8.52880316e-01,\n",
       "       8.61317177e-01, 8.68761485e-01, 8.77027533e-01, 8.97296567e-01,\n",
       "       8.98900929e-01, 9.06860675e-01, 9.14288263e-01, 9.27917752e-01,\n",
       "       9.30984091e-01, 9.34463614e-01, 9.42691576e-01, 9.60258413e-01,\n",
       "       9.61394300e-01, 9.69526910e-01, 9.76772978e-01, 9.82398671e-01,\n",
       "       9.86116427e-01, 1.00868849e+00, 1.02178402e+00, 1.02507115e+00,\n",
       "       1.04171331e+00, 1.04960853e+00, 1.06367763e+00, 1.07801732e+00,\n",
       "       1.08968166e+00, 1.11920323e+00, 1.13482774e+00, 1.14227616e+00,\n",
       "       1.16353833e+00, 1.20020572e+00, 1.20661583e+00, 1.23465241e+00,\n",
       "       1.24557117e+00, 1.25629881e+00, 1.27777383e+00, 1.31458610e+00,\n",
       "       1.32992044e+00, 1.36542705e+00, 1.39399946e+00, 1.43974127e+00,\n",
       "       1.48019155e+00, 1.50970250e+00, 1.55823209e+00, 1.61363538e+00,\n",
       "       1.62312343e+00, 1.64838466e+00, 1.71736540e+00, 1.84324986e+00,\n",
       "       1.93242573e+00, 1.93613363e+00, 2.04920307e+00, 2.11570318e+00,\n",
       "       2.21635221e+00, 2.39249770e+00, 2.44305968e+00, 2.76798120e+00,\n",
       "       3.19842147e+00, 3.38940617e+00, 3.52689615e+00, 3.88551119e+00,\n",
       "       4.24582708e+00, 4.63593804e+00, 5.26168631e+00, 6.01863939e+00,\n",
       "       8.50382751e+00, 1.70042176e+01, 2.31753046e+01, 1.73304955e+02])"
      ]
     },
     "execution_count": 131,
     "metadata": {},
     "output_type": "execute_result"
    }
   ],
   "source": [
    "eigenval_sample"
   ]
  },
  {
   "cell_type": "markdown",
   "id": "e2102d9b-b684-431a-8d19-f5eb0777d2f9",
   "metadata": {},
   "source": [
    "hacer con puntos / logaritmos"
   ]
  },
  {
   "cell_type": "code",
   "execution_count": 138,
   "id": "f608fffe-085e-49f1-abe5-619c3d707f12",
   "metadata": {},
   "outputs": [
    {
     "data": {
      "text/plain": [
       "(460,)"
      ]
     },
     "execution_count": 138,
     "metadata": {},
     "output_type": "execute_result"
    }
   ],
   "source": [
    "eigenval_sample.shape"
   ]
  },
  {
   "cell_type": "code",
   "execution_count": 45,
   "id": "e0115301-ea19-4f96-825b-b3baca314fba",
   "metadata": {
    "tags": []
   },
   "outputs": [
    {
     "data": {
      "text/plain": [
       "[Text(0.5, 0, '$\\\\lambda$')]"
      ]
     },
     "execution_count": 45,
     "metadata": {},
     "output_type": "execute_result"
    },
    {
     "data": {
      "image/png": "[encoded data removed]",
      "text/plain": [
       "<Figure size 842.4x595.44 with 1 Axes>"
      ]
     },
     "metadata": {},
     "output_type": "display_data"
    }
   ],
   "source": [
    "#ax = sns.lineplot(x = eigenval_sample[:170], y = eigenval_shrink[:170])\n",
    "ax = sns.lineplot(x = eigenval_sample[:100], y = eigenval_rie[:100])\n",
    "#plt.legend(labels=['Mercado Europeo', 'Mercado Americano'])    \n",
    "plt.title(\"Comparación de los valores propios del RIE contra Estimador de Correlación Muestral\")\n",
    "ax.set(ylabel=r'$\\xi$')\n",
    "ax.set(xlabel=r'$\\lambda$')\n"
   ]
  }
 ],
 "metadata": {
  "interpreter": {
   "hash": "5bdf93513826235fc1cd8e4eb1b59842c36a611b96aad9527e1abb22917bc0d2"
  },
  "kernelspec": {
   "display_name": "Python 3.9.7 ('base')",
   "language": "python",
   "name": "python3"
  },
  "language_info": {
   "codemirror_mode": {
    "name": "ipython",
    "version": 3
   },
   "file_extension": ".py",
   "mimetype": "text/x-python",
   "name": "python",
   "nbconvert_exporter": "python",
   "pygments_lexer": "ipython3",
   "version": "3.9.7"
  }
 },
 "nbformat": 4,
 "nbformat_minor": 5
}
