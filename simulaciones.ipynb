{
 "cells": [
  {
   "cell_type": "markdown",
   "metadata": {},
   "source": [
    "# Simulaciones"
   ]
  },
  {
   "cell_type": "code",
   "execution_count": 2,
   "metadata": {},
   "outputs": [],
   "source": [
    "import numpy as np"
   ]
  },
  {
   "cell_type": "code",
   "execution_count": 16,
   "metadata": {},
   "outputs": [],
   "source": [
    "def make_corr_matrix(groups: list, corrs: list)->np.ndarray:\n",
    "    mat_holder = np.zeros(shape=(sum(groups), sum(groups)))\n",
    "    for index,group in enumerate(groups):\n",
    "        if index == 0:\n",
    "            myrange = list(range(0, group))\n",
    "            index_i = 0\n",
    "            index_j = 0\n",
    "            for index_i in myrange:\n",
    "                for index_j in myrange:\n",
    "                    mat_holder[index_i, index_j] = corrs[index]\n",
    "        else:\n",
    "            myrange = list(range(sum(groups[:index]), sum(groups[:index+1])))\n",
    "            for index_i in myrange:\n",
    "                for index_j in myrange:\n",
    "                    mat_holder[index_i, index_j] = corrs[index]\n",
    "    np.fill_diagonal(mat_holder, 1.0)\n",
    "    return mat_holder"
   ]
  },
  {
   "cell_type": "code",
   "execution_count": 15,
   "metadata": {},
   "outputs": [
    {
     "data": {
      "text/plain": [
       "array([[1. , 0.2, 0.2, 0.2, 0. , 0. , 0. , 0. ],\n",
       "       [0.2, 1. , 0.2, 0.2, 0. , 0. , 0. , 0. ],\n",
       "       [0.2, 0.2, 1. , 0.2, 0. , 0. , 0. , 0. ],\n",
       "       [0.2, 0.2, 0.2, 1. , 0. , 0. , 0. , 0. ],\n",
       "       [0. , 0. , 0. , 0. , 1. , 0.3, 0. , 0. ],\n",
       "       [0. , 0. , 0. , 0. , 0.3, 1. , 0. , 0. ],\n",
       "       [0. , 0. , 0. , 0. , 0. , 0. , 1. , 0.4],\n",
       "       [0. , 0. , 0. , 0. , 0. , 0. , 0.4, 1. ]])"
      ]
     },
     "execution_count": 15,
     "metadata": {},
     "output_type": "execute_result"
    }
   ],
   "source": [
    "make_corr_matrix([4,2,2], [0.2, 0.3,0.4])"
   ]
  }
 ],
 "metadata": {
  "interpreter": {
   "hash": "5bdf93513826235fc1cd8e4eb1b59842c36a611b96aad9527e1abb22917bc0d2"
  },
  "kernelspec": {
   "display_name": "Python 3.9.7 ('base')",
   "language": "python",
   "name": "python3"
  },
  "language_info": {
   "codemirror_mode": {
    "name": "ipython",
    "version": 3
   },
   "file_extension": ".py",
   "mimetype": "text/x-python",
   "name": "python",
   "nbconvert_exporter": "python",
   "pygments_lexer": "ipython3",
   "version": "3.9.7"
  },
  "orig_nbformat": 4
 },
 "nbformat": 4,
 "nbformat_minor": 2
}
