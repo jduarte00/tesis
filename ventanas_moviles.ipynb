{
 "cells": [
  {
   "cell_type": "code",
   "execution_count": 72,
   "metadata": {},
   "outputs": [],
   "source": [
    "import pandas as pd\n",
    "import numpy as np\n",
    "import rie_estimator\n",
    "import csestimator\n",
    "from hcaa_implementation import hcaa_alocation\n"
   ]
  },
  {
   "cell_type": "code",
   "execution_count": 5,
   "metadata": {},
   "outputs": [],
   "source": [
    "precios_americano = pd.read_csv(\n",
    "    \"./sp_500_original_clean.csv\",\n",
    "    index_col=\"Date\",\n",
    "    parse_dates=True,\n",
    ")\n",
    "\n",
    "precios_europeo = pd.read_csv(\n",
    "    \"./european_market_original_clean.csv\",\n",
    "    index_col=\"Date\",\n",
    "    parse_dates=True,\n",
    ")\n",
    "\n",
    "retornos_american = (np.log(precios_americano) - np.log(precios_americano.shift(1))).iloc[1:]\n",
    "retornos_europeo = (np.log(precios_europeo) - np.log(precios_europeo.shift(1))).iloc[1:]"
   ]
  },
  {
   "cell_type": "code",
   "execution_count": 10,
   "metadata": {},
   "outputs": [
    {
     "data": {
      "text/plain": [
       "(2521, 460)"
      ]
     },
     "execution_count": 10,
     "metadata": {},
     "output_type": "execute_result"
    }
   ],
   "source": [
    "retornos_american.shape"
   ]
  },
  {
   "cell_type": "code",
   "execution_count": 11,
   "metadata": {},
   "outputs": [
    {
     "data": {
      "text/plain": [
       "1601"
      ]
     },
     "execution_count": 11,
     "metadata": {},
     "output_type": "execute_result"
    }
   ],
   "source": [
    "2521 - 920"
   ]
  },
  {
   "cell_type": "code",
   "execution_count": 8,
   "metadata": {},
   "outputs": [
    {
     "data": {
      "text/html": [
       "<div>\n",
       "<style scoped>\n",
       "    .dataframe tbody tr th:only-of-type {\n",
       "        vertical-align: middle;\n",
       "    }\n",
       "\n",
       "    .dataframe tbody tr th {\n",
       "        vertical-align: top;\n",
       "    }\n",
       "\n",
       "    .dataframe thead th {\n",
       "        text-align: right;\n",
       "    }\n",
       "</style>\n",
       "<table border=\"1\" class=\"dataframe\">\n",
       "  <thead>\n",
       "    <tr style=\"text-align: right;\">\n",
       "      <th></th>\n",
       "      <th>AD.AS</th>\n",
       "      <th>AGN.AS</th>\n",
       "      <th>AKZA.AS</th>\n",
       "      <th>ASM.AS</th>\n",
       "      <th>ASML.AS</th>\n",
       "      <th>BESI.AS</th>\n",
       "      <th>DSM.AS</th>\n",
       "      <th>HEIA.AS</th>\n",
       "      <th>INGA.AS</th>\n",
       "      <th>KPN.AS</th>\n",
       "      <th>...</th>\n",
       "      <th>NOVN.SW</th>\n",
       "      <th>PGHN.SW</th>\n",
       "      <th>ROG.SW</th>\n",
       "      <th>SCMN.SW</th>\n",
       "      <th>SGSN.SW</th>\n",
       "      <th>SIKA.SW</th>\n",
       "      <th>SLHN.SW</th>\n",
       "      <th>SREN.SW</th>\n",
       "      <th>UBSG.SW</th>\n",
       "      <th>ZURN.SW</th>\n",
       "    </tr>\n",
       "    <tr>\n",
       "      <th>Date</th>\n",
       "      <th></th>\n",
       "      <th></th>\n",
       "      <th></th>\n",
       "      <th></th>\n",
       "      <th></th>\n",
       "      <th></th>\n",
       "      <th></th>\n",
       "      <th></th>\n",
       "      <th></th>\n",
       "      <th></th>\n",
       "      <th></th>\n",
       "      <th></th>\n",
       "      <th></th>\n",
       "      <th></th>\n",
       "      <th></th>\n",
       "      <th></th>\n",
       "      <th></th>\n",
       "      <th></th>\n",
       "      <th></th>\n",
       "      <th></th>\n",
       "      <th></th>\n",
       "    </tr>\n",
       "  </thead>\n",
       "  <tbody>\n",
       "    <tr>\n",
       "      <th>2012-01-04</th>\n",
       "      <td>-0.014088</td>\n",
       "      <td>-0.022437</td>\n",
       "      <td>-0.010624</td>\n",
       "      <td>-0.027017</td>\n",
       "      <td>-0.020262</td>\n",
       "      <td>0.002881</td>\n",
       "      <td>0.004196</td>\n",
       "      <td>-0.009320</td>\n",
       "      <td>-0.014286</td>\n",
       "      <td>-0.021930</td>\n",
       "      <td>...</td>\n",
       "      <td>0.001837</td>\n",
       "      <td>0.000000</td>\n",
       "      <td>0.004929</td>\n",
       "      <td>-0.003060</td>\n",
       "      <td>-0.009491</td>\n",
       "      <td>-0.007121</td>\n",
       "      <td>-0.002822</td>\n",
       "      <td>0.000407</td>\n",
       "      <td>0.003463</td>\n",
       "      <td>-0.001854</td>\n",
       "    </tr>\n",
       "    <tr>\n",
       "      <th>2012-01-05</th>\n",
       "      <td>-0.001469</td>\n",
       "      <td>-0.019362</td>\n",
       "      <td>-0.000924</td>\n",
       "      <td>0.015559</td>\n",
       "      <td>-0.005955</td>\n",
       "      <td>-0.003073</td>\n",
       "      <td>-0.004875</td>\n",
       "      <td>-0.000407</td>\n",
       "      <td>-0.035543</td>\n",
       "      <td>-0.021271</td>\n",
       "      <td>...</td>\n",
       "      <td>-0.001837</td>\n",
       "      <td>-0.030962</td>\n",
       "      <td>0.000614</td>\n",
       "      <td>-0.016292</td>\n",
       "      <td>-0.005738</td>\n",
       "      <td>-0.016071</td>\n",
       "      <td>-0.031585</td>\n",
       "      <td>-0.008172</td>\n",
       "      <td>-0.033395</td>\n",
       "      <td>-0.006982</td>\n",
       "    </tr>\n",
       "    <tr>\n",
       "      <th>2012-01-06</th>\n",
       "      <td>0.002447</td>\n",
       "      <td>0.001628</td>\n",
       "      <td>0.004214</td>\n",
       "      <td>0.019167</td>\n",
       "      <td>0.009387</td>\n",
       "      <td>0.000192</td>\n",
       "      <td>-0.005717</td>\n",
       "      <td>-0.008590</td>\n",
       "      <td>-0.008215</td>\n",
       "      <td>0.000230</td>\n",
       "      <td>...</td>\n",
       "      <td>0.005500</td>\n",
       "      <td>0.000000</td>\n",
       "      <td>0.009172</td>\n",
       "      <td>-0.000283</td>\n",
       "      <td>0.008278</td>\n",
       "      <td>-0.003358</td>\n",
       "      <td>-0.004678</td>\n",
       "      <td>-0.014463</td>\n",
       "      <td>-0.008977</td>\n",
       "      <td>-0.001870</td>\n",
       "    </tr>\n",
       "    <tr>\n",
       "      <th>2012-01-09</th>\n",
       "      <td>0.002928</td>\n",
       "      <td>-0.008166</td>\n",
       "      <td>0.001970</td>\n",
       "      <td>0.007650</td>\n",
       "      <td>0.008991</td>\n",
       "      <td>-0.009662</td>\n",
       "      <td>-0.008087</td>\n",
       "      <td>0.010217</td>\n",
       "      <td>0.006396</td>\n",
       "      <td>-0.001150</td>\n",
       "      <td>...</td>\n",
       "      <td>-0.011973</td>\n",
       "      <td>-0.009479</td>\n",
       "      <td>-0.004270</td>\n",
       "      <td>-0.004543</td>\n",
       "      <td>0.006951</td>\n",
       "      <td>0.008929</td>\n",
       "      <td>-0.026130</td>\n",
       "      <td>-0.005007</td>\n",
       "      <td>-0.035800</td>\n",
       "      <td>-0.007044</td>\n",
       "    </tr>\n",
       "    <tr>\n",
       "      <th>2012-01-10</th>\n",
       "      <td>0.009217</td>\n",
       "      <td>0.071199</td>\n",
       "      <td>0.023335</td>\n",
       "      <td>0.036579</td>\n",
       "      <td>0.002466</td>\n",
       "      <td>0.003876</td>\n",
       "      <td>0.022051</td>\n",
       "      <td>0.001084</td>\n",
       "      <td>0.052686</td>\n",
       "      <td>-0.006349</td>\n",
       "      <td>...</td>\n",
       "      <td>0.001867</td>\n",
       "      <td>0.003170</td>\n",
       "      <td>-0.002448</td>\n",
       "      <td>0.014690</td>\n",
       "      <td>0.019951</td>\n",
       "      <td>0.041888</td>\n",
       "      <td>0.009581</td>\n",
       "      <td>0.031298</td>\n",
       "      <td>0.034898</td>\n",
       "      <td>0.024210</td>\n",
       "    </tr>\n",
       "  </tbody>\n",
       "</table>\n",
       "<p>5 rows × 270 columns</p>\n",
       "</div>"
      ],
      "text/plain": [
       "               AD.AS    AGN.AS   AKZA.AS    ASM.AS   ASML.AS   BESI.AS  \\\n",
       "Date                                                                     \n",
       "2012-01-04 -0.014088 -0.022437 -0.010624 -0.027017 -0.020262  0.002881   \n",
       "2012-01-05 -0.001469 -0.019362 -0.000924  0.015559 -0.005955 -0.003073   \n",
       "2012-01-06  0.002447  0.001628  0.004214  0.019167  0.009387  0.000192   \n",
       "2012-01-09  0.002928 -0.008166  0.001970  0.007650  0.008991 -0.009662   \n",
       "2012-01-10  0.009217  0.071199  0.023335  0.036579  0.002466  0.003876   \n",
       "\n",
       "              DSM.AS   HEIA.AS   INGA.AS    KPN.AS  ...   NOVN.SW   PGHN.SW  \\\n",
       "Date                                                ...                       \n",
       "2012-01-04  0.004196 -0.009320 -0.014286 -0.021930  ...  0.001837  0.000000   \n",
       "2012-01-05 -0.004875 -0.000407 -0.035543 -0.021271  ... -0.001837 -0.030962   \n",
       "2012-01-06 -0.005717 -0.008590 -0.008215  0.000230  ...  0.005500  0.000000   \n",
       "2012-01-09 -0.008087  0.010217  0.006396 -0.001150  ... -0.011973 -0.009479   \n",
       "2012-01-10  0.022051  0.001084  0.052686 -0.006349  ...  0.001867  0.003170   \n",
       "\n",
       "              ROG.SW   SCMN.SW   SGSN.SW   SIKA.SW   SLHN.SW   SREN.SW  \\\n",
       "Date                                                                     \n",
       "2012-01-04  0.004929 -0.003060 -0.009491 -0.007121 -0.002822  0.000407   \n",
       "2012-01-05  0.000614 -0.016292 -0.005738 -0.016071 -0.031585 -0.008172   \n",
       "2012-01-06  0.009172 -0.000283  0.008278 -0.003358 -0.004678 -0.014463   \n",
       "2012-01-09 -0.004270 -0.004543  0.006951  0.008929 -0.026130 -0.005007   \n",
       "2012-01-10 -0.002448  0.014690  0.019951  0.041888  0.009581  0.031298   \n",
       "\n",
       "             UBSG.SW   ZURN.SW  \n",
       "Date                            \n",
       "2012-01-04  0.003463 -0.001854  \n",
       "2012-01-05 -0.033395 -0.006982  \n",
       "2012-01-06 -0.008977 -0.001870  \n",
       "2012-01-09 -0.035800 -0.007044  \n",
       "2012-01-10  0.034898  0.024210  \n",
       "\n",
       "[5 rows x 270 columns]"
      ]
     },
     "execution_count": 8,
     "metadata": {},
     "output_type": "execute_result"
    }
   ],
   "source": [
    "retornos_europeo.head()"
   ]
  },
  {
   "cell_type": "code",
   "execution_count": 22,
   "metadata": {},
   "outputs": [
    {
     "data": {
      "text/plain": [
       "(2521, 460)"
      ]
     },
     "execution_count": 22,
     "metadata": {},
     "output_type": "execute_result"
    }
   ],
   "source": [
    "retornos_american.shape"
   ]
  },
  {
   "cell_type": "code",
   "execution_count": 67,
   "metadata": {},
   "outputs": [
    {
     "name": "stdout",
     "output_type": "stream",
     "text": [
      "(460, 460)\n",
      "(460, 460)\n",
      "(460, 460)\n",
      "(460, 460)\n",
      "(460, 460)\n",
      "(460, 460)\n",
      "(460, 460)\n",
      "(460, 460)\n",
      "(460, 460)\n",
      "(460, 460)\n"
     ]
    }
   ],
   "source": [
    "r_cuad_sample = []\n",
    "r_cuad_rie = []\n",
    "r_cuad_eca_2 = []\n",
    "r_cuad_eca_5 = []\n",
    "r_cuad_eca_8 = []\n",
    "ipr_mark_sample = []\n",
    "ipr_mark_rie = []\n",
    "ipr_mark_eca_2 = []\n",
    "ipr_mark_eca_5 = []\n",
    "ipr_mark_eca_8 = []\n",
    "\n",
    "\n",
    "# 2521\n",
    "for i in range(920, 930):\n",
    "    # elegir los retornos de la ventana de tiempo\n",
    "    selected_returns = retornos_american.iloc[i- 920 :i, :]\n",
    "\n",
    "    # obtener los distintos estimadores\n",
    "    sample_estimator = np.corrcoef(selected_returns.T)\n",
    "    rie_matrix = rie_estimator.get_rie(returns = selected_returns, normalize = False, max_ones=True)\n",
    "    eca_alfa_2 = csestimator.get_shrinkage_est(X_matrix = selected_returns, alpha = 0.2)\n",
    "    eca_alfa_5 = csestimator.get_shrinkage_est(X_matrix = selected_returns, alpha = 0.5)\n",
    "    eca_alfa_8 = csestimator.get_shrinkage_est(X_matrix = selected_returns, alpha = 0.8)\n",
    "    print(eca_alfa_2.shape)\n",
    "    \n",
    "    # se obtienen pesos de markowitz\n",
    "    inverse_sample = np.linalg.inv(sample_estimator)\n",
    "    inverse_rie = np.linalg.inv(rie_matrix)\n",
    "    inverse_eca_2 = np.linalg.inv(eca_alfa_2)\n",
    "    inverse_eca_5 = np.linalg.inv(eca_alfa_5)\n",
    "    inverse_eca_8 = np.linalg.inv(eca_alfa_8)\n",
    "    mark_weights_sample = (inverse_sample @ np.ones(460) )/(np.ones((1,460)) @ inverse_sample @ np.ones(460) )\n",
    "    mark_weigth_rie = (inverse_rie @ np.ones(460) )/(np.ones((1,460)) @ inverse_rie @ np.ones(460) )\n",
    "    mark_weigth_eca_2 = (inverse_eca_2 @ np.ones(460) )/(np.ones((1,460)) @ inverse_eca_2 @ np.ones(460) )\n",
    "    mark_weigth_eca_5 = (inverse_eca_5 @ np.ones(460) )/(np.ones((1,460)) @ inverse_eca_5 @ np.ones(460) )\n",
    "    mark_weigth_eca_8 = (inverse_eca_8 @ np.ones(460) )/(np.ones((1,460)) @ inverse_eca_8 @ np.ones(460) )\n",
    "\n",
    "    \n",
    "\n",
    "    r_cuad_sample.append( 1 / (np.ones((1,460)) @ inverse_sample @ np.ones(460)))\n",
    "    r_cuad_rie.append(1 / (np.ones((1,460)) @ inverse_rie @ np.ones(460)))\n",
    "    r_cuad_eca_2.append( 1 / (np.ones((1,460)) @ inverse_eca_2 @ np.ones(460)))\n",
    "    r_cuad_eca_5.append( 1 / (np.ones((1,460)) @ inverse_eca_5 @ np.ones(460)))\n",
    "    r_cuad_eca_8.append( 1 / (np.ones((1,460)) @ inverse_eca_8 @ np.ones(460)))\n",
    "    # se calcula el IPR\n",
    "    ipr_mark_sample.append((np.abs(mark_weights_sample)**4).sum())\n",
    "    ipr_mark_rie.append((np.abs(mark_weigth_rie)**4).sum())\n",
    "    ipr_mark_eca_2.append((np.abs(mark_weigth_eca_2)**4).sum())\n",
    "    ipr_mark_eca_5.append((np.abs(mark_weigth_eca_5)**4).sum())\n",
    "    ipr_mark_eca_8.append((np.abs(mark_weigth_eca_8)**4).sum())\n",
    "    \n",
    "\n",
    "    #pesos_mark = \n",
    "\n",
    "    #"
   ]
  },
  {
   "cell_type": "code",
   "execution_count": 71,
   "metadata": {},
   "outputs": [
    {
     "data": {
      "text/plain": [
       "[6.713153341447628e-05,\n",
       " 6.859613303619632e-05,\n",
       " 7.137107269782236e-05,\n",
       " 7.125132218454067e-05,\n",
       " 7.280302291752136e-05,\n",
       " 7.225862068553382e-05,\n",
       " 7.346686122104612e-05,\n",
       " 7.195587721274728e-05,\n",
       " 7.156772895945796e-05,\n",
       " 7.081218332877443e-05]"
      ]
     },
     "execution_count": 71,
     "metadata": {},
     "output_type": "execute_result"
    }
   ],
   "source": [
    "ipr_mark_rie"
   ]
  },
  {
   "cell_type": "code",
   "execution_count": 69,
   "metadata": {},
   "outputs": [
    {
     "data": {
      "text/plain": [
       "[0.0025879749806747947,\n",
       " 0.0025663985973995006,\n",
       " 0.0023829352344040614,\n",
       " 0.0016849250953365276,\n",
       " 0.0016114165236562397,\n",
       " 0.0012294753675322545,\n",
       " 0.0014568565049703011,\n",
       " 0.0009994786929651664,\n",
       " 0.000862015237232485,\n",
       " 0.0008732894051241926]"
      ]
     },
     "execution_count": 69,
     "metadata": {},
     "output_type": "execute_result"
    }
   ],
   "source": [
    "ipr_mark_sample"
   ]
  },
  {
   "cell_type": "code",
   "execution_count": 58,
   "metadata": {},
   "outputs": [
    {
     "data": {
      "text/plain": [
       "[array([0.03585049]),\n",
       " array([0.03578093]),\n",
       " array([0.03582521]),\n",
       " array([0.03581353]),\n",
       " array([0.03582637]),\n",
       " array([0.03585791]),\n",
       " array([0.03581295]),\n",
       " array([0.03600424]),\n",
       " array([0.0360504]),\n",
       " array([0.03619362])]"
      ]
     },
     "execution_count": 58,
     "metadata": {},
     "output_type": "execute_result"
    }
   ],
   "source": [
    "r_cuad_sample"
   ]
  },
  {
   "cell_type": "code",
   "execution_count": 59,
   "metadata": {},
   "outputs": [
    {
     "data": {
      "text/plain": [
       "[array([0.08114249]),\n",
       " array([0.07993404]),\n",
       " array([0.07985565]),\n",
       " array([0.08215633]),\n",
       " array([0.080525]),\n",
       " array([0.08095027]),\n",
       " array([0.08216482]),\n",
       " array([0.0814412]),\n",
       " array([0.08021449]),\n",
       " array([0.08031024])]"
      ]
     },
     "execution_count": 59,
     "metadata": {},
     "output_type": "execute_result"
    }
   ],
   "source": [
    "r_cuad_eca_2"
   ]
  },
  {
   "cell_type": "code",
   "execution_count": 60,
   "metadata": {},
   "outputs": [
    {
     "data": {
      "text/plain": [
       "[array([0.11359143]),\n",
       " array([0.11056825]),\n",
       " array([0.11177122]),\n",
       " array([0.11428416]),\n",
       " array([0.11357193]),\n",
       " array([0.11405534]),\n",
       " array([0.11469005]),\n",
       " array([0.11433666]),\n",
       " array([0.1118081]),\n",
       " array([0.11201145])]"
      ]
     },
     "execution_count": 60,
     "metadata": {},
     "output_type": "execute_result"
    }
   ],
   "source": [
    "r_cuad_eca_5"
   ]
  },
  {
   "cell_type": "code",
   "execution_count": 61,
   "metadata": {},
   "outputs": [
    {
     "data": {
      "text/plain": [
       "[array([0.12671828]),\n",
       " array([0.12237987]),\n",
       " array([0.12473815]),\n",
       " array([0.12737308]),\n",
       " array([0.12677546]),\n",
       " array([0.12740488]),\n",
       " array([0.1279785]),\n",
       " array([0.12797706]),\n",
       " array([0.12536748]),\n",
       " array([0.12571895])]"
      ]
     },
     "execution_count": 61,
     "metadata": {},
     "output_type": "execute_result"
    }
   ],
   "source": [
    "r_cuad_eca_8"
   ]
  }
 ],
 "metadata": {
  "kernelspec": {
   "display_name": "Python 3.9.13 ('base')",
   "language": "python",
   "name": "python3"
  },
  "language_info": {
   "codemirror_mode": {
    "name": "ipython",
    "version": 3
   },
   "file_extension": ".py",
   "mimetype": "text/x-python",
   "name": "python",
   "nbconvert_exporter": "python",
   "pygments_lexer": "ipython3",
   "version": "3.9.13"
  },
  "orig_nbformat": 4,
  "vscode": {
   "interpreter": {
    "hash": "0a4675b83e8896a07438ecbb07e1836a1ae032b83ca601d648826ba4bb5dd025"
   }
  }
 },
 "nbformat": 4,
 "nbformat_minor": 2
}
